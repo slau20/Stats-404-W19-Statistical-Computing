{
 "cells": [
  {
   "cell_type": "markdown",
   "metadata": {},
   "source": [
    "STATS 404 Homework 2 "
   ]
  },
  {
   "cell_type": "markdown",
   "metadata": {},
   "source": [
    "Link to the Data Set: \n",
    "https://www.kaggle.com/uciml/human-activity-recognition-with-smartphones/home  "
   ]
  },
  {
   "cell_type": "code",
   "execution_count": 2,
   "metadata": {},
   "outputs": [],
   "source": [
    "import pandas as pd\n",
    "import inspect\n",
    "import matplotlib.pyplot as plt\n",
    "import numpy as np\n",
    "import pandas as pd\n",
    "import random\n",
    "from sklearn.model_selection import GridSearchCV, train_test_split\n",
    "from sklearn.ensemble import RandomForestClassifier\n",
    "from sklearn.metrics import accuracy_score, confusion_matrix, f1_score, \\\n",
    "                            mean_squared_error, roc_auc_score\n",
    "import os"
   ]
  },
  {
   "cell_type": "markdown",
   "metadata": {},
   "source": [
    "Download the data from the link above or test.csv and train.csv included in the folder. The data was split into a testing and training set found in test.csv and train.csv respectively. "
   ]
  },
  {
   "cell_type": "code",
   "execution_count": 3,
   "metadata": {},
   "outputs": [],
   "source": [
    "#Download the data and change directory to your directory\n",
    "#training_name = \"/Users/seannlau/Desktop/Grad School/MAS 404/human-activity-recognition-with-smartphones/train.csv\"\n",
    "#testing_name = \"/Users/seannlau/Desktop/Grad School/MAS 404/human-activity-recognition-with-smartphones/train.csv\"\n",
    "dir_name = os.getcwd()\n",
    "training_file = \"train.csv\"\n",
    "testing_file = \"test.csv\"\n",
    "training_name = os.path.join(dir_name, training_file)\n",
    "testing_name = os.path.join(dir_name, testing_file)"
   ]
  },
  {
   "cell_type": "code",
   "execution_count": 4,
   "metadata": {},
   "outputs": [],
   "source": [
    "train = pd.read_csv(filepath_or_buffer=training_name,\n",
    "                 encoding='latin-1',\n",
    "                 nrows=3609\n",
    "                )"
   ]
  },
  {
   "cell_type": "code",
   "execution_count": 5,
   "metadata": {},
   "outputs": [
    {
     "data": {
      "text/plain": [
       "<Signature (filepath_or_buffer, sep=',', delimiter=None, header='infer', names=None, index_col=None, usecols=None, squeeze=False, prefix=None, mangle_dupe_cols=True, dtype=None, engine=None, converters=None, true_values=None, false_values=None, skipinitialspace=False, skiprows=None, nrows=None, na_values=None, keep_default_na=True, na_filter=True, verbose=False, skip_blank_lines=True, parse_dates=False, infer_datetime_format=False, keep_date_col=False, date_parser=None, dayfirst=False, iterator=False, chunksize=None, compression='infer', thousands=None, decimal=b'.', lineterminator=None, quotechar='\"', quoting=0, escapechar=None, comment=None, encoding=None, dialect=None, tupleize_cols=None, error_bad_lines=True, warn_bad_lines=True, skipfooter=0, doublequote=True, delim_whitespace=False, low_memory=True, memory_map=False, float_precision=None)>"
      ]
     },
     "execution_count": 5,
     "metadata": {},
     "output_type": "execute_result"
    }
   ],
   "source": [
    "inspect.signature(pd.read_csv)"
   ]
  },
  {
   "cell_type": "code",
   "execution_count": 6,
   "metadata": {},
   "outputs": [],
   "source": [
    "test = pd.read_csv(filepath_or_buffer=testing_name,\n",
    "                 encoding='latin-1',\n",
    "                 nrows=1542\n",
    "                )"
   ]
  },
  {
   "cell_type": "code",
   "execution_count": 7,
   "metadata": {},
   "outputs": [
    {
     "data": {
      "text/plain": [
       "<Signature (filepath_or_buffer, sep=',', delimiter=None, header='infer', names=None, index_col=None, usecols=None, squeeze=False, prefix=None, mangle_dupe_cols=True, dtype=None, engine=None, converters=None, true_values=None, false_values=None, skipinitialspace=False, skiprows=None, nrows=None, na_values=None, keep_default_na=True, na_filter=True, verbose=False, skip_blank_lines=True, parse_dates=False, infer_datetime_format=False, keep_date_col=False, date_parser=None, dayfirst=False, iterator=False, chunksize=None, compression='infer', thousands=None, decimal=b'.', lineterminator=None, quotechar='\"', quoting=0, escapechar=None, comment=None, encoding=None, dialect=None, tupleize_cols=None, error_bad_lines=True, warn_bad_lines=True, skipfooter=0, doublequote=True, delim_whitespace=False, low_memory=True, memory_map=False, float_precision=None)>"
      ]
     },
     "execution_count": 7,
     "metadata": {},
     "output_type": "execute_result"
    }
   ],
   "source": [
    "inspect.signature(pd.read_csv)"
   ]
  },
  {
   "cell_type": "code",
   "execution_count": 8,
   "metadata": {},
   "outputs": [
    {
     "data": {
      "text/plain": [
       "(3609, 563)"
      ]
     },
     "execution_count": 8,
     "metadata": {},
     "output_type": "execute_result"
    }
   ],
   "source": [
    "train.shape"
   ]
  },
  {
   "cell_type": "code",
   "execution_count": 9,
   "metadata": {},
   "outputs": [
    {
     "data": {
      "text/plain": [
       "Index(['tBodyAcc-mean()-X', 'tBodyAcc-mean()-Y', 'tBodyAcc-mean()-Z',\n",
       "       'tBodyAcc-std()-X', 'tBodyAcc-std()-Y', 'tBodyAcc-std()-Z',\n",
       "       'tBodyAcc-mad()-X', 'tBodyAcc-mad()-Y', 'tBodyAcc-mad()-Z',\n",
       "       'tBodyAcc-max()-X',\n",
       "       ...\n",
       "       'fBodyBodyGyroJerkMag-kurtosis()', 'angle(tBodyAccMean,gravity)',\n",
       "       'angle(tBodyAccJerkMean),gravityMean)',\n",
       "       'angle(tBodyGyroMean,gravityMean)',\n",
       "       'angle(tBodyGyroJerkMean,gravityMean)', 'angle(X,gravityMean)',\n",
       "       'angle(Y,gravityMean)', 'angle(Z,gravityMean)', 'subject', 'Activity'],\n",
       "      dtype='object', length=563)"
      ]
     },
     "execution_count": 9,
     "metadata": {},
     "output_type": "execute_result"
    }
   ],
   "source": [
    "train.columns"
   ]
  },
  {
   "cell_type": "code",
   "execution_count": 10,
   "metadata": {},
   "outputs": [
    {
     "data": {
      "text/html": [
       "<div>\n",
       "<style scoped>\n",
       "    .dataframe tbody tr th:only-of-type {\n",
       "        vertical-align: middle;\n",
       "    }\n",
       "\n",
       "    .dataframe tbody tr th {\n",
       "        vertical-align: top;\n",
       "    }\n",
       "\n",
       "    .dataframe thead th {\n",
       "        text-align: right;\n",
       "    }\n",
       "</style>\n",
       "<table border=\"1\" class=\"dataframe\">\n",
       "  <thead>\n",
       "    <tr style=\"text-align: right;\">\n",
       "      <th></th>\n",
       "      <th>tBodyAcc-mean()-X</th>\n",
       "      <th>tBodyAcc-mean()-Y</th>\n",
       "      <th>tBodyAcc-mean()-Z</th>\n",
       "      <th>tBodyAcc-std()-X</th>\n",
       "      <th>tBodyAcc-std()-Y</th>\n",
       "      <th>tBodyAcc-std()-Z</th>\n",
       "      <th>tBodyAcc-mad()-X</th>\n",
       "      <th>tBodyAcc-mad()-Y</th>\n",
       "      <th>tBodyAcc-mad()-Z</th>\n",
       "      <th>tBodyAcc-max()-X</th>\n",
       "      <th>...</th>\n",
       "      <th>fBodyBodyGyroJerkMag-kurtosis()</th>\n",
       "      <th>angle(tBodyAccMean,gravity)</th>\n",
       "      <th>angle(tBodyAccJerkMean),gravityMean)</th>\n",
       "      <th>angle(tBodyGyroMean,gravityMean)</th>\n",
       "      <th>angle(tBodyGyroJerkMean,gravityMean)</th>\n",
       "      <th>angle(X,gravityMean)</th>\n",
       "      <th>angle(Y,gravityMean)</th>\n",
       "      <th>angle(Z,gravityMean)</th>\n",
       "      <th>subject</th>\n",
       "      <th>Activity</th>\n",
       "    </tr>\n",
       "  </thead>\n",
       "  <tbody>\n",
       "    <tr>\n",
       "      <th>0</th>\n",
       "      <td>0.288585</td>\n",
       "      <td>-0.020294</td>\n",
       "      <td>-0.132905</td>\n",
       "      <td>-0.995279</td>\n",
       "      <td>-0.983111</td>\n",
       "      <td>-0.913526</td>\n",
       "      <td>-0.995112</td>\n",
       "      <td>-0.983185</td>\n",
       "      <td>-0.923527</td>\n",
       "      <td>-0.934724</td>\n",
       "      <td>...</td>\n",
       "      <td>-0.710304</td>\n",
       "      <td>-0.112754</td>\n",
       "      <td>0.030400</td>\n",
       "      <td>-0.464761</td>\n",
       "      <td>-0.018446</td>\n",
       "      <td>-0.841247</td>\n",
       "      <td>0.179941</td>\n",
       "      <td>-0.058627</td>\n",
       "      <td>1</td>\n",
       "      <td>STANDING</td>\n",
       "    </tr>\n",
       "    <tr>\n",
       "      <th>1</th>\n",
       "      <td>0.278419</td>\n",
       "      <td>-0.016411</td>\n",
       "      <td>-0.123520</td>\n",
       "      <td>-0.998245</td>\n",
       "      <td>-0.975300</td>\n",
       "      <td>-0.960322</td>\n",
       "      <td>-0.998807</td>\n",
       "      <td>-0.974914</td>\n",
       "      <td>-0.957686</td>\n",
       "      <td>-0.943068</td>\n",
       "      <td>...</td>\n",
       "      <td>-0.861499</td>\n",
       "      <td>0.053477</td>\n",
       "      <td>-0.007435</td>\n",
       "      <td>-0.732626</td>\n",
       "      <td>0.703511</td>\n",
       "      <td>-0.844788</td>\n",
       "      <td>0.180289</td>\n",
       "      <td>-0.054317</td>\n",
       "      <td>1</td>\n",
       "      <td>STANDING</td>\n",
       "    </tr>\n",
       "    <tr>\n",
       "      <th>2</th>\n",
       "      <td>0.279653</td>\n",
       "      <td>-0.019467</td>\n",
       "      <td>-0.113462</td>\n",
       "      <td>-0.995380</td>\n",
       "      <td>-0.967187</td>\n",
       "      <td>-0.978944</td>\n",
       "      <td>-0.996520</td>\n",
       "      <td>-0.963668</td>\n",
       "      <td>-0.977469</td>\n",
       "      <td>-0.938692</td>\n",
       "      <td>...</td>\n",
       "      <td>-0.760104</td>\n",
       "      <td>-0.118559</td>\n",
       "      <td>0.177899</td>\n",
       "      <td>0.100699</td>\n",
       "      <td>0.808529</td>\n",
       "      <td>-0.848933</td>\n",
       "      <td>0.180637</td>\n",
       "      <td>-0.049118</td>\n",
       "      <td>1</td>\n",
       "      <td>STANDING</td>\n",
       "    </tr>\n",
       "    <tr>\n",
       "      <th>3</th>\n",
       "      <td>0.279174</td>\n",
       "      <td>-0.026201</td>\n",
       "      <td>-0.123283</td>\n",
       "      <td>-0.996091</td>\n",
       "      <td>-0.983403</td>\n",
       "      <td>-0.990675</td>\n",
       "      <td>-0.997099</td>\n",
       "      <td>-0.982750</td>\n",
       "      <td>-0.989302</td>\n",
       "      <td>-0.938692</td>\n",
       "      <td>...</td>\n",
       "      <td>-0.482845</td>\n",
       "      <td>-0.036788</td>\n",
       "      <td>-0.012892</td>\n",
       "      <td>0.640011</td>\n",
       "      <td>-0.485366</td>\n",
       "      <td>-0.848649</td>\n",
       "      <td>0.181935</td>\n",
       "      <td>-0.047663</td>\n",
       "      <td>1</td>\n",
       "      <td>STANDING</td>\n",
       "    </tr>\n",
       "    <tr>\n",
       "      <th>4</th>\n",
       "      <td>0.276629</td>\n",
       "      <td>-0.016570</td>\n",
       "      <td>-0.115362</td>\n",
       "      <td>-0.998139</td>\n",
       "      <td>-0.980817</td>\n",
       "      <td>-0.990482</td>\n",
       "      <td>-0.998321</td>\n",
       "      <td>-0.979672</td>\n",
       "      <td>-0.990441</td>\n",
       "      <td>-0.942469</td>\n",
       "      <td>...</td>\n",
       "      <td>-0.699205</td>\n",
       "      <td>0.123320</td>\n",
       "      <td>0.122542</td>\n",
       "      <td>0.693578</td>\n",
       "      <td>-0.615971</td>\n",
       "      <td>-0.847865</td>\n",
       "      <td>0.185151</td>\n",
       "      <td>-0.043892</td>\n",
       "      <td>1</td>\n",
       "      <td>STANDING</td>\n",
       "    </tr>\n",
       "  </tbody>\n",
       "</table>\n",
       "<p>5 rows × 563 columns</p>\n",
       "</div>"
      ],
      "text/plain": [
       "   tBodyAcc-mean()-X  tBodyAcc-mean()-Y  tBodyAcc-mean()-Z  tBodyAcc-std()-X  \\\n",
       "0           0.288585          -0.020294          -0.132905         -0.995279   \n",
       "1           0.278419          -0.016411          -0.123520         -0.998245   \n",
       "2           0.279653          -0.019467          -0.113462         -0.995380   \n",
       "3           0.279174          -0.026201          -0.123283         -0.996091   \n",
       "4           0.276629          -0.016570          -0.115362         -0.998139   \n",
       "\n",
       "   tBodyAcc-std()-Y  tBodyAcc-std()-Z  tBodyAcc-mad()-X  tBodyAcc-mad()-Y  \\\n",
       "0         -0.983111         -0.913526         -0.995112         -0.983185   \n",
       "1         -0.975300         -0.960322         -0.998807         -0.974914   \n",
       "2         -0.967187         -0.978944         -0.996520         -0.963668   \n",
       "3         -0.983403         -0.990675         -0.997099         -0.982750   \n",
       "4         -0.980817         -0.990482         -0.998321         -0.979672   \n",
       "\n",
       "   tBodyAcc-mad()-Z  tBodyAcc-max()-X    ...     \\\n",
       "0         -0.923527         -0.934724    ...      \n",
       "1         -0.957686         -0.943068    ...      \n",
       "2         -0.977469         -0.938692    ...      \n",
       "3         -0.989302         -0.938692    ...      \n",
       "4         -0.990441         -0.942469    ...      \n",
       "\n",
       "   fBodyBodyGyroJerkMag-kurtosis()  angle(tBodyAccMean,gravity)  \\\n",
       "0                        -0.710304                    -0.112754   \n",
       "1                        -0.861499                     0.053477   \n",
       "2                        -0.760104                    -0.118559   \n",
       "3                        -0.482845                    -0.036788   \n",
       "4                        -0.699205                     0.123320   \n",
       "\n",
       "   angle(tBodyAccJerkMean),gravityMean)  angle(tBodyGyroMean,gravityMean)  \\\n",
       "0                              0.030400                         -0.464761   \n",
       "1                             -0.007435                         -0.732626   \n",
       "2                              0.177899                          0.100699   \n",
       "3                             -0.012892                          0.640011   \n",
       "4                              0.122542                          0.693578   \n",
       "\n",
       "   angle(tBodyGyroJerkMean,gravityMean)  angle(X,gravityMean)  \\\n",
       "0                             -0.018446             -0.841247   \n",
       "1                              0.703511             -0.844788   \n",
       "2                              0.808529             -0.848933   \n",
       "3                             -0.485366             -0.848649   \n",
       "4                             -0.615971             -0.847865   \n",
       "\n",
       "   angle(Y,gravityMean)  angle(Z,gravityMean)  subject  Activity  \n",
       "0              0.179941             -0.058627        1  STANDING  \n",
       "1              0.180289             -0.054317        1  STANDING  \n",
       "2              0.180637             -0.049118        1  STANDING  \n",
       "3              0.181935             -0.047663        1  STANDING  \n",
       "4              0.185151             -0.043892        1  STANDING  \n",
       "\n",
       "[5 rows x 563 columns]"
      ]
     },
     "execution_count": 10,
     "metadata": {},
     "output_type": "execute_result"
    }
   ],
   "source": [
    "train.head()"
   ]
  },
  {
   "cell_type": "code",
   "execution_count": 11,
   "metadata": {},
   "outputs": [
    {
     "data": {
      "text/html": [
       "<div>\n",
       "<style scoped>\n",
       "    .dataframe tbody tr th:only-of-type {\n",
       "        vertical-align: middle;\n",
       "    }\n",
       "\n",
       "    .dataframe tbody tr th {\n",
       "        vertical-align: top;\n",
       "    }\n",
       "\n",
       "    .dataframe thead th {\n",
       "        text-align: right;\n",
       "    }\n",
       "</style>\n",
       "<table border=\"1\" class=\"dataframe\">\n",
       "  <thead>\n",
       "    <tr style=\"text-align: right;\">\n",
       "      <th></th>\n",
       "      <th>tBodyAcc-mean()-X</th>\n",
       "      <th>tBodyAcc-mean()-Y</th>\n",
       "      <th>tBodyAcc-mean()-Z</th>\n",
       "      <th>tBodyAcc-std()-X</th>\n",
       "      <th>tBodyAcc-std()-Y</th>\n",
       "      <th>tBodyAcc-std()-Z</th>\n",
       "      <th>tBodyAcc-mad()-X</th>\n",
       "      <th>tBodyAcc-mad()-Y</th>\n",
       "      <th>tBodyAcc-mad()-Z</th>\n",
       "      <th>tBodyAcc-max()-X</th>\n",
       "      <th>...</th>\n",
       "      <th>fBodyBodyGyroJerkMag-kurtosis()</th>\n",
       "      <th>angle(tBodyAccMean,gravity)</th>\n",
       "      <th>angle(tBodyAccJerkMean),gravityMean)</th>\n",
       "      <th>angle(tBodyGyroMean,gravityMean)</th>\n",
       "      <th>angle(tBodyGyroJerkMean,gravityMean)</th>\n",
       "      <th>angle(X,gravityMean)</th>\n",
       "      <th>angle(Y,gravityMean)</th>\n",
       "      <th>angle(Z,gravityMean)</th>\n",
       "      <th>subject</th>\n",
       "      <th>Activity</th>\n",
       "    </tr>\n",
       "  </thead>\n",
       "  <tbody>\n",
       "    <tr>\n",
       "      <th>3604</th>\n",
       "      <td>0.293316</td>\n",
       "      <td>-0.013523</td>\n",
       "      <td>-0.108274</td>\n",
       "      <td>0.350021</td>\n",
       "      <td>0.007491</td>\n",
       "      <td>-0.336062</td>\n",
       "      <td>0.301454</td>\n",
       "      <td>0.005145</td>\n",
       "      <td>-0.308498</td>\n",
       "      <td>0.536498</td>\n",
       "      <td>...</td>\n",
       "      <td>-0.812265</td>\n",
       "      <td>-0.506308</td>\n",
       "      <td>-0.319360</td>\n",
       "      <td>-0.926544</td>\n",
       "      <td>0.553580</td>\n",
       "      <td>-0.750098</td>\n",
       "      <td>0.264407</td>\n",
       "      <td>0.065658</td>\n",
       "      <td>17</td>\n",
       "      <td>WALKING_DOWNSTAIRS</td>\n",
       "    </tr>\n",
       "    <tr>\n",
       "      <th>3605</th>\n",
       "      <td>0.270713</td>\n",
       "      <td>-0.027077</td>\n",
       "      <td>-0.138842</td>\n",
       "      <td>-0.967419</td>\n",
       "      <td>-0.895151</td>\n",
       "      <td>-0.868173</td>\n",
       "      <td>-0.976268</td>\n",
       "      <td>-0.890496</td>\n",
       "      <td>-0.868398</td>\n",
       "      <td>-0.886681</td>\n",
       "      <td>...</td>\n",
       "      <td>0.458445</td>\n",
       "      <td>0.094082</td>\n",
       "      <td>0.176280</td>\n",
       "      <td>-0.254767</td>\n",
       "      <td>-0.152499</td>\n",
       "      <td>-0.740232</td>\n",
       "      <td>0.251008</td>\n",
       "      <td>-0.078908</td>\n",
       "      <td>19</td>\n",
       "      <td>STANDING</td>\n",
       "    </tr>\n",
       "    <tr>\n",
       "      <th>3606</th>\n",
       "      <td>0.271944</td>\n",
       "      <td>-0.045884</td>\n",
       "      <td>-0.126173</td>\n",
       "      <td>-0.991223</td>\n",
       "      <td>-0.950523</td>\n",
       "      <td>-0.914417</td>\n",
       "      <td>-0.991981</td>\n",
       "      <td>-0.951913</td>\n",
       "      <td>-0.912103</td>\n",
       "      <td>-0.933531</td>\n",
       "      <td>...</td>\n",
       "      <td>-0.859555</td>\n",
       "      <td>-0.054754</td>\n",
       "      <td>-0.045060</td>\n",
       "      <td>0.104774</td>\n",
       "      <td>0.623993</td>\n",
       "      <td>-0.740893</td>\n",
       "      <td>0.254909</td>\n",
       "      <td>-0.071021</td>\n",
       "      <td>19</td>\n",
       "      <td>STANDING</td>\n",
       "    </tr>\n",
       "    <tr>\n",
       "      <th>3607</th>\n",
       "      <td>0.284444</td>\n",
       "      <td>-0.028633</td>\n",
       "      <td>-0.171367</td>\n",
       "      <td>-0.986774</td>\n",
       "      <td>-0.942196</td>\n",
       "      <td>-0.939259</td>\n",
       "      <td>-0.989741</td>\n",
       "      <td>-0.949371</td>\n",
       "      <td>-0.933053</td>\n",
       "      <td>-0.912860</td>\n",
       "      <td>...</td>\n",
       "      <td>-0.844611</td>\n",
       "      <td>-0.008049</td>\n",
       "      <td>-0.083601</td>\n",
       "      <td>0.139678</td>\n",
       "      <td>0.350044</td>\n",
       "      <td>-0.730800</td>\n",
       "      <td>0.266245</td>\n",
       "      <td>-0.063743</td>\n",
       "      <td>19</td>\n",
       "      <td>STANDING</td>\n",
       "    </tr>\n",
       "    <tr>\n",
       "      <th>3608</th>\n",
       "      <td>0.280578</td>\n",
       "      <td>-0.015261</td>\n",
       "      <td>-0.124141</td>\n",
       "      <td>-0.986764</td>\n",
       "      <td>-0.933964</td>\n",
       "      <td>-0.896328</td>\n",
       "      <td>-0.989916</td>\n",
       "      <td>-0.938190</td>\n",
       "      <td>-0.888280</td>\n",
       "      <td>-0.912860</td>\n",
       "      <td>...</td>\n",
       "      <td>-0.308833</td>\n",
       "      <td>0.020519</td>\n",
       "      <td>0.023891</td>\n",
       "      <td>-0.151682</td>\n",
       "      <td>-0.728584</td>\n",
       "      <td>-0.732082</td>\n",
       "      <td>0.271724</td>\n",
       "      <td>-0.047999</td>\n",
       "      <td>19</td>\n",
       "      <td>STANDING</td>\n",
       "    </tr>\n",
       "  </tbody>\n",
       "</table>\n",
       "<p>5 rows × 563 columns</p>\n",
       "</div>"
      ],
      "text/plain": [
       "      tBodyAcc-mean()-X  tBodyAcc-mean()-Y  tBodyAcc-mean()-Z  \\\n",
       "3604           0.293316          -0.013523          -0.108274   \n",
       "3605           0.270713          -0.027077          -0.138842   \n",
       "3606           0.271944          -0.045884          -0.126173   \n",
       "3607           0.284444          -0.028633          -0.171367   \n",
       "3608           0.280578          -0.015261          -0.124141   \n",
       "\n",
       "      tBodyAcc-std()-X  tBodyAcc-std()-Y  tBodyAcc-std()-Z  tBodyAcc-mad()-X  \\\n",
       "3604          0.350021          0.007491         -0.336062          0.301454   \n",
       "3605         -0.967419         -0.895151         -0.868173         -0.976268   \n",
       "3606         -0.991223         -0.950523         -0.914417         -0.991981   \n",
       "3607         -0.986774         -0.942196         -0.939259         -0.989741   \n",
       "3608         -0.986764         -0.933964         -0.896328         -0.989916   \n",
       "\n",
       "      tBodyAcc-mad()-Y  tBodyAcc-mad()-Z  tBodyAcc-max()-X  \\\n",
       "3604          0.005145         -0.308498          0.536498   \n",
       "3605         -0.890496         -0.868398         -0.886681   \n",
       "3606         -0.951913         -0.912103         -0.933531   \n",
       "3607         -0.949371         -0.933053         -0.912860   \n",
       "3608         -0.938190         -0.888280         -0.912860   \n",
       "\n",
       "             ...          fBodyBodyGyroJerkMag-kurtosis()  \\\n",
       "3604         ...                                -0.812265   \n",
       "3605         ...                                 0.458445   \n",
       "3606         ...                                -0.859555   \n",
       "3607         ...                                -0.844611   \n",
       "3608         ...                                -0.308833   \n",
       "\n",
       "      angle(tBodyAccMean,gravity)  angle(tBodyAccJerkMean),gravityMean)  \\\n",
       "3604                    -0.506308                             -0.319360   \n",
       "3605                     0.094082                              0.176280   \n",
       "3606                    -0.054754                             -0.045060   \n",
       "3607                    -0.008049                             -0.083601   \n",
       "3608                     0.020519                              0.023891   \n",
       "\n",
       "      angle(tBodyGyroMean,gravityMean)  angle(tBodyGyroJerkMean,gravityMean)  \\\n",
       "3604                         -0.926544                              0.553580   \n",
       "3605                         -0.254767                             -0.152499   \n",
       "3606                          0.104774                              0.623993   \n",
       "3607                          0.139678                              0.350044   \n",
       "3608                         -0.151682                             -0.728584   \n",
       "\n",
       "      angle(X,gravityMean)  angle(Y,gravityMean)  angle(Z,gravityMean)  \\\n",
       "3604             -0.750098              0.264407              0.065658   \n",
       "3605             -0.740232              0.251008             -0.078908   \n",
       "3606             -0.740893              0.254909             -0.071021   \n",
       "3607             -0.730800              0.266245             -0.063743   \n",
       "3608             -0.732082              0.271724             -0.047999   \n",
       "\n",
       "      subject            Activity  \n",
       "3604       17  WALKING_DOWNSTAIRS  \n",
       "3605       19            STANDING  \n",
       "3606       19            STANDING  \n",
       "3607       19            STANDING  \n",
       "3608       19            STANDING  \n",
       "\n",
       "[5 rows x 563 columns]"
      ]
     },
     "execution_count": 11,
     "metadata": {},
     "output_type": "execute_result"
    }
   ],
   "source": [
    "train.tail()"
   ]
  },
  {
   "cell_type": "code",
   "execution_count": 12,
   "metadata": {},
   "outputs": [
    {
     "data": {
      "text/plain": [
       "False"
      ]
     },
     "execution_count": 12,
     "metadata": {},
     "output_type": "execute_result"
    }
   ],
   "source": [
    "train.isnull().values.any()"
   ]
  },
  {
   "cell_type": "code",
   "execution_count": 13,
   "metadata": {},
   "outputs": [
    {
     "data": {
      "text/plain": [
       "(1542, 563)"
      ]
     },
     "execution_count": 13,
     "metadata": {},
     "output_type": "execute_result"
    }
   ],
   "source": [
    "test.shape"
   ]
  },
  {
   "cell_type": "code",
   "execution_count": 14,
   "metadata": {},
   "outputs": [
    {
     "data": {
      "text/plain": [
       "Index(['tBodyAcc-mean()-X', 'tBodyAcc-mean()-Y', 'tBodyAcc-mean()-Z',\n",
       "       'tBodyAcc-std()-X', 'tBodyAcc-std()-Y', 'tBodyAcc-std()-Z',\n",
       "       'tBodyAcc-mad()-X', 'tBodyAcc-mad()-Y', 'tBodyAcc-mad()-Z',\n",
       "       'tBodyAcc-max()-X',\n",
       "       ...\n",
       "       'fBodyBodyGyroJerkMag-kurtosis()', 'angle(tBodyAccMean,gravity)',\n",
       "       'angle(tBodyAccJerkMean),gravityMean)',\n",
       "       'angle(tBodyGyroMean,gravityMean)',\n",
       "       'angle(tBodyGyroJerkMean,gravityMean)', 'angle(X,gravityMean)',\n",
       "       'angle(Y,gravityMean)', 'angle(Z,gravityMean)', 'subject', 'Activity'],\n",
       "      dtype='object', length=563)"
      ]
     },
     "execution_count": 14,
     "metadata": {},
     "output_type": "execute_result"
    }
   ],
   "source": [
    "test.columns"
   ]
  },
  {
   "cell_type": "code",
   "execution_count": 15,
   "metadata": {},
   "outputs": [
    {
     "data": {
      "text/html": [
       "<div>\n",
       "<style scoped>\n",
       "    .dataframe tbody tr th:only-of-type {\n",
       "        vertical-align: middle;\n",
       "    }\n",
       "\n",
       "    .dataframe tbody tr th {\n",
       "        vertical-align: top;\n",
       "    }\n",
       "\n",
       "    .dataframe thead th {\n",
       "        text-align: right;\n",
       "    }\n",
       "</style>\n",
       "<table border=\"1\" class=\"dataframe\">\n",
       "  <thead>\n",
       "    <tr style=\"text-align: right;\">\n",
       "      <th></th>\n",
       "      <th>tBodyAcc-mean()-X</th>\n",
       "      <th>tBodyAcc-mean()-Y</th>\n",
       "      <th>tBodyAcc-mean()-Z</th>\n",
       "      <th>tBodyAcc-std()-X</th>\n",
       "      <th>tBodyAcc-std()-Y</th>\n",
       "      <th>tBodyAcc-std()-Z</th>\n",
       "      <th>tBodyAcc-mad()-X</th>\n",
       "      <th>tBodyAcc-mad()-Y</th>\n",
       "      <th>tBodyAcc-mad()-Z</th>\n",
       "      <th>tBodyAcc-max()-X</th>\n",
       "      <th>...</th>\n",
       "      <th>fBodyBodyGyroJerkMag-kurtosis()</th>\n",
       "      <th>angle(tBodyAccMean,gravity)</th>\n",
       "      <th>angle(tBodyAccJerkMean),gravityMean)</th>\n",
       "      <th>angle(tBodyGyroMean,gravityMean)</th>\n",
       "      <th>angle(tBodyGyroJerkMean,gravityMean)</th>\n",
       "      <th>angle(X,gravityMean)</th>\n",
       "      <th>angle(Y,gravityMean)</th>\n",
       "      <th>angle(Z,gravityMean)</th>\n",
       "      <th>subject</th>\n",
       "      <th>Activity</th>\n",
       "    </tr>\n",
       "  </thead>\n",
       "  <tbody>\n",
       "    <tr>\n",
       "      <th>0</th>\n",
       "      <td>0.257178</td>\n",
       "      <td>-0.023285</td>\n",
       "      <td>-0.014654</td>\n",
       "      <td>-0.938404</td>\n",
       "      <td>-0.920091</td>\n",
       "      <td>-0.667683</td>\n",
       "      <td>-0.952501</td>\n",
       "      <td>-0.925249</td>\n",
       "      <td>-0.674302</td>\n",
       "      <td>-0.894088</td>\n",
       "      <td>...</td>\n",
       "      <td>-0.705974</td>\n",
       "      <td>0.006462</td>\n",
       "      <td>0.162920</td>\n",
       "      <td>-0.825886</td>\n",
       "      <td>0.271151</td>\n",
       "      <td>-0.720009</td>\n",
       "      <td>0.276801</td>\n",
       "      <td>-0.057978</td>\n",
       "      <td>2</td>\n",
       "      <td>STANDING</td>\n",
       "    </tr>\n",
       "    <tr>\n",
       "      <th>1</th>\n",
       "      <td>0.286027</td>\n",
       "      <td>-0.013163</td>\n",
       "      <td>-0.119083</td>\n",
       "      <td>-0.975415</td>\n",
       "      <td>-0.967458</td>\n",
       "      <td>-0.944958</td>\n",
       "      <td>-0.986799</td>\n",
       "      <td>-0.968401</td>\n",
       "      <td>-0.945823</td>\n",
       "      <td>-0.894088</td>\n",
       "      <td>...</td>\n",
       "      <td>-0.594944</td>\n",
       "      <td>-0.083495</td>\n",
       "      <td>0.017500</td>\n",
       "      <td>-0.434375</td>\n",
       "      <td>0.920593</td>\n",
       "      <td>-0.698091</td>\n",
       "      <td>0.281343</td>\n",
       "      <td>-0.083898</td>\n",
       "      <td>2</td>\n",
       "      <td>STANDING</td>\n",
       "    </tr>\n",
       "    <tr>\n",
       "      <th>2</th>\n",
       "      <td>0.275485</td>\n",
       "      <td>-0.026050</td>\n",
       "      <td>-0.118152</td>\n",
       "      <td>-0.993819</td>\n",
       "      <td>-0.969926</td>\n",
       "      <td>-0.962748</td>\n",
       "      <td>-0.994403</td>\n",
       "      <td>-0.970735</td>\n",
       "      <td>-0.963483</td>\n",
       "      <td>-0.939260</td>\n",
       "      <td>...</td>\n",
       "      <td>-0.640736</td>\n",
       "      <td>-0.034956</td>\n",
       "      <td>0.202302</td>\n",
       "      <td>0.064103</td>\n",
       "      <td>0.145068</td>\n",
       "      <td>-0.702771</td>\n",
       "      <td>0.280083</td>\n",
       "      <td>-0.079346</td>\n",
       "      <td>2</td>\n",
       "      <td>STANDING</td>\n",
       "    </tr>\n",
       "    <tr>\n",
       "      <th>3</th>\n",
       "      <td>0.270298</td>\n",
       "      <td>-0.032614</td>\n",
       "      <td>-0.117520</td>\n",
       "      <td>-0.994743</td>\n",
       "      <td>-0.973268</td>\n",
       "      <td>-0.967091</td>\n",
       "      <td>-0.995274</td>\n",
       "      <td>-0.974471</td>\n",
       "      <td>-0.968897</td>\n",
       "      <td>-0.938610</td>\n",
       "      <td>...</td>\n",
       "      <td>-0.736124</td>\n",
       "      <td>-0.017067</td>\n",
       "      <td>0.154438</td>\n",
       "      <td>0.340134</td>\n",
       "      <td>0.296407</td>\n",
       "      <td>-0.698954</td>\n",
       "      <td>0.284114</td>\n",
       "      <td>-0.077108</td>\n",
       "      <td>2</td>\n",
       "      <td>STANDING</td>\n",
       "    </tr>\n",
       "    <tr>\n",
       "      <th>4</th>\n",
       "      <td>0.274833</td>\n",
       "      <td>-0.027848</td>\n",
       "      <td>-0.129527</td>\n",
       "      <td>-0.993852</td>\n",
       "      <td>-0.967445</td>\n",
       "      <td>-0.978295</td>\n",
       "      <td>-0.994111</td>\n",
       "      <td>-0.965953</td>\n",
       "      <td>-0.977346</td>\n",
       "      <td>-0.938610</td>\n",
       "      <td>...</td>\n",
       "      <td>-0.846595</td>\n",
       "      <td>-0.002223</td>\n",
       "      <td>-0.040046</td>\n",
       "      <td>0.736715</td>\n",
       "      <td>-0.118545</td>\n",
       "      <td>-0.692245</td>\n",
       "      <td>0.290722</td>\n",
       "      <td>-0.073857</td>\n",
       "      <td>2</td>\n",
       "      <td>STANDING</td>\n",
       "    </tr>\n",
       "  </tbody>\n",
       "</table>\n",
       "<p>5 rows × 563 columns</p>\n",
       "</div>"
      ],
      "text/plain": [
       "   tBodyAcc-mean()-X  tBodyAcc-mean()-Y  tBodyAcc-mean()-Z  tBodyAcc-std()-X  \\\n",
       "0           0.257178          -0.023285          -0.014654         -0.938404   \n",
       "1           0.286027          -0.013163          -0.119083         -0.975415   \n",
       "2           0.275485          -0.026050          -0.118152         -0.993819   \n",
       "3           0.270298          -0.032614          -0.117520         -0.994743   \n",
       "4           0.274833          -0.027848          -0.129527         -0.993852   \n",
       "\n",
       "   tBodyAcc-std()-Y  tBodyAcc-std()-Z  tBodyAcc-mad()-X  tBodyAcc-mad()-Y  \\\n",
       "0         -0.920091         -0.667683         -0.952501         -0.925249   \n",
       "1         -0.967458         -0.944958         -0.986799         -0.968401   \n",
       "2         -0.969926         -0.962748         -0.994403         -0.970735   \n",
       "3         -0.973268         -0.967091         -0.995274         -0.974471   \n",
       "4         -0.967445         -0.978295         -0.994111         -0.965953   \n",
       "\n",
       "   tBodyAcc-mad()-Z  tBodyAcc-max()-X    ...     \\\n",
       "0         -0.674302         -0.894088    ...      \n",
       "1         -0.945823         -0.894088    ...      \n",
       "2         -0.963483         -0.939260    ...      \n",
       "3         -0.968897         -0.938610    ...      \n",
       "4         -0.977346         -0.938610    ...      \n",
       "\n",
       "   fBodyBodyGyroJerkMag-kurtosis()  angle(tBodyAccMean,gravity)  \\\n",
       "0                        -0.705974                     0.006462   \n",
       "1                        -0.594944                    -0.083495   \n",
       "2                        -0.640736                    -0.034956   \n",
       "3                        -0.736124                    -0.017067   \n",
       "4                        -0.846595                    -0.002223   \n",
       "\n",
       "   angle(tBodyAccJerkMean),gravityMean)  angle(tBodyGyroMean,gravityMean)  \\\n",
       "0                              0.162920                         -0.825886   \n",
       "1                              0.017500                         -0.434375   \n",
       "2                              0.202302                          0.064103   \n",
       "3                              0.154438                          0.340134   \n",
       "4                             -0.040046                          0.736715   \n",
       "\n",
       "   angle(tBodyGyroJerkMean,gravityMean)  angle(X,gravityMean)  \\\n",
       "0                              0.271151             -0.720009   \n",
       "1                              0.920593             -0.698091   \n",
       "2                              0.145068             -0.702771   \n",
       "3                              0.296407             -0.698954   \n",
       "4                             -0.118545             -0.692245   \n",
       "\n",
       "   angle(Y,gravityMean)  angle(Z,gravityMean)  subject  Activity  \n",
       "0              0.276801             -0.057978        2  STANDING  \n",
       "1              0.281343             -0.083898        2  STANDING  \n",
       "2              0.280083             -0.079346        2  STANDING  \n",
       "3              0.284114             -0.077108        2  STANDING  \n",
       "4              0.290722             -0.073857        2  STANDING  \n",
       "\n",
       "[5 rows x 563 columns]"
      ]
     },
     "execution_count": 15,
     "metadata": {},
     "output_type": "execute_result"
    }
   ],
   "source": [
    "test.head()"
   ]
  },
  {
   "cell_type": "code",
   "execution_count": 16,
   "metadata": {},
   "outputs": [
    {
     "data": {
      "text/html": [
       "<div>\n",
       "<style scoped>\n",
       "    .dataframe tbody tr th:only-of-type {\n",
       "        vertical-align: middle;\n",
       "    }\n",
       "\n",
       "    .dataframe tbody tr th {\n",
       "        vertical-align: top;\n",
       "    }\n",
       "\n",
       "    .dataframe thead th {\n",
       "        text-align: right;\n",
       "    }\n",
       "</style>\n",
       "<table border=\"1\" class=\"dataframe\">\n",
       "  <thead>\n",
       "    <tr style=\"text-align: right;\">\n",
       "      <th></th>\n",
       "      <th>tBodyAcc-mean()-X</th>\n",
       "      <th>tBodyAcc-mean()-Y</th>\n",
       "      <th>tBodyAcc-mean()-Z</th>\n",
       "      <th>tBodyAcc-std()-X</th>\n",
       "      <th>tBodyAcc-std()-Y</th>\n",
       "      <th>tBodyAcc-std()-Z</th>\n",
       "      <th>tBodyAcc-mad()-X</th>\n",
       "      <th>tBodyAcc-mad()-Y</th>\n",
       "      <th>tBodyAcc-mad()-Z</th>\n",
       "      <th>tBodyAcc-max()-X</th>\n",
       "      <th>...</th>\n",
       "      <th>fBodyBodyGyroJerkMag-kurtosis()</th>\n",
       "      <th>angle(tBodyAccMean,gravity)</th>\n",
       "      <th>angle(tBodyAccJerkMean),gravityMean)</th>\n",
       "      <th>angle(tBodyGyroMean,gravityMean)</th>\n",
       "      <th>angle(tBodyGyroJerkMean,gravityMean)</th>\n",
       "      <th>angle(X,gravityMean)</th>\n",
       "      <th>angle(Y,gravityMean)</th>\n",
       "      <th>angle(Z,gravityMean)</th>\n",
       "      <th>subject</th>\n",
       "      <th>Activity</th>\n",
       "    </tr>\n",
       "  </thead>\n",
       "  <tbody>\n",
       "    <tr>\n",
       "      <th>1537</th>\n",
       "      <td>0.263254</td>\n",
       "      <td>-0.031231</td>\n",
       "      <td>-0.139385</td>\n",
       "      <td>-0.969530</td>\n",
       "      <td>-0.916668</td>\n",
       "      <td>-0.928132</td>\n",
       "      <td>-0.978809</td>\n",
       "      <td>-0.908821</td>\n",
       "      <td>-0.923883</td>\n",
       "      <td>-0.931400</td>\n",
       "      <td>...</td>\n",
       "      <td>-0.803005</td>\n",
       "      <td>-0.044394</td>\n",
       "      <td>-0.847838</td>\n",
       "      <td>-0.539652</td>\n",
       "      <td>-0.035471</td>\n",
       "      <td>-0.688724</td>\n",
       "      <td>0.236693</td>\n",
       "      <td>0.187337</td>\n",
       "      <td>13</td>\n",
       "      <td>STANDING</td>\n",
       "    </tr>\n",
       "    <tr>\n",
       "      <th>1538</th>\n",
       "      <td>0.283557</td>\n",
       "      <td>-0.016500</td>\n",
       "      <td>-0.101646</td>\n",
       "      <td>-0.993043</td>\n",
       "      <td>-0.951936</td>\n",
       "      <td>-0.976742</td>\n",
       "      <td>-0.993786</td>\n",
       "      <td>-0.945324</td>\n",
       "      <td>-0.976706</td>\n",
       "      <td>-0.931400</td>\n",
       "      <td>...</td>\n",
       "      <td>-0.737616</td>\n",
       "      <td>-0.138077</td>\n",
       "      <td>-0.409843</td>\n",
       "      <td>-0.333212</td>\n",
       "      <td>0.846496</td>\n",
       "      <td>-0.673950</td>\n",
       "      <td>0.242703</td>\n",
       "      <td>0.195597</td>\n",
       "      <td>13</td>\n",
       "      <td>STANDING</td>\n",
       "    </tr>\n",
       "    <tr>\n",
       "      <th>1539</th>\n",
       "      <td>0.271884</td>\n",
       "      <td>-0.033647</td>\n",
       "      <td>-0.100334</td>\n",
       "      <td>-0.993603</td>\n",
       "      <td>-0.964014</td>\n",
       "      <td>-0.986683</td>\n",
       "      <td>-0.993971</td>\n",
       "      <td>-0.963580</td>\n",
       "      <td>-0.988199</td>\n",
       "      <td>-0.940798</td>\n",
       "      <td>...</td>\n",
       "      <td>-0.829670</td>\n",
       "      <td>0.001888</td>\n",
       "      <td>-0.425706</td>\n",
       "      <td>-0.087077</td>\n",
       "      <td>-0.112802</td>\n",
       "      <td>-0.675035</td>\n",
       "      <td>0.243518</td>\n",
       "      <td>0.193854</td>\n",
       "      <td>13</td>\n",
       "      <td>STANDING</td>\n",
       "    </tr>\n",
       "    <tr>\n",
       "      <th>1540</th>\n",
       "      <td>0.270978</td>\n",
       "      <td>-0.024400</td>\n",
       "      <td>-0.117194</td>\n",
       "      <td>-0.992830</td>\n",
       "      <td>-0.950465</td>\n",
       "      <td>-0.972312</td>\n",
       "      <td>-0.993022</td>\n",
       "      <td>-0.945331</td>\n",
       "      <td>-0.969318</td>\n",
       "      <td>-0.939150</td>\n",
       "      <td>...</td>\n",
       "      <td>-0.835495</td>\n",
       "      <td>-0.023743</td>\n",
       "      <td>0.325070</td>\n",
       "      <td>0.050936</td>\n",
       "      <td>-0.204517</td>\n",
       "      <td>-0.670928</td>\n",
       "      <td>0.249740</td>\n",
       "      <td>0.191892</td>\n",
       "      <td>13</td>\n",
       "      <td>STANDING</td>\n",
       "    </tr>\n",
       "    <tr>\n",
       "      <th>1541</th>\n",
       "      <td>0.277718</td>\n",
       "      <td>-0.007850</td>\n",
       "      <td>-0.122900</td>\n",
       "      <td>-0.994088</td>\n",
       "      <td>-0.979255</td>\n",
       "      <td>-0.976430</td>\n",
       "      <td>-0.994710</td>\n",
       "      <td>-0.980486</td>\n",
       "      <td>-0.975713</td>\n",
       "      <td>-0.938482</td>\n",
       "      <td>...</td>\n",
       "      <td>-0.862273</td>\n",
       "      <td>-0.003864</td>\n",
       "      <td>-0.128848</td>\n",
       "      <td>-0.178501</td>\n",
       "      <td>-0.189035</td>\n",
       "      <td>-0.666311</td>\n",
       "      <td>0.252051</td>\n",
       "      <td>0.194058</td>\n",
       "      <td>13</td>\n",
       "      <td>STANDING</td>\n",
       "    </tr>\n",
       "  </tbody>\n",
       "</table>\n",
       "<p>5 rows × 563 columns</p>\n",
       "</div>"
      ],
      "text/plain": [
       "      tBodyAcc-mean()-X  tBodyAcc-mean()-Y  tBodyAcc-mean()-Z  \\\n",
       "1537           0.263254          -0.031231          -0.139385   \n",
       "1538           0.283557          -0.016500          -0.101646   \n",
       "1539           0.271884          -0.033647          -0.100334   \n",
       "1540           0.270978          -0.024400          -0.117194   \n",
       "1541           0.277718          -0.007850          -0.122900   \n",
       "\n",
       "      tBodyAcc-std()-X  tBodyAcc-std()-Y  tBodyAcc-std()-Z  tBodyAcc-mad()-X  \\\n",
       "1537         -0.969530         -0.916668         -0.928132         -0.978809   \n",
       "1538         -0.993043         -0.951936         -0.976742         -0.993786   \n",
       "1539         -0.993603         -0.964014         -0.986683         -0.993971   \n",
       "1540         -0.992830         -0.950465         -0.972312         -0.993022   \n",
       "1541         -0.994088         -0.979255         -0.976430         -0.994710   \n",
       "\n",
       "      tBodyAcc-mad()-Y  tBodyAcc-mad()-Z  tBodyAcc-max()-X    ...     \\\n",
       "1537         -0.908821         -0.923883         -0.931400    ...      \n",
       "1538         -0.945324         -0.976706         -0.931400    ...      \n",
       "1539         -0.963580         -0.988199         -0.940798    ...      \n",
       "1540         -0.945331         -0.969318         -0.939150    ...      \n",
       "1541         -0.980486         -0.975713         -0.938482    ...      \n",
       "\n",
       "      fBodyBodyGyroJerkMag-kurtosis()  angle(tBodyAccMean,gravity)  \\\n",
       "1537                        -0.803005                    -0.044394   \n",
       "1538                        -0.737616                    -0.138077   \n",
       "1539                        -0.829670                     0.001888   \n",
       "1540                        -0.835495                    -0.023743   \n",
       "1541                        -0.862273                    -0.003864   \n",
       "\n",
       "      angle(tBodyAccJerkMean),gravityMean)  angle(tBodyGyroMean,gravityMean)  \\\n",
       "1537                             -0.847838                         -0.539652   \n",
       "1538                             -0.409843                         -0.333212   \n",
       "1539                             -0.425706                         -0.087077   \n",
       "1540                              0.325070                          0.050936   \n",
       "1541                             -0.128848                         -0.178501   \n",
       "\n",
       "      angle(tBodyGyroJerkMean,gravityMean)  angle(X,gravityMean)  \\\n",
       "1537                             -0.035471             -0.688724   \n",
       "1538                              0.846496             -0.673950   \n",
       "1539                             -0.112802             -0.675035   \n",
       "1540                             -0.204517             -0.670928   \n",
       "1541                             -0.189035             -0.666311   \n",
       "\n",
       "      angle(Y,gravityMean)  angle(Z,gravityMean)  subject  Activity  \n",
       "1537              0.236693              0.187337       13  STANDING  \n",
       "1538              0.242703              0.195597       13  STANDING  \n",
       "1539              0.243518              0.193854       13  STANDING  \n",
       "1540              0.249740              0.191892       13  STANDING  \n",
       "1541              0.252051              0.194058       13  STANDING  \n",
       "\n",
       "[5 rows x 563 columns]"
      ]
     },
     "execution_count": 16,
     "metadata": {},
     "output_type": "execute_result"
    }
   ],
   "source": [
    "test.tail()"
   ]
  },
  {
   "cell_type": "code",
   "execution_count": 17,
   "metadata": {},
   "outputs": [
    {
     "data": {
      "text/plain": [
       "False"
      ]
     },
     "execution_count": 17,
     "metadata": {},
     "output_type": "execute_result"
    }
   ],
   "source": [
    "test.isnull().values.any()"
   ]
  },
  {
   "cell_type": "code",
   "execution_count": 18,
   "metadata": {},
   "outputs": [],
   "source": [
    "test_count = test['Activity'].value_counts(sort=True)"
   ]
  },
  {
   "cell_type": "code",
   "execution_count": 19,
   "metadata": {},
   "outputs": [
    {
     "data": {
      "text/plain": [
       "STANDING              281\n",
       "WALKING               274\n",
       "LAYING                270\n",
       "SITTING               251\n",
       "WALKING_UPSTAIRS      248\n",
       "WALKING_DOWNSTAIRS    218\n",
       "Name: Activity, dtype: int64"
      ]
     },
     "execution_count": 19,
     "metadata": {},
     "output_type": "execute_result"
    }
   ],
   "source": [
    "test_count"
   ]
  },
  {
   "cell_type": "code",
   "execution_count": 20,
   "metadata": {},
   "outputs": [],
   "source": [
    "train_count = train['Activity'].value_counts(sort=True)"
   ]
  },
  {
   "cell_type": "code",
   "execution_count": 21,
   "metadata": {},
   "outputs": [
    {
     "data": {
      "text/plain": [
       "WALKING               655\n",
       "STANDING              654\n",
       "LAYING                648\n",
       "SITTING               591\n",
       "WALKING_UPSTAIRS      557\n",
       "WALKING_DOWNSTAIRS    504\n",
       "Name: Activity, dtype: int64"
      ]
     },
     "execution_count": 21,
     "metadata": {},
     "output_type": "execute_result"
    }
   ],
   "source": [
    "train_count"
   ]
  },
  {
   "cell_type": "code",
   "execution_count": 22,
   "metadata": {},
   "outputs": [
    {
     "data": {
      "text/plain": [
       "object       1\n",
       "float64    561\n",
       "int64        1\n",
       "dtype: int64"
      ]
     },
     "execution_count": 22,
     "metadata": {},
     "output_type": "execute_result"
    }
   ],
   "source": [
    "test.dtypes.value_counts(sort=False)"
   ]
  },
  {
   "cell_type": "code",
   "execution_count": 23,
   "metadata": {},
   "outputs": [
    {
     "data": {
      "text/plain": [
       "object       1\n",
       "float64    561\n",
       "int64        1\n",
       "dtype: int64"
      ]
     },
     "execution_count": 23,
     "metadata": {},
     "output_type": "execute_result"
    }
   ],
   "source": [
    "train.dtypes.value_counts(sort=False)"
   ]
  },
  {
   "cell_type": "code",
   "execution_count": 24,
   "metadata": {},
   "outputs": [],
   "source": [
    "int64_column = train.select_dtypes(['int64'])"
   ]
  },
  {
   "cell_type": "code",
   "execution_count": 25,
   "metadata": {},
   "outputs": [
    {
     "data": {
      "text/html": [
       "<div>\n",
       "<style scoped>\n",
       "    .dataframe tbody tr th:only-of-type {\n",
       "        vertical-align: middle;\n",
       "    }\n",
       "\n",
       "    .dataframe tbody tr th {\n",
       "        vertical-align: top;\n",
       "    }\n",
       "\n",
       "    .dataframe thead th {\n",
       "        text-align: right;\n",
       "    }\n",
       "</style>\n",
       "<table border=\"1\" class=\"dataframe\">\n",
       "  <thead>\n",
       "    <tr style=\"text-align: right;\">\n",
       "      <th></th>\n",
       "      <th>subject</th>\n",
       "    </tr>\n",
       "  </thead>\n",
       "  <tbody>\n",
       "    <tr>\n",
       "      <th>0</th>\n",
       "      <td>1</td>\n",
       "    </tr>\n",
       "    <tr>\n",
       "      <th>1</th>\n",
       "      <td>1</td>\n",
       "    </tr>\n",
       "    <tr>\n",
       "      <th>2</th>\n",
       "      <td>1</td>\n",
       "    </tr>\n",
       "    <tr>\n",
       "      <th>3</th>\n",
       "      <td>1</td>\n",
       "    </tr>\n",
       "    <tr>\n",
       "      <th>4</th>\n",
       "      <td>1</td>\n",
       "    </tr>\n",
       "  </tbody>\n",
       "</table>\n",
       "</div>"
      ],
      "text/plain": [
       "   subject\n",
       "0        1\n",
       "1        1\n",
       "2        1\n",
       "3        1\n",
       "4        1"
      ]
     },
     "execution_count": 25,
     "metadata": {},
     "output_type": "execute_result"
    }
   ],
   "source": [
    "int64_column.head()"
   ]
  },
  {
   "cell_type": "code",
   "execution_count": 26,
   "metadata": {},
   "outputs": [
    {
     "data": {
      "text/plain": [
       "array([ 1,  3,  5,  6,  7,  8, 11, 14, 15, 16, 17, 19])"
      ]
     },
     "execution_count": 26,
     "metadata": {},
     "output_type": "execute_result"
    }
   ],
   "source": [
    "train.subject.unique()"
   ]
  },
  {
   "cell_type": "code",
   "execution_count": 27,
   "metadata": {},
   "outputs": [
    {
     "data": {
      "text/plain": [
       "array([ 2,  4,  9, 10, 12, 13])"
      ]
     },
     "execution_count": 27,
     "metadata": {},
     "output_type": "execute_result"
    }
   ],
   "source": [
    "test.subject.unique()"
   ]
  },
  {
   "cell_type": "code",
   "execution_count": 28,
   "metadata": {},
   "outputs": [
    {
     "data": {
      "text/plain": [
       "0        1\n",
       "1        1\n",
       "2        1\n",
       "3        1\n",
       "4        1\n",
       "5        1\n",
       "6        1\n",
       "7        1\n",
       "8        1\n",
       "9        1\n",
       "10       1\n",
       "11       1\n",
       "12       1\n",
       "13       1\n",
       "14       1\n",
       "15       1\n",
       "16       1\n",
       "17       1\n",
       "18       1\n",
       "19       1\n",
       "20       1\n",
       "21       1\n",
       "22       1\n",
       "23       1\n",
       "24       1\n",
       "25       1\n",
       "26       1\n",
       "27       1\n",
       "28       1\n",
       "29       1\n",
       "        ..\n",
       "3579    17\n",
       "3580    17\n",
       "3581    17\n",
       "3582    17\n",
       "3583    17\n",
       "3584    17\n",
       "3585    17\n",
       "3586    17\n",
       "3587    17\n",
       "3588    17\n",
       "3589    17\n",
       "3590    17\n",
       "3591    17\n",
       "3592    17\n",
       "3593    17\n",
       "3594    17\n",
       "3595    17\n",
       "3596    17\n",
       "3597    17\n",
       "3598    17\n",
       "3599    17\n",
       "3600    17\n",
       "3601    17\n",
       "3602    17\n",
       "3603    17\n",
       "3604    17\n",
       "3605    19\n",
       "3606    19\n",
       "3607    19\n",
       "3608    19\n",
       "Name: subject, Length: 3609, dtype: int64"
      ]
     },
     "execution_count": 28,
     "metadata": {},
     "output_type": "execute_result"
    }
   ],
   "source": [
    "train.pop('subject')"
   ]
  },
  {
   "cell_type": "code",
   "execution_count": 29,
   "metadata": {},
   "outputs": [
    {
     "data": {
      "text/html": [
       "<div>\n",
       "<style scoped>\n",
       "    .dataframe tbody tr th:only-of-type {\n",
       "        vertical-align: middle;\n",
       "    }\n",
       "\n",
       "    .dataframe tbody tr th {\n",
       "        vertical-align: top;\n",
       "    }\n",
       "\n",
       "    .dataframe thead th {\n",
       "        text-align: right;\n",
       "    }\n",
       "</style>\n",
       "<table border=\"1\" class=\"dataframe\">\n",
       "  <thead>\n",
       "    <tr style=\"text-align: right;\">\n",
       "      <th></th>\n",
       "      <th>tBodyAcc-mean()-X</th>\n",
       "      <th>tBodyAcc-mean()-Y</th>\n",
       "      <th>tBodyAcc-mean()-Z</th>\n",
       "      <th>tBodyAcc-std()-X</th>\n",
       "      <th>tBodyAcc-std()-Y</th>\n",
       "      <th>tBodyAcc-std()-Z</th>\n",
       "      <th>tBodyAcc-mad()-X</th>\n",
       "      <th>tBodyAcc-mad()-Y</th>\n",
       "      <th>tBodyAcc-mad()-Z</th>\n",
       "      <th>tBodyAcc-max()-X</th>\n",
       "      <th>...</th>\n",
       "      <th>fBodyBodyGyroJerkMag-skewness()</th>\n",
       "      <th>fBodyBodyGyroJerkMag-kurtosis()</th>\n",
       "      <th>angle(tBodyAccMean,gravity)</th>\n",
       "      <th>angle(tBodyAccJerkMean),gravityMean)</th>\n",
       "      <th>angle(tBodyGyroMean,gravityMean)</th>\n",
       "      <th>angle(tBodyGyroJerkMean,gravityMean)</th>\n",
       "      <th>angle(X,gravityMean)</th>\n",
       "      <th>angle(Y,gravityMean)</th>\n",
       "      <th>angle(Z,gravityMean)</th>\n",
       "      <th>Activity</th>\n",
       "    </tr>\n",
       "  </thead>\n",
       "  <tbody>\n",
       "    <tr>\n",
       "      <th>0</th>\n",
       "      <td>0.288585</td>\n",
       "      <td>-0.020294</td>\n",
       "      <td>-0.132905</td>\n",
       "      <td>-0.995279</td>\n",
       "      <td>-0.983111</td>\n",
       "      <td>-0.913526</td>\n",
       "      <td>-0.995112</td>\n",
       "      <td>-0.983185</td>\n",
       "      <td>-0.923527</td>\n",
       "      <td>-0.934724</td>\n",
       "      <td>...</td>\n",
       "      <td>-0.298676</td>\n",
       "      <td>-0.710304</td>\n",
       "      <td>-0.112754</td>\n",
       "      <td>0.030400</td>\n",
       "      <td>-0.464761</td>\n",
       "      <td>-0.018446</td>\n",
       "      <td>-0.841247</td>\n",
       "      <td>0.179941</td>\n",
       "      <td>-0.058627</td>\n",
       "      <td>STANDING</td>\n",
       "    </tr>\n",
       "    <tr>\n",
       "      <th>1</th>\n",
       "      <td>0.278419</td>\n",
       "      <td>-0.016411</td>\n",
       "      <td>-0.123520</td>\n",
       "      <td>-0.998245</td>\n",
       "      <td>-0.975300</td>\n",
       "      <td>-0.960322</td>\n",
       "      <td>-0.998807</td>\n",
       "      <td>-0.974914</td>\n",
       "      <td>-0.957686</td>\n",
       "      <td>-0.943068</td>\n",
       "      <td>...</td>\n",
       "      <td>-0.595051</td>\n",
       "      <td>-0.861499</td>\n",
       "      <td>0.053477</td>\n",
       "      <td>-0.007435</td>\n",
       "      <td>-0.732626</td>\n",
       "      <td>0.703511</td>\n",
       "      <td>-0.844788</td>\n",
       "      <td>0.180289</td>\n",
       "      <td>-0.054317</td>\n",
       "      <td>STANDING</td>\n",
       "    </tr>\n",
       "    <tr>\n",
       "      <th>2</th>\n",
       "      <td>0.279653</td>\n",
       "      <td>-0.019467</td>\n",
       "      <td>-0.113462</td>\n",
       "      <td>-0.995380</td>\n",
       "      <td>-0.967187</td>\n",
       "      <td>-0.978944</td>\n",
       "      <td>-0.996520</td>\n",
       "      <td>-0.963668</td>\n",
       "      <td>-0.977469</td>\n",
       "      <td>-0.938692</td>\n",
       "      <td>...</td>\n",
       "      <td>-0.390748</td>\n",
       "      <td>-0.760104</td>\n",
       "      <td>-0.118559</td>\n",
       "      <td>0.177899</td>\n",
       "      <td>0.100699</td>\n",
       "      <td>0.808529</td>\n",
       "      <td>-0.848933</td>\n",
       "      <td>0.180637</td>\n",
       "      <td>-0.049118</td>\n",
       "      <td>STANDING</td>\n",
       "    </tr>\n",
       "    <tr>\n",
       "      <th>3</th>\n",
       "      <td>0.279174</td>\n",
       "      <td>-0.026201</td>\n",
       "      <td>-0.123283</td>\n",
       "      <td>-0.996091</td>\n",
       "      <td>-0.983403</td>\n",
       "      <td>-0.990675</td>\n",
       "      <td>-0.997099</td>\n",
       "      <td>-0.982750</td>\n",
       "      <td>-0.989302</td>\n",
       "      <td>-0.938692</td>\n",
       "      <td>...</td>\n",
       "      <td>-0.117290</td>\n",
       "      <td>-0.482845</td>\n",
       "      <td>-0.036788</td>\n",
       "      <td>-0.012892</td>\n",
       "      <td>0.640011</td>\n",
       "      <td>-0.485366</td>\n",
       "      <td>-0.848649</td>\n",
       "      <td>0.181935</td>\n",
       "      <td>-0.047663</td>\n",
       "      <td>STANDING</td>\n",
       "    </tr>\n",
       "    <tr>\n",
       "      <th>4</th>\n",
       "      <td>0.276629</td>\n",
       "      <td>-0.016570</td>\n",
       "      <td>-0.115362</td>\n",
       "      <td>-0.998139</td>\n",
       "      <td>-0.980817</td>\n",
       "      <td>-0.990482</td>\n",
       "      <td>-0.998321</td>\n",
       "      <td>-0.979672</td>\n",
       "      <td>-0.990441</td>\n",
       "      <td>-0.942469</td>\n",
       "      <td>...</td>\n",
       "      <td>-0.351471</td>\n",
       "      <td>-0.699205</td>\n",
       "      <td>0.123320</td>\n",
       "      <td>0.122542</td>\n",
       "      <td>0.693578</td>\n",
       "      <td>-0.615971</td>\n",
       "      <td>-0.847865</td>\n",
       "      <td>0.185151</td>\n",
       "      <td>-0.043892</td>\n",
       "      <td>STANDING</td>\n",
       "    </tr>\n",
       "  </tbody>\n",
       "</table>\n",
       "<p>5 rows × 562 columns</p>\n",
       "</div>"
      ],
      "text/plain": [
       "   tBodyAcc-mean()-X  tBodyAcc-mean()-Y  tBodyAcc-mean()-Z  tBodyAcc-std()-X  \\\n",
       "0           0.288585          -0.020294          -0.132905         -0.995279   \n",
       "1           0.278419          -0.016411          -0.123520         -0.998245   \n",
       "2           0.279653          -0.019467          -0.113462         -0.995380   \n",
       "3           0.279174          -0.026201          -0.123283         -0.996091   \n",
       "4           0.276629          -0.016570          -0.115362         -0.998139   \n",
       "\n",
       "   tBodyAcc-std()-Y  tBodyAcc-std()-Z  tBodyAcc-mad()-X  tBodyAcc-mad()-Y  \\\n",
       "0         -0.983111         -0.913526         -0.995112         -0.983185   \n",
       "1         -0.975300         -0.960322         -0.998807         -0.974914   \n",
       "2         -0.967187         -0.978944         -0.996520         -0.963668   \n",
       "3         -0.983403         -0.990675         -0.997099         -0.982750   \n",
       "4         -0.980817         -0.990482         -0.998321         -0.979672   \n",
       "\n",
       "   tBodyAcc-mad()-Z  tBodyAcc-max()-X    ...     \\\n",
       "0         -0.923527         -0.934724    ...      \n",
       "1         -0.957686         -0.943068    ...      \n",
       "2         -0.977469         -0.938692    ...      \n",
       "3         -0.989302         -0.938692    ...      \n",
       "4         -0.990441         -0.942469    ...      \n",
       "\n",
       "   fBodyBodyGyroJerkMag-skewness()  fBodyBodyGyroJerkMag-kurtosis()  \\\n",
       "0                        -0.298676                        -0.710304   \n",
       "1                        -0.595051                        -0.861499   \n",
       "2                        -0.390748                        -0.760104   \n",
       "3                        -0.117290                        -0.482845   \n",
       "4                        -0.351471                        -0.699205   \n",
       "\n",
       "   angle(tBodyAccMean,gravity)  angle(tBodyAccJerkMean),gravityMean)  \\\n",
       "0                    -0.112754                              0.030400   \n",
       "1                     0.053477                             -0.007435   \n",
       "2                    -0.118559                              0.177899   \n",
       "3                    -0.036788                             -0.012892   \n",
       "4                     0.123320                              0.122542   \n",
       "\n",
       "   angle(tBodyGyroMean,gravityMean)  angle(tBodyGyroJerkMean,gravityMean)  \\\n",
       "0                         -0.464761                             -0.018446   \n",
       "1                         -0.732626                              0.703511   \n",
       "2                          0.100699                              0.808529   \n",
       "3                          0.640011                             -0.485366   \n",
       "4                          0.693578                             -0.615971   \n",
       "\n",
       "   angle(X,gravityMean)  angle(Y,gravityMean)  angle(Z,gravityMean)  Activity  \n",
       "0             -0.841247              0.179941             -0.058627  STANDING  \n",
       "1             -0.844788              0.180289             -0.054317  STANDING  \n",
       "2             -0.848933              0.180637             -0.049118  STANDING  \n",
       "3             -0.848649              0.181935             -0.047663  STANDING  \n",
       "4             -0.847865              0.185151             -0.043892  STANDING  \n",
       "\n",
       "[5 rows x 562 columns]"
      ]
     },
     "execution_count": 29,
     "metadata": {},
     "output_type": "execute_result"
    }
   ],
   "source": [
    "train.head()"
   ]
  },
  {
   "cell_type": "code",
   "execution_count": 30,
   "metadata": {},
   "outputs": [
    {
     "data": {
      "text/plain": [
       "0        2\n",
       "1        2\n",
       "2        2\n",
       "3        2\n",
       "4        2\n",
       "5        2\n",
       "6        2\n",
       "7        2\n",
       "8        2\n",
       "9        2\n",
       "10       2\n",
       "11       2\n",
       "12       2\n",
       "13       2\n",
       "14       2\n",
       "15       2\n",
       "16       2\n",
       "17       2\n",
       "18       2\n",
       "19       2\n",
       "20       2\n",
       "21       2\n",
       "22       2\n",
       "23       2\n",
       "24       2\n",
       "25       2\n",
       "26       2\n",
       "27       2\n",
       "28       2\n",
       "29       2\n",
       "        ..\n",
       "1512    12\n",
       "1513    12\n",
       "1514    12\n",
       "1515    12\n",
       "1516    12\n",
       "1517    12\n",
       "1518    12\n",
       "1519    12\n",
       "1520    12\n",
       "1521    13\n",
       "1522    13\n",
       "1523    13\n",
       "1524    13\n",
       "1525    13\n",
       "1526    13\n",
       "1527    13\n",
       "1528    13\n",
       "1529    13\n",
       "1530    13\n",
       "1531    13\n",
       "1532    13\n",
       "1533    13\n",
       "1534    13\n",
       "1535    13\n",
       "1536    13\n",
       "1537    13\n",
       "1538    13\n",
       "1539    13\n",
       "1540    13\n",
       "1541    13\n",
       "Name: subject, Length: 1542, dtype: int64"
      ]
     },
     "execution_count": 30,
     "metadata": {},
     "output_type": "execute_result"
    }
   ],
   "source": [
    "test.pop('subject')"
   ]
  },
  {
   "cell_type": "code",
   "execution_count": 31,
   "metadata": {},
   "outputs": [
    {
     "data": {
      "text/html": [
       "<div>\n",
       "<style scoped>\n",
       "    .dataframe tbody tr th:only-of-type {\n",
       "        vertical-align: middle;\n",
       "    }\n",
       "\n",
       "    .dataframe tbody tr th {\n",
       "        vertical-align: top;\n",
       "    }\n",
       "\n",
       "    .dataframe thead th {\n",
       "        text-align: right;\n",
       "    }\n",
       "</style>\n",
       "<table border=\"1\" class=\"dataframe\">\n",
       "  <thead>\n",
       "    <tr style=\"text-align: right;\">\n",
       "      <th></th>\n",
       "      <th>tBodyAcc-mean()-X</th>\n",
       "      <th>tBodyAcc-mean()-Y</th>\n",
       "      <th>tBodyAcc-mean()-Z</th>\n",
       "      <th>tBodyAcc-std()-X</th>\n",
       "      <th>tBodyAcc-std()-Y</th>\n",
       "      <th>tBodyAcc-std()-Z</th>\n",
       "      <th>tBodyAcc-mad()-X</th>\n",
       "      <th>tBodyAcc-mad()-Y</th>\n",
       "      <th>tBodyAcc-mad()-Z</th>\n",
       "      <th>tBodyAcc-max()-X</th>\n",
       "      <th>...</th>\n",
       "      <th>fBodyBodyGyroJerkMag-skewness()</th>\n",
       "      <th>fBodyBodyGyroJerkMag-kurtosis()</th>\n",
       "      <th>angle(tBodyAccMean,gravity)</th>\n",
       "      <th>angle(tBodyAccJerkMean),gravityMean)</th>\n",
       "      <th>angle(tBodyGyroMean,gravityMean)</th>\n",
       "      <th>angle(tBodyGyroJerkMean,gravityMean)</th>\n",
       "      <th>angle(X,gravityMean)</th>\n",
       "      <th>angle(Y,gravityMean)</th>\n",
       "      <th>angle(Z,gravityMean)</th>\n",
       "      <th>Activity</th>\n",
       "    </tr>\n",
       "  </thead>\n",
       "  <tbody>\n",
       "    <tr>\n",
       "      <th>0</th>\n",
       "      <td>0.257178</td>\n",
       "      <td>-0.023285</td>\n",
       "      <td>-0.014654</td>\n",
       "      <td>-0.938404</td>\n",
       "      <td>-0.920091</td>\n",
       "      <td>-0.667683</td>\n",
       "      <td>-0.952501</td>\n",
       "      <td>-0.925249</td>\n",
       "      <td>-0.674302</td>\n",
       "      <td>-0.894088</td>\n",
       "      <td>...</td>\n",
       "      <td>-0.330370</td>\n",
       "      <td>-0.705974</td>\n",
       "      <td>0.006462</td>\n",
       "      <td>0.162920</td>\n",
       "      <td>-0.825886</td>\n",
       "      <td>0.271151</td>\n",
       "      <td>-0.720009</td>\n",
       "      <td>0.276801</td>\n",
       "      <td>-0.057978</td>\n",
       "      <td>STANDING</td>\n",
       "    </tr>\n",
       "    <tr>\n",
       "      <th>1</th>\n",
       "      <td>0.286027</td>\n",
       "      <td>-0.013163</td>\n",
       "      <td>-0.119083</td>\n",
       "      <td>-0.975415</td>\n",
       "      <td>-0.967458</td>\n",
       "      <td>-0.944958</td>\n",
       "      <td>-0.986799</td>\n",
       "      <td>-0.968401</td>\n",
       "      <td>-0.945823</td>\n",
       "      <td>-0.894088</td>\n",
       "      <td>...</td>\n",
       "      <td>-0.121845</td>\n",
       "      <td>-0.594944</td>\n",
       "      <td>-0.083495</td>\n",
       "      <td>0.017500</td>\n",
       "      <td>-0.434375</td>\n",
       "      <td>0.920593</td>\n",
       "      <td>-0.698091</td>\n",
       "      <td>0.281343</td>\n",
       "      <td>-0.083898</td>\n",
       "      <td>STANDING</td>\n",
       "    </tr>\n",
       "    <tr>\n",
       "      <th>2</th>\n",
       "      <td>0.275485</td>\n",
       "      <td>-0.026050</td>\n",
       "      <td>-0.118152</td>\n",
       "      <td>-0.993819</td>\n",
       "      <td>-0.969926</td>\n",
       "      <td>-0.962748</td>\n",
       "      <td>-0.994403</td>\n",
       "      <td>-0.970735</td>\n",
       "      <td>-0.963483</td>\n",
       "      <td>-0.939260</td>\n",
       "      <td>...</td>\n",
       "      <td>-0.190422</td>\n",
       "      <td>-0.640736</td>\n",
       "      <td>-0.034956</td>\n",
       "      <td>0.202302</td>\n",
       "      <td>0.064103</td>\n",
       "      <td>0.145068</td>\n",
       "      <td>-0.702771</td>\n",
       "      <td>0.280083</td>\n",
       "      <td>-0.079346</td>\n",
       "      <td>STANDING</td>\n",
       "    </tr>\n",
       "    <tr>\n",
       "      <th>3</th>\n",
       "      <td>0.270298</td>\n",
       "      <td>-0.032614</td>\n",
       "      <td>-0.117520</td>\n",
       "      <td>-0.994743</td>\n",
       "      <td>-0.973268</td>\n",
       "      <td>-0.967091</td>\n",
       "      <td>-0.995274</td>\n",
       "      <td>-0.974471</td>\n",
       "      <td>-0.968897</td>\n",
       "      <td>-0.938610</td>\n",
       "      <td>...</td>\n",
       "      <td>-0.344418</td>\n",
       "      <td>-0.736124</td>\n",
       "      <td>-0.017067</td>\n",
       "      <td>0.154438</td>\n",
       "      <td>0.340134</td>\n",
       "      <td>0.296407</td>\n",
       "      <td>-0.698954</td>\n",
       "      <td>0.284114</td>\n",
       "      <td>-0.077108</td>\n",
       "      <td>STANDING</td>\n",
       "    </tr>\n",
       "    <tr>\n",
       "      <th>4</th>\n",
       "      <td>0.274833</td>\n",
       "      <td>-0.027848</td>\n",
       "      <td>-0.129527</td>\n",
       "      <td>-0.993852</td>\n",
       "      <td>-0.967445</td>\n",
       "      <td>-0.978295</td>\n",
       "      <td>-0.994111</td>\n",
       "      <td>-0.965953</td>\n",
       "      <td>-0.977346</td>\n",
       "      <td>-0.938610</td>\n",
       "      <td>...</td>\n",
       "      <td>-0.534685</td>\n",
       "      <td>-0.846595</td>\n",
       "      <td>-0.002223</td>\n",
       "      <td>-0.040046</td>\n",
       "      <td>0.736715</td>\n",
       "      <td>-0.118545</td>\n",
       "      <td>-0.692245</td>\n",
       "      <td>0.290722</td>\n",
       "      <td>-0.073857</td>\n",
       "      <td>STANDING</td>\n",
       "    </tr>\n",
       "  </tbody>\n",
       "</table>\n",
       "<p>5 rows × 562 columns</p>\n",
       "</div>"
      ],
      "text/plain": [
       "   tBodyAcc-mean()-X  tBodyAcc-mean()-Y  tBodyAcc-mean()-Z  tBodyAcc-std()-X  \\\n",
       "0           0.257178          -0.023285          -0.014654         -0.938404   \n",
       "1           0.286027          -0.013163          -0.119083         -0.975415   \n",
       "2           0.275485          -0.026050          -0.118152         -0.993819   \n",
       "3           0.270298          -0.032614          -0.117520         -0.994743   \n",
       "4           0.274833          -0.027848          -0.129527         -0.993852   \n",
       "\n",
       "   tBodyAcc-std()-Y  tBodyAcc-std()-Z  tBodyAcc-mad()-X  tBodyAcc-mad()-Y  \\\n",
       "0         -0.920091         -0.667683         -0.952501         -0.925249   \n",
       "1         -0.967458         -0.944958         -0.986799         -0.968401   \n",
       "2         -0.969926         -0.962748         -0.994403         -0.970735   \n",
       "3         -0.973268         -0.967091         -0.995274         -0.974471   \n",
       "4         -0.967445         -0.978295         -0.994111         -0.965953   \n",
       "\n",
       "   tBodyAcc-mad()-Z  tBodyAcc-max()-X    ...     \\\n",
       "0         -0.674302         -0.894088    ...      \n",
       "1         -0.945823         -0.894088    ...      \n",
       "2         -0.963483         -0.939260    ...      \n",
       "3         -0.968897         -0.938610    ...      \n",
       "4         -0.977346         -0.938610    ...      \n",
       "\n",
       "   fBodyBodyGyroJerkMag-skewness()  fBodyBodyGyroJerkMag-kurtosis()  \\\n",
       "0                        -0.330370                        -0.705974   \n",
       "1                        -0.121845                        -0.594944   \n",
       "2                        -0.190422                        -0.640736   \n",
       "3                        -0.344418                        -0.736124   \n",
       "4                        -0.534685                        -0.846595   \n",
       "\n",
       "   angle(tBodyAccMean,gravity)  angle(tBodyAccJerkMean),gravityMean)  \\\n",
       "0                     0.006462                              0.162920   \n",
       "1                    -0.083495                              0.017500   \n",
       "2                    -0.034956                              0.202302   \n",
       "3                    -0.017067                              0.154438   \n",
       "4                    -0.002223                             -0.040046   \n",
       "\n",
       "   angle(tBodyGyroMean,gravityMean)  angle(tBodyGyroJerkMean,gravityMean)  \\\n",
       "0                         -0.825886                              0.271151   \n",
       "1                         -0.434375                              0.920593   \n",
       "2                          0.064103                              0.145068   \n",
       "3                          0.340134                              0.296407   \n",
       "4                          0.736715                             -0.118545   \n",
       "\n",
       "   angle(X,gravityMean)  angle(Y,gravityMean)  angle(Z,gravityMean)  Activity  \n",
       "0             -0.720009              0.276801             -0.057978  STANDING  \n",
       "1             -0.698091              0.281343             -0.083898  STANDING  \n",
       "2             -0.702771              0.280083             -0.079346  STANDING  \n",
       "3             -0.698954              0.284114             -0.077108  STANDING  \n",
       "4             -0.692245              0.290722             -0.073857  STANDING  \n",
       "\n",
       "[5 rows x 562 columns]"
      ]
     },
     "execution_count": 31,
     "metadata": {},
     "output_type": "execute_result"
    }
   ],
   "source": [
    "test.head()"
   ]
  },
  {
   "cell_type": "code",
   "execution_count": 32,
   "metadata": {},
   "outputs": [
    {
     "data": {
      "text/html": [
       "<div>\n",
       "<style scoped>\n",
       "    .dataframe tbody tr th:only-of-type {\n",
       "        vertical-align: middle;\n",
       "    }\n",
       "\n",
       "    .dataframe tbody tr th {\n",
       "        vertical-align: top;\n",
       "    }\n",
       "\n",
       "    .dataframe thead th {\n",
       "        text-align: right;\n",
       "    }\n",
       "</style>\n",
       "<table border=\"1\" class=\"dataframe\">\n",
       "  <thead>\n",
       "    <tr style=\"text-align: right;\">\n",
       "      <th></th>\n",
       "      <th>tBodyAcc-mean()-X</th>\n",
       "      <th>tBodyAcc-mean()-Y</th>\n",
       "      <th>tBodyAcc-mean()-Z</th>\n",
       "      <th>tBodyAcc-std()-X</th>\n",
       "      <th>tBodyAcc-std()-Y</th>\n",
       "      <th>tBodyAcc-std()-Z</th>\n",
       "      <th>tBodyAcc-mad()-X</th>\n",
       "      <th>tBodyAcc-mad()-Y</th>\n",
       "      <th>tBodyAcc-mad()-Z</th>\n",
       "      <th>tBodyAcc-max()-X</th>\n",
       "      <th>...</th>\n",
       "      <th>fBodyBodyGyroJerkMag-meanFreq()</th>\n",
       "      <th>fBodyBodyGyroJerkMag-skewness()</th>\n",
       "      <th>fBodyBodyGyroJerkMag-kurtosis()</th>\n",
       "      <th>angle(tBodyAccMean,gravity)</th>\n",
       "      <th>angle(tBodyAccJerkMean),gravityMean)</th>\n",
       "      <th>angle(tBodyGyroMean,gravityMean)</th>\n",
       "      <th>angle(tBodyGyroJerkMean,gravityMean)</th>\n",
       "      <th>angle(X,gravityMean)</th>\n",
       "      <th>angle(Y,gravityMean)</th>\n",
       "      <th>angle(Z,gravityMean)</th>\n",
       "    </tr>\n",
       "  </thead>\n",
       "  <tbody>\n",
       "    <tr>\n",
       "      <th>count</th>\n",
       "      <td>3609.000000</td>\n",
       "      <td>3609.000000</td>\n",
       "      <td>3609.000000</td>\n",
       "      <td>3609.000000</td>\n",
       "      <td>3609.000000</td>\n",
       "      <td>3609.000000</td>\n",
       "      <td>3609.000000</td>\n",
       "      <td>3609.000000</td>\n",
       "      <td>3609.000000</td>\n",
       "      <td>3609.000000</td>\n",
       "      <td>...</td>\n",
       "      <td>3609.000000</td>\n",
       "      <td>3609.000000</td>\n",
       "      <td>3609.000000</td>\n",
       "      <td>3609.000000</td>\n",
       "      <td>3609.000000</td>\n",
       "      <td>3609.000000</td>\n",
       "      <td>3609.000000</td>\n",
       "      <td>3609.000000</td>\n",
       "      <td>3609.000000</td>\n",
       "      <td>3609.000000</td>\n",
       "    </tr>\n",
       "    <tr>\n",
       "      <th>mean</th>\n",
       "      <td>0.273527</td>\n",
       "      <td>-0.017399</td>\n",
       "      <td>-0.108610</td>\n",
       "      <td>-0.581856</td>\n",
       "      <td>-0.466433</td>\n",
       "      <td>-0.580848</td>\n",
       "      <td>-0.608792</td>\n",
       "      <td>-0.484323</td>\n",
       "      <td>-0.580838</td>\n",
       "      <td>-0.443388</td>\n",
       "      <td>...</td>\n",
       "      <td>0.123761</td>\n",
       "      <td>-0.311405</td>\n",
       "      <td>-0.629786</td>\n",
       "      <td>0.010495</td>\n",
       "      <td>-0.002754</td>\n",
       "      <td>0.008288</td>\n",
       "      <td>-0.007869</td>\n",
       "      <td>-0.513180</td>\n",
       "      <td>0.063502</td>\n",
       "      <td>-0.015338</td>\n",
       "    </tr>\n",
       "    <tr>\n",
       "      <th>std</th>\n",
       "      <td>0.074134</td>\n",
       "      <td>0.031471</td>\n",
       "      <td>0.049261</td>\n",
       "      <td>0.448556</td>\n",
       "      <td>0.519746</td>\n",
       "      <td>0.430384</td>\n",
       "      <td>0.422080</td>\n",
       "      <td>0.500159</td>\n",
       "      <td>0.425485</td>\n",
       "      <td>0.544660</td>\n",
       "      <td>...</td>\n",
       "      <td>0.246268</td>\n",
       "      <td>0.321166</td>\n",
       "      <td>0.308698</td>\n",
       "      <td>0.350297</td>\n",
       "      <td>0.457028</td>\n",
       "      <td>0.617386</td>\n",
       "      <td>0.480793</td>\n",
       "      <td>0.471032</td>\n",
       "      <td>0.320621</td>\n",
       "      <td>0.261585</td>\n",
       "    </tr>\n",
       "    <tr>\n",
       "      <th>min</th>\n",
       "      <td>-1.000000</td>\n",
       "      <td>-0.684097</td>\n",
       "      <td>-1.000000</td>\n",
       "      <td>-1.000000</td>\n",
       "      <td>-0.999873</td>\n",
       "      <td>-0.999454</td>\n",
       "      <td>-1.000000</td>\n",
       "      <td>-1.000000</td>\n",
       "      <td>-0.999808</td>\n",
       "      <td>-0.971348</td>\n",
       "      <td>...</td>\n",
       "      <td>-0.965725</td>\n",
       "      <td>-0.944282</td>\n",
       "      <td>-0.999595</td>\n",
       "      <td>-0.976580</td>\n",
       "      <td>-0.996659</td>\n",
       "      <td>-1.000000</td>\n",
       "      <td>-1.000000</td>\n",
       "      <td>-1.000000</td>\n",
       "      <td>-1.000000</td>\n",
       "      <td>-0.980143</td>\n",
       "    </tr>\n",
       "    <tr>\n",
       "      <th>25%</th>\n",
       "      <td>0.260603</td>\n",
       "      <td>-0.025631</td>\n",
       "      <td>-0.122316</td>\n",
       "      <td>-0.992602</td>\n",
       "      <td>-0.974060</td>\n",
       "      <td>-0.977109</td>\n",
       "      <td>-0.993341</td>\n",
       "      <td>-0.974043</td>\n",
       "      <td>-0.976617</td>\n",
       "      <td>-0.935992</td>\n",
       "      <td>...</td>\n",
       "      <td>-0.021906</td>\n",
       "      <td>-0.544330</td>\n",
       "      <td>-0.850139</td>\n",
       "      <td>-0.127504</td>\n",
       "      <td>-0.302814</td>\n",
       "      <td>-0.492839</td>\n",
       "      <td>-0.384808</td>\n",
       "      <td>-0.802116</td>\n",
       "      <td>0.024913</td>\n",
       "      <td>-0.081920</td>\n",
       "    </tr>\n",
       "    <tr>\n",
       "      <th>50%</th>\n",
       "      <td>0.276989</td>\n",
       "      <td>-0.017126</td>\n",
       "      <td>-0.108830</td>\n",
       "      <td>-0.908534</td>\n",
       "      <td>-0.699301</td>\n",
       "      <td>-0.728941</td>\n",
       "      <td>-0.918531</td>\n",
       "      <td>-0.719374</td>\n",
       "      <td>-0.729317</td>\n",
       "      <td>-0.825115</td>\n",
       "      <td>...</td>\n",
       "      <td>0.125923</td>\n",
       "      <td>-0.355853</td>\n",
       "      <td>-0.717998</td>\n",
       "      <td>0.008742</td>\n",
       "      <td>0.003230</td>\n",
       "      <td>0.009576</td>\n",
       "      <td>-0.003341</td>\n",
       "      <td>-0.697422</td>\n",
       "      <td>0.196372</td>\n",
       "      <td>0.022081</td>\n",
       "    </tr>\n",
       "    <tr>\n",
       "      <th>75%</th>\n",
       "      <td>0.289340</td>\n",
       "      <td>-0.009717</td>\n",
       "      <td>-0.096326</td>\n",
       "      <td>-0.237225</td>\n",
       "      <td>0.023866</td>\n",
       "      <td>-0.257646</td>\n",
       "      <td>-0.283158</td>\n",
       "      <td>0.002068</td>\n",
       "      <td>-0.256443</td>\n",
       "      <td>-0.009690</td>\n",
       "      <td>...</td>\n",
       "      <td>0.274953</td>\n",
       "      <td>-0.133438</td>\n",
       "      <td>-0.509944</td>\n",
       "      <td>0.163696</td>\n",
       "      <td>0.299304</td>\n",
       "      <td>0.520411</td>\n",
       "      <td>0.359163</td>\n",
       "      <td>-0.529744</td>\n",
       "      <td>0.262451</td>\n",
       "      <td>0.136282</td>\n",
       "    </tr>\n",
       "    <tr>\n",
       "      <th>max</th>\n",
       "      <td>0.631510</td>\n",
       "      <td>0.324130</td>\n",
       "      <td>0.543939</td>\n",
       "      <td>0.579153</td>\n",
       "      <td>0.832094</td>\n",
       "      <td>1.000000</td>\n",
       "      <td>0.544391</td>\n",
       "      <td>0.660297</td>\n",
       "      <td>1.000000</td>\n",
       "      <td>0.784666</td>\n",
       "      <td>...</td>\n",
       "      <td>0.918576</td>\n",
       "      <td>0.989538</td>\n",
       "      <td>0.956845</td>\n",
       "      <td>1.000000</td>\n",
       "      <td>0.998425</td>\n",
       "      <td>0.995769</td>\n",
       "      <td>0.996078</td>\n",
       "      <td>0.799174</td>\n",
       "      <td>0.445582</td>\n",
       "      <td>0.488889</td>\n",
       "    </tr>\n",
       "  </tbody>\n",
       "</table>\n",
       "<p>8 rows × 561 columns</p>\n",
       "</div>"
      ],
      "text/plain": [
       "       tBodyAcc-mean()-X  tBodyAcc-mean()-Y  tBodyAcc-mean()-Z  \\\n",
       "count        3609.000000        3609.000000        3609.000000   \n",
       "mean            0.273527          -0.017399          -0.108610   \n",
       "std             0.074134           0.031471           0.049261   \n",
       "min            -1.000000          -0.684097          -1.000000   \n",
       "25%             0.260603          -0.025631          -0.122316   \n",
       "50%             0.276989          -0.017126          -0.108830   \n",
       "75%             0.289340          -0.009717          -0.096326   \n",
       "max             0.631510           0.324130           0.543939   \n",
       "\n",
       "       tBodyAcc-std()-X  tBodyAcc-std()-Y  tBodyAcc-std()-Z  tBodyAcc-mad()-X  \\\n",
       "count       3609.000000       3609.000000       3609.000000       3609.000000   \n",
       "mean          -0.581856         -0.466433         -0.580848         -0.608792   \n",
       "std            0.448556          0.519746          0.430384          0.422080   \n",
       "min           -1.000000         -0.999873         -0.999454         -1.000000   \n",
       "25%           -0.992602         -0.974060         -0.977109         -0.993341   \n",
       "50%           -0.908534         -0.699301         -0.728941         -0.918531   \n",
       "75%           -0.237225          0.023866         -0.257646         -0.283158   \n",
       "max            0.579153          0.832094          1.000000          0.544391   \n",
       "\n",
       "       tBodyAcc-mad()-Y  tBodyAcc-mad()-Z  tBodyAcc-max()-X  \\\n",
       "count       3609.000000       3609.000000       3609.000000   \n",
       "mean          -0.484323         -0.580838         -0.443388   \n",
       "std            0.500159          0.425485          0.544660   \n",
       "min           -1.000000         -0.999808         -0.971348   \n",
       "25%           -0.974043         -0.976617         -0.935992   \n",
       "50%           -0.719374         -0.729317         -0.825115   \n",
       "75%            0.002068         -0.256443         -0.009690   \n",
       "max            0.660297          1.000000          0.784666   \n",
       "\n",
       "               ...           fBodyBodyGyroJerkMag-meanFreq()  \\\n",
       "count          ...                               3609.000000   \n",
       "mean           ...                                  0.123761   \n",
       "std            ...                                  0.246268   \n",
       "min            ...                                 -0.965725   \n",
       "25%            ...                                 -0.021906   \n",
       "50%            ...                                  0.125923   \n",
       "75%            ...                                  0.274953   \n",
       "max            ...                                  0.918576   \n",
       "\n",
       "       fBodyBodyGyroJerkMag-skewness()  fBodyBodyGyroJerkMag-kurtosis()  \\\n",
       "count                      3609.000000                      3609.000000   \n",
       "mean                         -0.311405                        -0.629786   \n",
       "std                           0.321166                         0.308698   \n",
       "min                          -0.944282                        -0.999595   \n",
       "25%                          -0.544330                        -0.850139   \n",
       "50%                          -0.355853                        -0.717998   \n",
       "75%                          -0.133438                        -0.509944   \n",
       "max                           0.989538                         0.956845   \n",
       "\n",
       "       angle(tBodyAccMean,gravity)  angle(tBodyAccJerkMean),gravityMean)  \\\n",
       "count                  3609.000000                           3609.000000   \n",
       "mean                      0.010495                             -0.002754   \n",
       "std                       0.350297                              0.457028   \n",
       "min                      -0.976580                             -0.996659   \n",
       "25%                      -0.127504                             -0.302814   \n",
       "50%                       0.008742                              0.003230   \n",
       "75%                       0.163696                              0.299304   \n",
       "max                       1.000000                              0.998425   \n",
       "\n",
       "       angle(tBodyGyroMean,gravityMean)  angle(tBodyGyroJerkMean,gravityMean)  \\\n",
       "count                       3609.000000                           3609.000000   \n",
       "mean                           0.008288                             -0.007869   \n",
       "std                            0.617386                              0.480793   \n",
       "min                           -1.000000                             -1.000000   \n",
       "25%                           -0.492839                             -0.384808   \n",
       "50%                            0.009576                             -0.003341   \n",
       "75%                            0.520411                              0.359163   \n",
       "max                            0.995769                              0.996078   \n",
       "\n",
       "       angle(X,gravityMean)  angle(Y,gravityMean)  angle(Z,gravityMean)  \n",
       "count           3609.000000           3609.000000           3609.000000  \n",
       "mean              -0.513180              0.063502             -0.015338  \n",
       "std                0.471032              0.320621              0.261585  \n",
       "min               -1.000000             -1.000000             -0.980143  \n",
       "25%               -0.802116              0.024913             -0.081920  \n",
       "50%               -0.697422              0.196372              0.022081  \n",
       "75%               -0.529744              0.262451              0.136282  \n",
       "max                0.799174              0.445582              0.488889  \n",
       "\n",
       "[8 rows x 561 columns]"
      ]
     },
     "execution_count": 32,
     "metadata": {},
     "output_type": "execute_result"
    }
   ],
   "source": [
    "train.describe()"
   ]
  },
  {
   "cell_type": "markdown",
   "metadata": {},
   "source": [
    "I found that my training data set contains 3609 observations with 563 variables while my training data contained 1542 observations with 563 variables. In both the training and the testing data, there was a subject column, which contained the ID of the subject carrying out this test. Since no information was provided on the subject performing the test, that column was removed leading to 562 variables. 561 of the variables represented time and frequency domain variables of the experiment. The final variable contained the activity label for each of the rows. The data set also contained no missing values for both the test and training set. See https://www.kaggle.com/uciml/human-activity-recognition-with-smartphones/home for additional documentation."
   ]
  },
  {
   "cell_type": "code",
   "execution_count": 33,
   "metadata": {},
   "outputs": [],
   "source": [
    "%matplotlib inline\n",
    "import matplotlib.pyplot as plt"
   ]
  },
  {
   "cell_type": "code",
   "execution_count": 34,
   "metadata": {},
   "outputs": [
    {
     "data": {
      "text/plain": [
       "<matplotlib.axes._subplots.AxesSubplot at 0x121795da0>"
      ]
     },
     "execution_count": 34,
     "metadata": {},
     "output_type": "execute_result"
    },
    {
     "data": {
      "image/png": "[encoded data removed]",
      "text/plain": [
       "<Figure size 432x288 with 1 Axes>"
      ]
     },
     "metadata": {
      "needs_background": "light"
     },
     "output_type": "display_data"
    }
   ],
   "source": [
    "train['Activity'].value_counts(sort=True).plot(kind='bar')"
   ]
  },
  {
   "cell_type": "code",
   "execution_count": 35,
   "metadata": {},
   "outputs": [
    {
     "data": {
      "text/plain": [
       "<matplotlib.axes._subplots.AxesSubplot at 0x120e7d358>"
      ]
     },
     "execution_count": 35,
     "metadata": {},
     "output_type": "execute_result"
    },
    {
     "data": {
      "image/png": "[encoded data removed]",
      "text/plain": [
       "<Figure size 432x288 with 1 Axes>"
      ]
     },
     "metadata": {
      "needs_background": "light"
     },
     "output_type": "display_data"
    }
   ],
   "source": [
    "test['Activity'].value_counts(sort=True).plot(kind='bar')"
   ]
  },
  {
   "cell_type": "markdown",
   "metadata": {},
   "source": [
    "The data sets contain 6 distinct activities. The graphs above show that the number of occurrences of each activity for both the testing and training data. The graphs show that the distribution among activities is fairly similar among within and between both data sets. "
   ]
  },
  {
   "cell_type": "code",
   "execution_count": 36,
   "metadata": {},
   "outputs": [],
   "source": [
    "corr_on_these_columns = train.columns[:-1]\n",
    "corr_values = train[corr_on_these_columns].corr()"
   ]
  },
  {
   "cell_type": "code",
   "execution_count": 37,
   "metadata": {},
   "outputs": [],
   "source": [
    "abs_corr_values = corr_values.abs()"
   ]
  },
  {
   "cell_type": "code",
   "execution_count": 38,
   "metadata": {},
   "outputs": [
    {
     "data": {
      "text/html": [
       "<div>\n",
       "<style scoped>\n",
       "    .dataframe tbody tr th:only-of-type {\n",
       "        vertical-align: middle;\n",
       "    }\n",
       "\n",
       "    .dataframe tbody tr th {\n",
       "        vertical-align: top;\n",
       "    }\n",
       "\n",
       "    .dataframe thead th {\n",
       "        text-align: right;\n",
       "    }\n",
       "</style>\n",
       "<table border=\"1\" class=\"dataframe\">\n",
       "  <thead>\n",
       "    <tr style=\"text-align: right;\">\n",
       "      <th></th>\n",
       "      <th>tBodyAcc-mean()-X</th>\n",
       "      <th>tBodyAcc-mean()-Y</th>\n",
       "      <th>tBodyAcc-mean()-Z</th>\n",
       "      <th>tBodyAcc-std()-X</th>\n",
       "      <th>tBodyAcc-std()-Y</th>\n",
       "      <th>tBodyAcc-std()-Z</th>\n",
       "      <th>tBodyAcc-mad()-X</th>\n",
       "      <th>tBodyAcc-mad()-Y</th>\n",
       "      <th>tBodyAcc-mad()-Z</th>\n",
       "      <th>tBodyAcc-max()-X</th>\n",
       "      <th>...</th>\n",
       "      <th>fBodyBodyGyroJerkMag-meanFreq()</th>\n",
       "      <th>fBodyBodyGyroJerkMag-skewness()</th>\n",
       "      <th>fBodyBodyGyroJerkMag-kurtosis()</th>\n",
       "      <th>angle(tBodyAccMean,gravity)</th>\n",
       "      <th>angle(tBodyAccJerkMean),gravityMean)</th>\n",
       "      <th>angle(tBodyGyroMean,gravityMean)</th>\n",
       "      <th>angle(tBodyGyroJerkMean,gravityMean)</th>\n",
       "      <th>angle(X,gravityMean)</th>\n",
       "      <th>angle(Y,gravityMean)</th>\n",
       "      <th>angle(Z,gravityMean)</th>\n",
       "    </tr>\n",
       "  </thead>\n",
       "  <tbody>\n",
       "    <tr>\n",
       "      <th>fBodyBodyGyroJerkMag-meanFreq()</th>\n",
       "      <td>0.051729</td>\n",
       "      <td>0.013628</td>\n",
       "      <td>0.022421</td>\n",
       "      <td>0.114466</td>\n",
       "      <td>0.149048</td>\n",
       "      <td>0.130018</td>\n",
       "      <td>0.111567</td>\n",
       "      <td>0.147510</td>\n",
       "      <td>0.131044</td>\n",
       "      <td>0.116623</td>\n",
       "      <td>...</td>\n",
       "      <td>1.000000</td>\n",
       "      <td>0.432245</td>\n",
       "      <td>0.302784</td>\n",
       "      <td>0.010993</td>\n",
       "      <td>0.000528</td>\n",
       "      <td>0.030186</td>\n",
       "      <td>0.013132</td>\n",
       "      <td>0.038626</td>\n",
       "      <td>0.057248</td>\n",
       "      <td>0.014733</td>\n",
       "    </tr>\n",
       "    <tr>\n",
       "      <th>fBodyBodyGyroJerkMag-skewness()</th>\n",
       "      <td>0.033132</td>\n",
       "      <td>0.015124</td>\n",
       "      <td>0.013517</td>\n",
       "      <td>0.110263</td>\n",
       "      <td>0.171082</td>\n",
       "      <td>0.100837</td>\n",
       "      <td>0.111161</td>\n",
       "      <td>0.168519</td>\n",
       "      <td>0.106949</td>\n",
       "      <td>0.115413</td>\n",
       "      <td>...</td>\n",
       "      <td>0.432245</td>\n",
       "      <td>1.000000</td>\n",
       "      <td>0.968143</td>\n",
       "      <td>0.012806</td>\n",
       "      <td>0.025252</td>\n",
       "      <td>0.042898</td>\n",
       "      <td>0.035166</td>\n",
       "      <td>0.071880</td>\n",
       "      <td>0.030150</td>\n",
       "      <td>0.020031</td>\n",
       "    </tr>\n",
       "    <tr>\n",
       "      <th>fBodyBodyGyroJerkMag-kurtosis()</th>\n",
       "      <td>0.030393</td>\n",
       "      <td>0.016583</td>\n",
       "      <td>0.016163</td>\n",
       "      <td>0.077198</td>\n",
       "      <td>0.141451</td>\n",
       "      <td>0.073809</td>\n",
       "      <td>0.078183</td>\n",
       "      <td>0.140030</td>\n",
       "      <td>0.080556</td>\n",
       "      <td>0.083497</td>\n",
       "      <td>...</td>\n",
       "      <td>0.302784</td>\n",
       "      <td>0.968143</td>\n",
       "      <td>1.000000</td>\n",
       "      <td>0.016135</td>\n",
       "      <td>0.030162</td>\n",
       "      <td>0.033908</td>\n",
       "      <td>0.028597</td>\n",
       "      <td>0.078075</td>\n",
       "      <td>0.028794</td>\n",
       "      <td>0.026460</td>\n",
       "    </tr>\n",
       "    <tr>\n",
       "      <th>angle(tBodyAccMean,gravity)</th>\n",
       "      <td>0.537169</td>\n",
       "      <td>0.098383</td>\n",
       "      <td>0.077338</td>\n",
       "      <td>0.038117</td>\n",
       "      <td>0.017756</td>\n",
       "      <td>0.000083</td>\n",
       "      <td>0.047356</td>\n",
       "      <td>0.022437</td>\n",
       "      <td>0.002337</td>\n",
       "      <td>0.033917</td>\n",
       "      <td>...</td>\n",
       "      <td>0.010993</td>\n",
       "      <td>0.012806</td>\n",
       "      <td>0.016135</td>\n",
       "      <td>1.000000</td>\n",
       "      <td>0.091056</td>\n",
       "      <td>0.009381</td>\n",
       "      <td>0.032010</td>\n",
       "      <td>0.015271</td>\n",
       "      <td>0.004304</td>\n",
       "      <td>0.007469</td>\n",
       "    </tr>\n",
       "    <tr>\n",
       "      <th>angle(tBodyAccJerkMean),gravityMean)</th>\n",
       "      <td>0.017473</td>\n",
       "      <td>0.037037</td>\n",
       "      <td>0.041435</td>\n",
       "      <td>0.013785</td>\n",
       "      <td>0.009366</td>\n",
       "      <td>0.016370</td>\n",
       "      <td>0.014068</td>\n",
       "      <td>0.011382</td>\n",
       "      <td>0.018144</td>\n",
       "      <td>0.012425</td>\n",
       "      <td>...</td>\n",
       "      <td>0.000528</td>\n",
       "      <td>0.025252</td>\n",
       "      <td>0.030162</td>\n",
       "      <td>0.091056</td>\n",
       "      <td>1.000000</td>\n",
       "      <td>0.032358</td>\n",
       "      <td>0.019605</td>\n",
       "      <td>0.021197</td>\n",
       "      <td>0.006430</td>\n",
       "      <td>0.006834</td>\n",
       "    </tr>\n",
       "    <tr>\n",
       "      <th>angle(tBodyGyroMean,gravityMean)</th>\n",
       "      <td>0.031991</td>\n",
       "      <td>0.015642</td>\n",
       "      <td>0.082395</td>\n",
       "      <td>0.006533</td>\n",
       "      <td>0.017264</td>\n",
       "      <td>0.031706</td>\n",
       "      <td>0.005460</td>\n",
       "      <td>0.023953</td>\n",
       "      <td>0.035566</td>\n",
       "      <td>0.016734</td>\n",
       "      <td>...</td>\n",
       "      <td>0.030186</td>\n",
       "      <td>0.042898</td>\n",
       "      <td>0.033908</td>\n",
       "      <td>0.009381</td>\n",
       "      <td>0.032358</td>\n",
       "      <td>1.000000</td>\n",
       "      <td>0.159409</td>\n",
       "      <td>0.007684</td>\n",
       "      <td>0.013153</td>\n",
       "      <td>0.036380</td>\n",
       "    </tr>\n",
       "    <tr>\n",
       "      <th>angle(tBodyGyroJerkMean,gravityMean)</th>\n",
       "      <td>0.022377</td>\n",
       "      <td>0.065119</td>\n",
       "      <td>0.037993</td>\n",
       "      <td>0.025238</td>\n",
       "      <td>0.012160</td>\n",
       "      <td>0.005181</td>\n",
       "      <td>0.024678</td>\n",
       "      <td>0.009749</td>\n",
       "      <td>0.005130</td>\n",
       "      <td>0.032166</td>\n",
       "      <td>...</td>\n",
       "      <td>0.013132</td>\n",
       "      <td>0.035166</td>\n",
       "      <td>0.028597</td>\n",
       "      <td>0.032010</td>\n",
       "      <td>0.019605</td>\n",
       "      <td>0.159409</td>\n",
       "      <td>1.000000</td>\n",
       "      <td>0.033451</td>\n",
       "      <td>0.010041</td>\n",
       "      <td>0.000546</td>\n",
       "    </tr>\n",
       "    <tr>\n",
       "      <th>angle(X,gravityMean)</th>\n",
       "      <td>0.058346</td>\n",
       "      <td>0.027517</td>\n",
       "      <td>0.004840</td>\n",
       "      <td>0.355776</td>\n",
       "      <td>0.363569</td>\n",
       "      <td>0.284434</td>\n",
       "      <td>0.355122</td>\n",
       "      <td>0.362214</td>\n",
       "      <td>0.290604</td>\n",
       "      <td>0.362834</td>\n",
       "      <td>...</td>\n",
       "      <td>0.038626</td>\n",
       "      <td>0.071880</td>\n",
       "      <td>0.078075</td>\n",
       "      <td>0.015271</td>\n",
       "      <td>0.021197</td>\n",
       "      <td>0.007684</td>\n",
       "      <td>0.033451</td>\n",
       "      <td>1.000000</td>\n",
       "      <td>0.779220</td>\n",
       "      <td>0.606711</td>\n",
       "    </tr>\n",
       "    <tr>\n",
       "      <th>angle(Y,gravityMean)</th>\n",
       "      <td>0.037494</td>\n",
       "      <td>0.021800</td>\n",
       "      <td>0.027387</td>\n",
       "      <td>0.459550</td>\n",
       "      <td>0.511307</td>\n",
       "      <td>0.452338</td>\n",
       "      <td>0.455485</td>\n",
       "      <td>0.515449</td>\n",
       "      <td>0.457364</td>\n",
       "      <td>0.469629</td>\n",
       "      <td>...</td>\n",
       "      <td>0.057248</td>\n",
       "      <td>0.030150</td>\n",
       "      <td>0.028794</td>\n",
       "      <td>0.004304</td>\n",
       "      <td>0.006430</td>\n",
       "      <td>0.013153</td>\n",
       "      <td>0.010041</td>\n",
       "      <td>0.779220</td>\n",
       "      <td>1.000000</td>\n",
       "      <td>0.420101</td>\n",
       "    </tr>\n",
       "    <tr>\n",
       "      <th>angle(Z,gravityMean)</th>\n",
       "      <td>0.064228</td>\n",
       "      <td>0.000341</td>\n",
       "      <td>0.039224</td>\n",
       "      <td>0.364347</td>\n",
       "      <td>0.399945</td>\n",
       "      <td>0.494068</td>\n",
       "      <td>0.361699</td>\n",
       "      <td>0.398951</td>\n",
       "      <td>0.490453</td>\n",
       "      <td>0.378636</td>\n",
       "      <td>...</td>\n",
       "      <td>0.014733</td>\n",
       "      <td>0.020031</td>\n",
       "      <td>0.026460</td>\n",
       "      <td>0.007469</td>\n",
       "      <td>0.006834</td>\n",
       "      <td>0.036380</td>\n",
       "      <td>0.000546</td>\n",
       "      <td>0.606711</td>\n",
       "      <td>0.420101</td>\n",
       "      <td>1.000000</td>\n",
       "    </tr>\n",
       "  </tbody>\n",
       "</table>\n",
       "<p>10 rows × 561 columns</p>\n",
       "</div>"
      ],
      "text/plain": [
       "                                      tBodyAcc-mean()-X  tBodyAcc-mean()-Y  \\\n",
       "fBodyBodyGyroJerkMag-meanFreq()                0.051729           0.013628   \n",
       "fBodyBodyGyroJerkMag-skewness()                0.033132           0.015124   \n",
       "fBodyBodyGyroJerkMag-kurtosis()                0.030393           0.016583   \n",
       "angle(tBodyAccMean,gravity)                    0.537169           0.098383   \n",
       "angle(tBodyAccJerkMean),gravityMean)           0.017473           0.037037   \n",
       "angle(tBodyGyroMean,gravityMean)               0.031991           0.015642   \n",
       "angle(tBodyGyroJerkMean,gravityMean)           0.022377           0.065119   \n",
       "angle(X,gravityMean)                           0.058346           0.027517   \n",
       "angle(Y,gravityMean)                           0.037494           0.021800   \n",
       "angle(Z,gravityMean)                           0.064228           0.000341   \n",
       "\n",
       "                                      tBodyAcc-mean()-Z  tBodyAcc-std()-X  \\\n",
       "fBodyBodyGyroJerkMag-meanFreq()                0.022421          0.114466   \n",
       "fBodyBodyGyroJerkMag-skewness()                0.013517          0.110263   \n",
       "fBodyBodyGyroJerkMag-kurtosis()                0.016163          0.077198   \n",
       "angle(tBodyAccMean,gravity)                    0.077338          0.038117   \n",
       "angle(tBodyAccJerkMean),gravityMean)           0.041435          0.013785   \n",
       "angle(tBodyGyroMean,gravityMean)               0.082395          0.006533   \n",
       "angle(tBodyGyroJerkMean,gravityMean)           0.037993          0.025238   \n",
       "angle(X,gravityMean)                           0.004840          0.355776   \n",
       "angle(Y,gravityMean)                           0.027387          0.459550   \n",
       "angle(Z,gravityMean)                           0.039224          0.364347   \n",
       "\n",
       "                                      tBodyAcc-std()-Y  tBodyAcc-std()-Z  \\\n",
       "fBodyBodyGyroJerkMag-meanFreq()               0.149048          0.130018   \n",
       "fBodyBodyGyroJerkMag-skewness()               0.171082          0.100837   \n",
       "fBodyBodyGyroJerkMag-kurtosis()               0.141451          0.073809   \n",
       "angle(tBodyAccMean,gravity)                   0.017756          0.000083   \n",
       "angle(tBodyAccJerkMean),gravityMean)          0.009366          0.016370   \n",
       "angle(tBodyGyroMean,gravityMean)              0.017264          0.031706   \n",
       "angle(tBodyGyroJerkMean,gravityMean)          0.012160          0.005181   \n",
       "angle(X,gravityMean)                          0.363569          0.284434   \n",
       "angle(Y,gravityMean)                          0.511307          0.452338   \n",
       "angle(Z,gravityMean)                          0.399945          0.494068   \n",
       "\n",
       "                                      tBodyAcc-mad()-X  tBodyAcc-mad()-Y  \\\n",
       "fBodyBodyGyroJerkMag-meanFreq()               0.111567          0.147510   \n",
       "fBodyBodyGyroJerkMag-skewness()               0.111161          0.168519   \n",
       "fBodyBodyGyroJerkMag-kurtosis()               0.078183          0.140030   \n",
       "angle(tBodyAccMean,gravity)                   0.047356          0.022437   \n",
       "angle(tBodyAccJerkMean),gravityMean)          0.014068          0.011382   \n",
       "angle(tBodyGyroMean,gravityMean)              0.005460          0.023953   \n",
       "angle(tBodyGyroJerkMean,gravityMean)          0.024678          0.009749   \n",
       "angle(X,gravityMean)                          0.355122          0.362214   \n",
       "angle(Y,gravityMean)                          0.455485          0.515449   \n",
       "angle(Z,gravityMean)                          0.361699          0.398951   \n",
       "\n",
       "                                      tBodyAcc-mad()-Z  tBodyAcc-max()-X  \\\n",
       "fBodyBodyGyroJerkMag-meanFreq()               0.131044          0.116623   \n",
       "fBodyBodyGyroJerkMag-skewness()               0.106949          0.115413   \n",
       "fBodyBodyGyroJerkMag-kurtosis()               0.080556          0.083497   \n",
       "angle(tBodyAccMean,gravity)                   0.002337          0.033917   \n",
       "angle(tBodyAccJerkMean),gravityMean)          0.018144          0.012425   \n",
       "angle(tBodyGyroMean,gravityMean)              0.035566          0.016734   \n",
       "angle(tBodyGyroJerkMean,gravityMean)          0.005130          0.032166   \n",
       "angle(X,gravityMean)                          0.290604          0.362834   \n",
       "angle(Y,gravityMean)                          0.457364          0.469629   \n",
       "angle(Z,gravityMean)                          0.490453          0.378636   \n",
       "\n",
       "                                              ...           \\\n",
       "fBodyBodyGyroJerkMag-meanFreq()               ...            \n",
       "fBodyBodyGyroJerkMag-skewness()               ...            \n",
       "fBodyBodyGyroJerkMag-kurtosis()               ...            \n",
       "angle(tBodyAccMean,gravity)                   ...            \n",
       "angle(tBodyAccJerkMean),gravityMean)          ...            \n",
       "angle(tBodyGyroMean,gravityMean)              ...            \n",
       "angle(tBodyGyroJerkMean,gravityMean)          ...            \n",
       "angle(X,gravityMean)                          ...            \n",
       "angle(Y,gravityMean)                          ...            \n",
       "angle(Z,gravityMean)                          ...            \n",
       "\n",
       "                                      fBodyBodyGyroJerkMag-meanFreq()  \\\n",
       "fBodyBodyGyroJerkMag-meanFreq()                              1.000000   \n",
       "fBodyBodyGyroJerkMag-skewness()                              0.432245   \n",
       "fBodyBodyGyroJerkMag-kurtosis()                              0.302784   \n",
       "angle(tBodyAccMean,gravity)                                  0.010993   \n",
       "angle(tBodyAccJerkMean),gravityMean)                         0.000528   \n",
       "angle(tBodyGyroMean,gravityMean)                             0.030186   \n",
       "angle(tBodyGyroJerkMean,gravityMean)                         0.013132   \n",
       "angle(X,gravityMean)                                         0.038626   \n",
       "angle(Y,gravityMean)                                         0.057248   \n",
       "angle(Z,gravityMean)                                         0.014733   \n",
       "\n",
       "                                      fBodyBodyGyroJerkMag-skewness()  \\\n",
       "fBodyBodyGyroJerkMag-meanFreq()                              0.432245   \n",
       "fBodyBodyGyroJerkMag-skewness()                              1.000000   \n",
       "fBodyBodyGyroJerkMag-kurtosis()                              0.968143   \n",
       "angle(tBodyAccMean,gravity)                                  0.012806   \n",
       "angle(tBodyAccJerkMean),gravityMean)                         0.025252   \n",
       "angle(tBodyGyroMean,gravityMean)                             0.042898   \n",
       "angle(tBodyGyroJerkMean,gravityMean)                         0.035166   \n",
       "angle(X,gravityMean)                                         0.071880   \n",
       "angle(Y,gravityMean)                                         0.030150   \n",
       "angle(Z,gravityMean)                                         0.020031   \n",
       "\n",
       "                                      fBodyBodyGyroJerkMag-kurtosis()  \\\n",
       "fBodyBodyGyroJerkMag-meanFreq()                              0.302784   \n",
       "fBodyBodyGyroJerkMag-skewness()                              0.968143   \n",
       "fBodyBodyGyroJerkMag-kurtosis()                              1.000000   \n",
       "angle(tBodyAccMean,gravity)                                  0.016135   \n",
       "angle(tBodyAccJerkMean),gravityMean)                         0.030162   \n",
       "angle(tBodyGyroMean,gravityMean)                             0.033908   \n",
       "angle(tBodyGyroJerkMean,gravityMean)                         0.028597   \n",
       "angle(X,gravityMean)                                         0.078075   \n",
       "angle(Y,gravityMean)                                         0.028794   \n",
       "angle(Z,gravityMean)                                         0.026460   \n",
       "\n",
       "                                      angle(tBodyAccMean,gravity)  \\\n",
       "fBodyBodyGyroJerkMag-meanFreq()                          0.010993   \n",
       "fBodyBodyGyroJerkMag-skewness()                          0.012806   \n",
       "fBodyBodyGyroJerkMag-kurtosis()                          0.016135   \n",
       "angle(tBodyAccMean,gravity)                              1.000000   \n",
       "angle(tBodyAccJerkMean),gravityMean)                     0.091056   \n",
       "angle(tBodyGyroMean,gravityMean)                         0.009381   \n",
       "angle(tBodyGyroJerkMean,gravityMean)                     0.032010   \n",
       "angle(X,gravityMean)                                     0.015271   \n",
       "angle(Y,gravityMean)                                     0.004304   \n",
       "angle(Z,gravityMean)                                     0.007469   \n",
       "\n",
       "                                      angle(tBodyAccJerkMean),gravityMean)  \\\n",
       "fBodyBodyGyroJerkMag-meanFreq()                                   0.000528   \n",
       "fBodyBodyGyroJerkMag-skewness()                                   0.025252   \n",
       "fBodyBodyGyroJerkMag-kurtosis()                                   0.030162   \n",
       "angle(tBodyAccMean,gravity)                                       0.091056   \n",
       "angle(tBodyAccJerkMean),gravityMean)                              1.000000   \n",
       "angle(tBodyGyroMean,gravityMean)                                  0.032358   \n",
       "angle(tBodyGyroJerkMean,gravityMean)                              0.019605   \n",
       "angle(X,gravityMean)                                              0.021197   \n",
       "angle(Y,gravityMean)                                              0.006430   \n",
       "angle(Z,gravityMean)                                              0.006834   \n",
       "\n",
       "                                      angle(tBodyGyroMean,gravityMean)  \\\n",
       "fBodyBodyGyroJerkMag-meanFreq()                               0.030186   \n",
       "fBodyBodyGyroJerkMag-skewness()                               0.042898   \n",
       "fBodyBodyGyroJerkMag-kurtosis()                               0.033908   \n",
       "angle(tBodyAccMean,gravity)                                   0.009381   \n",
       "angle(tBodyAccJerkMean),gravityMean)                          0.032358   \n",
       "angle(tBodyGyroMean,gravityMean)                              1.000000   \n",
       "angle(tBodyGyroJerkMean,gravityMean)                          0.159409   \n",
       "angle(X,gravityMean)                                          0.007684   \n",
       "angle(Y,gravityMean)                                          0.013153   \n",
       "angle(Z,gravityMean)                                          0.036380   \n",
       "\n",
       "                                      angle(tBodyGyroJerkMean,gravityMean)  \\\n",
       "fBodyBodyGyroJerkMag-meanFreq()                                   0.013132   \n",
       "fBodyBodyGyroJerkMag-skewness()                                   0.035166   \n",
       "fBodyBodyGyroJerkMag-kurtosis()                                   0.028597   \n",
       "angle(tBodyAccMean,gravity)                                       0.032010   \n",
       "angle(tBodyAccJerkMean),gravityMean)                              0.019605   \n",
       "angle(tBodyGyroMean,gravityMean)                                  0.159409   \n",
       "angle(tBodyGyroJerkMean,gravityMean)                              1.000000   \n",
       "angle(X,gravityMean)                                              0.033451   \n",
       "angle(Y,gravityMean)                                              0.010041   \n",
       "angle(Z,gravityMean)                                              0.000546   \n",
       "\n",
       "                                      angle(X,gravityMean)  \\\n",
       "fBodyBodyGyroJerkMag-meanFreq()                   0.038626   \n",
       "fBodyBodyGyroJerkMag-skewness()                   0.071880   \n",
       "fBodyBodyGyroJerkMag-kurtosis()                   0.078075   \n",
       "angle(tBodyAccMean,gravity)                       0.015271   \n",
       "angle(tBodyAccJerkMean),gravityMean)              0.021197   \n",
       "angle(tBodyGyroMean,gravityMean)                  0.007684   \n",
       "angle(tBodyGyroJerkMean,gravityMean)              0.033451   \n",
       "angle(X,gravityMean)                              1.000000   \n",
       "angle(Y,gravityMean)                              0.779220   \n",
       "angle(Z,gravityMean)                              0.606711   \n",
       "\n",
       "                                      angle(Y,gravityMean)  \\\n",
       "fBodyBodyGyroJerkMag-meanFreq()                   0.057248   \n",
       "fBodyBodyGyroJerkMag-skewness()                   0.030150   \n",
       "fBodyBodyGyroJerkMag-kurtosis()                   0.028794   \n",
       "angle(tBodyAccMean,gravity)                       0.004304   \n",
       "angle(tBodyAccJerkMean),gravityMean)              0.006430   \n",
       "angle(tBodyGyroMean,gravityMean)                  0.013153   \n",
       "angle(tBodyGyroJerkMean,gravityMean)              0.010041   \n",
       "angle(X,gravityMean)                              0.779220   \n",
       "angle(Y,gravityMean)                              1.000000   \n",
       "angle(Z,gravityMean)                              0.420101   \n",
       "\n",
       "                                      angle(Z,gravityMean)  \n",
       "fBodyBodyGyroJerkMag-meanFreq()                   0.014733  \n",
       "fBodyBodyGyroJerkMag-skewness()                   0.020031  \n",
       "fBodyBodyGyroJerkMag-kurtosis()                   0.026460  \n",
       "angle(tBodyAccMean,gravity)                       0.007469  \n",
       "angle(tBodyAccJerkMean),gravityMean)              0.006834  \n",
       "angle(tBodyGyroMean,gravityMean)                  0.036380  \n",
       "angle(tBodyGyroJerkMean,gravityMean)              0.000546  \n",
       "angle(X,gravityMean)                              0.606711  \n",
       "angle(Y,gravityMean)                              0.420101  \n",
       "angle(Z,gravityMean)                              1.000000  \n",
       "\n",
       "[10 rows x 561 columns]"
      ]
     },
     "execution_count": 38,
     "metadata": {},
     "output_type": "execute_result"
    }
   ],
   "source": [
    "abs_corr_values.head(10)\n",
    "abs_corr_values.tail(10)"
   ]
  },
  {
   "cell_type": "code",
   "execution_count": 39,
   "metadata": {},
   "outputs": [
    {
     "data": {
      "text/plain": [
       "angle(X,gravityMean)      1.000000\n",
       "tGravityAcc-energy()-X    0.991948\n",
       "tGravityAcc-mean()-X      0.987769\n",
       "tGravityAcc-min()-X       0.986844\n",
       "tGravityAcc-max()-X       0.983539\n",
       "tGravityAcc-energy()-Y    0.823226\n",
       "angle(Y,gravityMean)      0.779220\n",
       "tGravityAcc-max()-Y       0.769547\n",
       "tGravityAcc-mean()-Y      0.768017\n",
       "tGravityAcc-min()-Y       0.765798\n",
       "Name: angle(X,gravityMean), dtype: float64"
      ]
     },
     "execution_count": 39,
     "metadata": {},
     "output_type": "execute_result"
    }
   ],
   "source": [
    "abs_corr_values['angle(X,gravityMean)'].sort_values(ascending = False).head(10)"
   ]
  },
  {
   "cell_type": "code",
   "execution_count": 40,
   "metadata": {},
   "outputs": [
    {
     "data": {
      "text/plain": [
       "angle(Y,gravityMean)      1.000000\n",
       "tGravityAcc-mean()-Y      0.992824\n",
       "tGravityAcc-max()-Y       0.990933\n",
       "tGravityAcc-min()-Y       0.990218\n",
       "tGravityAcc-energy()-Y    0.894952\n",
       "tGravityAcc-energy()-X    0.812217\n",
       "tGravityAcc-max()-X       0.810761\n",
       "tGravityAcc-mean()-X      0.810569\n",
       "tGravityAcc-min()-X       0.807006\n",
       "angle(X,gravityMean)      0.779220\n",
       "Name: angle(Y,gravityMean), dtype: float64"
      ]
     },
     "execution_count": 40,
     "metadata": {},
     "output_type": "execute_result"
    }
   ],
   "source": [
    "abs_corr_values['angle(Y,gravityMean)'].sort_values(ascending = False).head(10)"
   ]
  },
  {
   "cell_type": "code",
   "execution_count": 41,
   "metadata": {},
   "outputs": [
    {
     "data": {
      "text/plain": [
       "angle(Z,gravityMean)      1.000000\n",
       "tGravityAcc-mean()-Z      0.994293\n",
       "tGravityAcc-max()-Z       0.991728\n",
       "tGravityAcc-min()-Z       0.989902\n",
       "tGravityAcc-energy()-Z    0.709247\n",
       "tGravityAcc-mean()-X      0.656812\n",
       "tGravityAcc-min()-X       0.655341\n",
       "tGravityAcc-max()-X       0.653533\n",
       "tGravityAcc-energy()-X    0.624532\n",
       "angle(X,gravityMean)      0.606711\n",
       "Name: angle(Z,gravityMean), dtype: float64"
      ]
     },
     "execution_count": 41,
     "metadata": {},
     "output_type": "execute_result"
    }
   ],
   "source": [
    "abs_corr_values['angle(Z,gravityMean)'].sort_values(ascending = False).head(10)"
   ]
  },
  {
   "cell_type": "markdown",
   "metadata": {},
   "source": [
    "I also found that some of the columns are highly correlated with other columns such as the tables shown above while other columns are not highly correlated with other columns shown below. The correlation between variable might be something to look more into in the future. "
   ]
  },
  {
   "cell_type": "code",
   "execution_count": 42,
   "metadata": {},
   "outputs": [
    {
     "data": {
      "text/plain": [
       "tBodyAcc-mean()-X              1.000000\n",
       "angle(tBodyAccMean,gravity)    0.537169\n",
       "tGravityAcc-iqr()-X            0.529312\n",
       "tGravityAcc-mad()-X            0.515259\n",
       "tGravityAcc-std()-X            0.507877\n",
       "tGravityAcc-mad()-Y            0.297909\n",
       "tGravityAcc-std()-Y            0.297308\n",
       "tGravityAcc-iqr()-Y            0.294034\n",
       "tGravityAcc-std()-Z            0.277990\n",
       "tGravityAcc-mad()-Z            0.273157\n",
       "Name: tBodyAcc-mean()-X, dtype: float64"
      ]
     },
     "execution_count": 42,
     "metadata": {},
     "output_type": "execute_result"
    }
   ],
   "source": [
    "abs_corr_values['tBodyAcc-mean()-X'].sort_values(ascending = False).head(10)"
   ]
  },
  {
   "cell_type": "code",
   "execution_count": 43,
   "metadata": {},
   "outputs": [
    {
     "data": {
      "text/plain": [
       "tBodyAcc-mean()-Y                   1.000000\n",
       "tBodyAcc-entropy()-Y                0.180086\n",
       "tBodyGyroJerk-mean()-X              0.166307\n",
       "tBodyGyroJerk-mean()-Z              0.164640\n",
       "tBodyAcc-min()-Y                    0.143399\n",
       "tGravityAcc-iqr()-X                 0.121317\n",
       "tBodyGyro-energy()-X                0.116679\n",
       "fBodyAccJerk-bandsEnergy()-1,8.1    0.116675\n",
       "fBodyAccMag-min()                   0.116278\n",
       "tBodyGyro-min()-X                   0.113162\n",
       "Name: tBodyAcc-mean()-Y, dtype: float64"
      ]
     },
     "execution_count": 43,
     "metadata": {},
     "output_type": "execute_result"
    }
   ],
   "source": [
    "abs_corr_values['tBodyAcc-mean()-Y'].sort_values(ascending = False).head(10)"
   ]
  },
  {
   "cell_type": "code",
   "execution_count": 44,
   "metadata": {},
   "outputs": [
    {
     "data": {
      "text/plain": [
       "tBodyAcc-mean()-Z         1.000000\n",
       "tBodyAcc-entropy()-Z      0.290964\n",
       "tBodyGyroJerk-mean()-Y    0.223884\n",
       "tGravityAcc-iqr()-X       0.199452\n",
       "tBodyAccJerk-mean()-Z     0.176028\n",
       "tGravityAcc-mad()-X       0.171978\n",
       "tGravityAcc-iqr()-Y       0.170222\n",
       "tGravityAcc-std()-X       0.161851\n",
       "tGravityAcc-mad()-Y       0.159065\n",
       "tGravityAcc-std()-Y       0.154578\n",
       "Name: tBodyAcc-mean()-Z, dtype: float64"
      ]
     },
     "execution_count": 44,
     "metadata": {},
     "output_type": "execute_result"
    }
   ],
   "source": [
    "abs_corr_values['tBodyAcc-mean()-Z'].sort_values(ascending = False).head(10)"
   ]
  },
  {
   "cell_type": "code",
   "execution_count": 45,
   "metadata": {},
   "outputs": [
    {
     "data": {
      "text/html": [
       "<div>\n",
       "<style scoped>\n",
       "    .dataframe tbody tr th:only-of-type {\n",
       "        vertical-align: middle;\n",
       "    }\n",
       "\n",
       "    .dataframe tbody tr th {\n",
       "        vertical-align: top;\n",
       "    }\n",
       "\n",
       "    .dataframe thead th {\n",
       "        text-align: right;\n",
       "    }\n",
       "</style>\n",
       "<table border=\"1\" class=\"dataframe\">\n",
       "  <thead>\n",
       "    <tr style=\"text-align: right;\">\n",
       "      <th></th>\n",
       "      <th>tBodyAcc-mean()-X</th>\n",
       "      <th>tBodyAcc-mean()-Y</th>\n",
       "      <th>tBodyAcc-mean()-Z</th>\n",
       "      <th>tBodyAcc-std()-X</th>\n",
       "      <th>tBodyAcc-std()-Y</th>\n",
       "      <th>tBodyAcc-std()-Z</th>\n",
       "      <th>tBodyAcc-mad()-X</th>\n",
       "      <th>tBodyAcc-mad()-Y</th>\n",
       "      <th>tBodyAcc-mad()-Z</th>\n",
       "      <th>tBodyAcc-max()-X</th>\n",
       "      <th>...</th>\n",
       "      <th>fBodyBodyGyroJerkMag-meanFreq()</th>\n",
       "      <th>fBodyBodyGyroJerkMag-skewness()</th>\n",
       "      <th>fBodyBodyGyroJerkMag-kurtosis()</th>\n",
       "      <th>angle(tBodyAccMean,gravity)</th>\n",
       "      <th>angle(tBodyAccJerkMean),gravityMean)</th>\n",
       "      <th>angle(tBodyGyroMean,gravityMean)</th>\n",
       "      <th>angle(tBodyGyroJerkMean,gravityMean)</th>\n",
       "      <th>angle(X,gravityMean)</th>\n",
       "      <th>angle(Y,gravityMean)</th>\n",
       "      <th>angle(Z,gravityMean)</th>\n",
       "    </tr>\n",
       "    <tr>\n",
       "      <th>Activity</th>\n",
       "      <th></th>\n",
       "      <th></th>\n",
       "      <th></th>\n",
       "      <th></th>\n",
       "      <th></th>\n",
       "      <th></th>\n",
       "      <th></th>\n",
       "      <th></th>\n",
       "      <th></th>\n",
       "      <th></th>\n",
       "      <th></th>\n",
       "      <th></th>\n",
       "      <th></th>\n",
       "      <th></th>\n",
       "      <th></th>\n",
       "      <th></th>\n",
       "      <th></th>\n",
       "      <th></th>\n",
       "      <th></th>\n",
       "      <th></th>\n",
       "      <th></th>\n",
       "    </tr>\n",
       "  </thead>\n",
       "  <tbody>\n",
       "    <tr>\n",
       "      <th>LAYING</th>\n",
       "      <td>0.263903</td>\n",
       "      <td>-0.018654</td>\n",
       "      <td>-0.108343</td>\n",
       "      <td>-0.957706</td>\n",
       "      <td>-0.937454</td>\n",
       "      <td>-0.937588</td>\n",
       "      <td>-0.960411</td>\n",
       "      <td>-0.938845</td>\n",
       "      <td>-0.937007</td>\n",
       "      <td>-0.911495</td>\n",
       "      <td>...</td>\n",
       "      <td>0.145645</td>\n",
       "      <td>-0.342496</td>\n",
       "      <td>-0.662638</td>\n",
       "      <td>0.015162</td>\n",
       "      <td>0.012732</td>\n",
       "      <td>0.017888</td>\n",
       "      <td>0.015719</td>\n",
       "      <td>0.453640</td>\n",
       "      <td>-0.502988</td>\n",
       "      <td>-0.394758</td>\n",
       "    </tr>\n",
       "    <tr>\n",
       "      <th>SITTING</th>\n",
       "      <td>0.273927</td>\n",
       "      <td>-0.010250</td>\n",
       "      <td>-0.106726</td>\n",
       "      <td>-0.981384</td>\n",
       "      <td>-0.921649</td>\n",
       "      <td>-0.929737</td>\n",
       "      <td>-0.983636</td>\n",
       "      <td>-0.921765</td>\n",
       "      <td>-0.927377</td>\n",
       "      <td>-0.923227</td>\n",
       "      <td>...</td>\n",
       "      <td>0.165050</td>\n",
       "      <td>-0.361185</td>\n",
       "      <td>-0.663785</td>\n",
       "      <td>0.012152</td>\n",
       "      <td>-0.003669</td>\n",
       "      <td>0.019877</td>\n",
       "      <td>-0.040293</td>\n",
       "      <td>-0.752715</td>\n",
       "      <td>0.018036</td>\n",
       "      <td>-0.039935</td>\n",
       "    </tr>\n",
       "    <tr>\n",
       "      <th>STANDING</th>\n",
       "      <td>0.280305</td>\n",
       "      <td>-0.015582</td>\n",
       "      <td>-0.106243</td>\n",
       "      <td>-0.983506</td>\n",
       "      <td>-0.934973</td>\n",
       "      <td>-0.937926</td>\n",
       "      <td>-0.986080</td>\n",
       "      <td>-0.935701</td>\n",
       "      <td>-0.935482</td>\n",
       "      <td>-0.920674</td>\n",
       "      <td>...</td>\n",
       "      <td>0.130692</td>\n",
       "      <td>-0.365593</td>\n",
       "      <td>-0.669626</td>\n",
       "      <td>0.006925</td>\n",
       "      <td>0.008115</td>\n",
       "      <td>0.012942</td>\n",
       "      <td>0.006816</td>\n",
       "      <td>-0.761123</td>\n",
       "      <td>0.204257</td>\n",
       "      <td>0.061122</td>\n",
       "    </tr>\n",
       "    <tr>\n",
       "      <th>WALKING</th>\n",
       "      <td>0.275595</td>\n",
       "      <td>-0.018163</td>\n",
       "      <td>-0.109162</td>\n",
       "      <td>-0.327872</td>\n",
       "      <td>0.028233</td>\n",
       "      <td>-0.274606</td>\n",
       "      <td>-0.365196</td>\n",
       "      <td>-0.004816</td>\n",
       "      <td>-0.271561</td>\n",
       "      <td>-0.137782</td>\n",
       "      <td>...</td>\n",
       "      <td>0.112963</td>\n",
       "      <td>-0.111374</td>\n",
       "      <td>-0.442675</td>\n",
       "      <td>0.027027</td>\n",
       "      <td>-0.021012</td>\n",
       "      <td>-0.009273</td>\n",
       "      <td>-0.003738</td>\n",
       "      <td>-0.736918</td>\n",
       "      <td>0.224578</td>\n",
       "      <td>0.093349</td>\n",
       "    </tr>\n",
       "    <tr>\n",
       "      <th>WALKING_DOWNSTAIRS</th>\n",
       "      <td>0.288372</td>\n",
       "      <td>-0.015766</td>\n",
       "      <td>-0.105428</td>\n",
       "      <td>0.152438</td>\n",
       "      <td>0.086054</td>\n",
       "      <td>-0.147136</td>\n",
       "      <td>0.079455</td>\n",
       "      <td>0.017727</td>\n",
       "      <td>-0.167027</td>\n",
       "      <td>0.470403</td>\n",
       "      <td>...</td>\n",
       "      <td>0.094102</td>\n",
       "      <td>-0.343998</td>\n",
       "      <td>-0.685029</td>\n",
       "      <td>-0.039575</td>\n",
       "      <td>-0.013467</td>\n",
       "      <td>0.184733</td>\n",
       "      <td>-0.088149</td>\n",
       "      <td>-0.764140</td>\n",
       "      <td>0.204845</td>\n",
       "      <td>0.086900</td>\n",
       "    </tr>\n",
       "    <tr>\n",
       "      <th>WALKING_UPSTAIRS</th>\n",
       "      <td>0.260480</td>\n",
       "      <td>-0.026238</td>\n",
       "      <td>-0.115932</td>\n",
       "      <td>-0.212185</td>\n",
       "      <td>0.033065</td>\n",
       "      <td>-0.128947</td>\n",
       "      <td>-0.268224</td>\n",
       "      <td>0.020436</td>\n",
       "      <td>-0.120511</td>\n",
       "      <td>-0.015491</td>\n",
       "      <td>...</td>\n",
       "      <td>0.085891</td>\n",
       "      <td>-0.364524</td>\n",
       "      <td>-0.678760</td>\n",
       "      <td>0.033362</td>\n",
       "      <td>-0.001397</td>\n",
       "      <td>-0.159647</td>\n",
       "      <td>0.049634</td>\n",
       "      <td>-0.602492</td>\n",
       "      <td>0.288203</td>\n",
       "      <td>0.142073</td>\n",
       "    </tr>\n",
       "  </tbody>\n",
       "</table>\n",
       "<p>6 rows × 561 columns</p>\n",
       "</div>"
      ],
      "text/plain": [
       "                    tBodyAcc-mean()-X  tBodyAcc-mean()-Y  tBodyAcc-mean()-Z  \\\n",
       "Activity                                                                      \n",
       "LAYING                       0.263903          -0.018654          -0.108343   \n",
       "SITTING                      0.273927          -0.010250          -0.106726   \n",
       "STANDING                     0.280305          -0.015582          -0.106243   \n",
       "WALKING                      0.275595          -0.018163          -0.109162   \n",
       "WALKING_DOWNSTAIRS           0.288372          -0.015766          -0.105428   \n",
       "WALKING_UPSTAIRS             0.260480          -0.026238          -0.115932   \n",
       "\n",
       "                    tBodyAcc-std()-X  tBodyAcc-std()-Y  tBodyAcc-std()-Z  \\\n",
       "Activity                                                                   \n",
       "LAYING                     -0.957706         -0.937454         -0.937588   \n",
       "SITTING                    -0.981384         -0.921649         -0.929737   \n",
       "STANDING                   -0.983506         -0.934973         -0.937926   \n",
       "WALKING                    -0.327872          0.028233         -0.274606   \n",
       "WALKING_DOWNSTAIRS          0.152438          0.086054         -0.147136   \n",
       "WALKING_UPSTAIRS           -0.212185          0.033065         -0.128947   \n",
       "\n",
       "                    tBodyAcc-mad()-X  tBodyAcc-mad()-Y  tBodyAcc-mad()-Z  \\\n",
       "Activity                                                                   \n",
       "LAYING                     -0.960411         -0.938845         -0.937007   \n",
       "SITTING                    -0.983636         -0.921765         -0.927377   \n",
       "STANDING                   -0.986080         -0.935701         -0.935482   \n",
       "WALKING                    -0.365196         -0.004816         -0.271561   \n",
       "WALKING_DOWNSTAIRS          0.079455          0.017727         -0.167027   \n",
       "WALKING_UPSTAIRS           -0.268224          0.020436         -0.120511   \n",
       "\n",
       "                    tBodyAcc-max()-X          ...           \\\n",
       "Activity                                      ...            \n",
       "LAYING                     -0.911495          ...            \n",
       "SITTING                    -0.923227          ...            \n",
       "STANDING                   -0.920674          ...            \n",
       "WALKING                    -0.137782          ...            \n",
       "WALKING_DOWNSTAIRS          0.470403          ...            \n",
       "WALKING_UPSTAIRS           -0.015491          ...            \n",
       "\n",
       "                    fBodyBodyGyroJerkMag-meanFreq()  \\\n",
       "Activity                                              \n",
       "LAYING                                     0.145645   \n",
       "SITTING                                    0.165050   \n",
       "STANDING                                   0.130692   \n",
       "WALKING                                    0.112963   \n",
       "WALKING_DOWNSTAIRS                         0.094102   \n",
       "WALKING_UPSTAIRS                           0.085891   \n",
       "\n",
       "                    fBodyBodyGyroJerkMag-skewness()  \\\n",
       "Activity                                              \n",
       "LAYING                                    -0.342496   \n",
       "SITTING                                   -0.361185   \n",
       "STANDING                                  -0.365593   \n",
       "WALKING                                   -0.111374   \n",
       "WALKING_DOWNSTAIRS                        -0.343998   \n",
       "WALKING_UPSTAIRS                          -0.364524   \n",
       "\n",
       "                    fBodyBodyGyroJerkMag-kurtosis()  \\\n",
       "Activity                                              \n",
       "LAYING                                    -0.662638   \n",
       "SITTING                                   -0.663785   \n",
       "STANDING                                  -0.669626   \n",
       "WALKING                                   -0.442675   \n",
       "WALKING_DOWNSTAIRS                        -0.685029   \n",
       "WALKING_UPSTAIRS                          -0.678760   \n",
       "\n",
       "                    angle(tBodyAccMean,gravity)  \\\n",
       "Activity                                          \n",
       "LAYING                                 0.015162   \n",
       "SITTING                                0.012152   \n",
       "STANDING                               0.006925   \n",
       "WALKING                                0.027027   \n",
       "WALKING_DOWNSTAIRS                    -0.039575   \n",
       "WALKING_UPSTAIRS                       0.033362   \n",
       "\n",
       "                    angle(tBodyAccJerkMean),gravityMean)  \\\n",
       "Activity                                                   \n",
       "LAYING                                          0.012732   \n",
       "SITTING                                        -0.003669   \n",
       "STANDING                                        0.008115   \n",
       "WALKING                                        -0.021012   \n",
       "WALKING_DOWNSTAIRS                             -0.013467   \n",
       "WALKING_UPSTAIRS                               -0.001397   \n",
       "\n",
       "                    angle(tBodyGyroMean,gravityMean)  \\\n",
       "Activity                                               \n",
       "LAYING                                      0.017888   \n",
       "SITTING                                     0.019877   \n",
       "STANDING                                    0.012942   \n",
       "WALKING                                    -0.009273   \n",
       "WALKING_DOWNSTAIRS                          0.184733   \n",
       "WALKING_UPSTAIRS                           -0.159647   \n",
       "\n",
       "                    angle(tBodyGyroJerkMean,gravityMean)  \\\n",
       "Activity                                                   \n",
       "LAYING                                          0.015719   \n",
       "SITTING                                        -0.040293   \n",
       "STANDING                                        0.006816   \n",
       "WALKING                                        -0.003738   \n",
       "WALKING_DOWNSTAIRS                             -0.088149   \n",
       "WALKING_UPSTAIRS                                0.049634   \n",
       "\n",
       "                    angle(X,gravityMean)  angle(Y,gravityMean)  \\\n",
       "Activity                                                         \n",
       "LAYING                          0.453640             -0.502988   \n",
       "SITTING                        -0.752715              0.018036   \n",
       "STANDING                       -0.761123              0.204257   \n",
       "WALKING                        -0.736918              0.224578   \n",
       "WALKING_DOWNSTAIRS             -0.764140              0.204845   \n",
       "WALKING_UPSTAIRS               -0.602492              0.288203   \n",
       "\n",
       "                    angle(Z,gravityMean)  \n",
       "Activity                                  \n",
       "LAYING                         -0.394758  \n",
       "SITTING                        -0.039935  \n",
       "STANDING                        0.061122  \n",
       "WALKING                         0.093349  \n",
       "WALKING_DOWNSTAIRS              0.086900  \n",
       "WALKING_UPSTAIRS                0.142073  \n",
       "\n",
       "[6 rows x 561 columns]"
      ]
     },
     "execution_count": 45,
     "metadata": {},
     "output_type": "execute_result"
    }
   ],
   "source": [
    "train.groupby('Activity').mean()"
   ]
  },
  {
   "cell_type": "code",
   "execution_count": 46,
   "metadata": {},
   "outputs": [
    {
     "data": {
      "text/html": [
       "<div>\n",
       "<style scoped>\n",
       "    .dataframe tbody tr th:only-of-type {\n",
       "        vertical-align: middle;\n",
       "    }\n",
       "\n",
       "    .dataframe tbody tr th {\n",
       "        vertical-align: top;\n",
       "    }\n",
       "\n",
       "    .dataframe thead th {\n",
       "        text-align: right;\n",
       "    }\n",
       "</style>\n",
       "<table border=\"1\" class=\"dataframe\">\n",
       "  <thead>\n",
       "    <tr style=\"text-align: right;\">\n",
       "      <th></th>\n",
       "      <th>tBodyAcc-mean()-X</th>\n",
       "      <th>tBodyAcc-mean()-Y</th>\n",
       "      <th>tBodyAcc-mean()-Z</th>\n",
       "      <th>tBodyAcc-std()-X</th>\n",
       "      <th>tBodyAcc-std()-Y</th>\n",
       "      <th>tBodyAcc-std()-Z</th>\n",
       "      <th>tBodyAcc-mad()-X</th>\n",
       "      <th>tBodyAcc-mad()-Y</th>\n",
       "      <th>tBodyAcc-mad()-Z</th>\n",
       "      <th>tBodyAcc-max()-X</th>\n",
       "      <th>...</th>\n",
       "      <th>fBodyBodyGyroJerkMag-meanFreq()</th>\n",
       "      <th>fBodyBodyGyroJerkMag-skewness()</th>\n",
       "      <th>fBodyBodyGyroJerkMag-kurtosis()</th>\n",
       "      <th>angle(tBodyAccMean,gravity)</th>\n",
       "      <th>angle(tBodyAccJerkMean),gravityMean)</th>\n",
       "      <th>angle(tBodyGyroMean,gravityMean)</th>\n",
       "      <th>angle(tBodyGyroJerkMean,gravityMean)</th>\n",
       "      <th>angle(X,gravityMean)</th>\n",
       "      <th>angle(Y,gravityMean)</th>\n",
       "      <th>angle(Z,gravityMean)</th>\n",
       "    </tr>\n",
       "    <tr>\n",
       "      <th>Activity</th>\n",
       "      <th></th>\n",
       "      <th></th>\n",
       "      <th></th>\n",
       "      <th></th>\n",
       "      <th></th>\n",
       "      <th></th>\n",
       "      <th></th>\n",
       "      <th></th>\n",
       "      <th></th>\n",
       "      <th></th>\n",
       "      <th></th>\n",
       "      <th></th>\n",
       "      <th></th>\n",
       "      <th></th>\n",
       "      <th></th>\n",
       "      <th></th>\n",
       "      <th></th>\n",
       "      <th></th>\n",
       "      <th></th>\n",
       "      <th></th>\n",
       "      <th></th>\n",
       "    </tr>\n",
       "  </thead>\n",
       "  <tbody>\n",
       "    <tr>\n",
       "      <th>LAYING</th>\n",
       "      <td>0.115471</td>\n",
       "      <td>0.038873</td>\n",
       "      <td>0.064033</td>\n",
       "      <td>0.095814</td>\n",
       "      <td>0.136407</td>\n",
       "      <td>0.137330</td>\n",
       "      <td>0.091786</td>\n",
       "      <td>0.134635</td>\n",
       "      <td>0.143828</td>\n",
       "      <td>0.045305</td>\n",
       "      <td>...</td>\n",
       "      <td>0.286778</td>\n",
       "      <td>0.316491</td>\n",
       "      <td>0.278422</td>\n",
       "      <td>0.209168</td>\n",
       "      <td>0.338899</td>\n",
       "      <td>0.358145</td>\n",
       "      <td>0.388636</td>\n",
       "      <td>0.120895</td>\n",
       "      <td>0.336884</td>\n",
       "      <td>0.334569</td>\n",
       "    </tr>\n",
       "    <tr>\n",
       "      <th>SITTING</th>\n",
       "      <td>0.041596</td>\n",
       "      <td>0.036887</td>\n",
       "      <td>0.050237</td>\n",
       "      <td>0.037521</td>\n",
       "      <td>0.150717</td>\n",
       "      <td>0.137987</td>\n",
       "      <td>0.034342</td>\n",
       "      <td>0.154588</td>\n",
       "      <td>0.149486</td>\n",
       "      <td>0.050096</td>\n",
       "      <td>...</td>\n",
       "      <td>0.298350</td>\n",
       "      <td>0.332425</td>\n",
       "      <td>0.307484</td>\n",
       "      <td>0.153003</td>\n",
       "      <td>0.297642</td>\n",
       "      <td>0.345156</td>\n",
       "      <td>0.357782</td>\n",
       "      <td>0.166778</td>\n",
       "      <td>0.120843</td>\n",
       "      <td>0.139748</td>\n",
       "    </tr>\n",
       "    <tr>\n",
       "      <th>STANDING</th>\n",
       "      <td>0.025215</td>\n",
       "      <td>0.020177</td>\n",
       "      <td>0.042407</td>\n",
       "      <td>0.026648</td>\n",
       "      <td>0.088605</td>\n",
       "      <td>0.103906</td>\n",
       "      <td>0.023246</td>\n",
       "      <td>0.090424</td>\n",
       "      <td>0.112303</td>\n",
       "      <td>0.041879</td>\n",
       "      <td>...</td>\n",
       "      <td>0.328039</td>\n",
       "      <td>0.326689</td>\n",
       "      <td>0.287734</td>\n",
       "      <td>0.124405</td>\n",
       "      <td>0.249679</td>\n",
       "      <td>0.488236</td>\n",
       "      <td>0.525795</td>\n",
       "      <td>0.098743</td>\n",
       "      <td>0.074586</td>\n",
       "      <td>0.119548</td>\n",
       "    </tr>\n",
       "    <tr>\n",
       "      <th>WALKING</th>\n",
       "      <td>0.049651</td>\n",
       "      <td>0.021944</td>\n",
       "      <td>0.031355</td>\n",
       "      <td>0.103584</td>\n",
       "      <td>0.190758</td>\n",
       "      <td>0.240979</td>\n",
       "      <td>0.100640</td>\n",
       "      <td>0.182113</td>\n",
       "      <td>0.229358</td>\n",
       "      <td>0.173442</td>\n",
       "      <td>...</td>\n",
       "      <td>0.152280</td>\n",
       "      <td>0.337083</td>\n",
       "      <td>0.384240</td>\n",
       "      <td>0.474604</td>\n",
       "      <td>0.531394</td>\n",
       "      <td>0.650882</td>\n",
       "      <td>0.485872</td>\n",
       "      <td>0.104622</td>\n",
       "      <td>0.060594</td>\n",
       "      <td>0.118409</td>\n",
       "    </tr>\n",
       "    <tr>\n",
       "      <th>WALKING_DOWNSTAIRS</th>\n",
       "      <td>0.090688</td>\n",
       "      <td>0.026792</td>\n",
       "      <td>0.050223</td>\n",
       "      <td>0.188586</td>\n",
       "      <td>0.250149</td>\n",
       "      <td>0.285360</td>\n",
       "      <td>0.201590</td>\n",
       "      <td>0.219493</td>\n",
       "      <td>0.264774</td>\n",
       "      <td>0.145202</td>\n",
       "      <td>...</td>\n",
       "      <td>0.172603</td>\n",
       "      <td>0.215216</td>\n",
       "      <td>0.198530</td>\n",
       "      <td>0.513326</td>\n",
       "      <td>0.632629</td>\n",
       "      <td>0.840845</td>\n",
       "      <td>0.535488</td>\n",
       "      <td>0.105815</td>\n",
       "      <td>0.062720</td>\n",
       "      <td>0.113695</td>\n",
       "    </tr>\n",
       "    <tr>\n",
       "      <th>WALKING_UPSTAIRS</th>\n",
       "      <td>0.081776</td>\n",
       "      <td>0.037274</td>\n",
       "      <td>0.051709</td>\n",
       "      <td>0.148709</td>\n",
       "      <td>0.215899</td>\n",
       "      <td>0.303195</td>\n",
       "      <td>0.139031</td>\n",
       "      <td>0.215101</td>\n",
       "      <td>0.288554</td>\n",
       "      <td>0.212217</td>\n",
       "      <td>...</td>\n",
       "      <td>0.134118</td>\n",
       "      <td>0.276551</td>\n",
       "      <td>0.265577</td>\n",
       "      <td>0.442551</td>\n",
       "      <td>0.599516</td>\n",
       "      <td>0.850155</td>\n",
       "      <td>0.561678</td>\n",
       "      <td>0.109662</td>\n",
       "      <td>0.079582</td>\n",
       "      <td>0.156752</td>\n",
       "    </tr>\n",
       "  </tbody>\n",
       "</table>\n",
       "<p>6 rows × 561 columns</p>\n",
       "</div>"
      ],
      "text/plain": [
       "                    tBodyAcc-mean()-X  tBodyAcc-mean()-Y  tBodyAcc-mean()-Z  \\\n",
       "Activity                                                                      \n",
       "LAYING                       0.115471           0.038873           0.064033   \n",
       "SITTING                      0.041596           0.036887           0.050237   \n",
       "STANDING                     0.025215           0.020177           0.042407   \n",
       "WALKING                      0.049651           0.021944           0.031355   \n",
       "WALKING_DOWNSTAIRS           0.090688           0.026792           0.050223   \n",
       "WALKING_UPSTAIRS             0.081776           0.037274           0.051709   \n",
       "\n",
       "                    tBodyAcc-std()-X  tBodyAcc-std()-Y  tBodyAcc-std()-Z  \\\n",
       "Activity                                                                   \n",
       "LAYING                      0.095814          0.136407          0.137330   \n",
       "SITTING                     0.037521          0.150717          0.137987   \n",
       "STANDING                    0.026648          0.088605          0.103906   \n",
       "WALKING                     0.103584          0.190758          0.240979   \n",
       "WALKING_DOWNSTAIRS          0.188586          0.250149          0.285360   \n",
       "WALKING_UPSTAIRS            0.148709          0.215899          0.303195   \n",
       "\n",
       "                    tBodyAcc-mad()-X  tBodyAcc-mad()-Y  tBodyAcc-mad()-Z  \\\n",
       "Activity                                                                   \n",
       "LAYING                      0.091786          0.134635          0.143828   \n",
       "SITTING                     0.034342          0.154588          0.149486   \n",
       "STANDING                    0.023246          0.090424          0.112303   \n",
       "WALKING                     0.100640          0.182113          0.229358   \n",
       "WALKING_DOWNSTAIRS          0.201590          0.219493          0.264774   \n",
       "WALKING_UPSTAIRS            0.139031          0.215101          0.288554   \n",
       "\n",
       "                    tBodyAcc-max()-X          ...           \\\n",
       "Activity                                      ...            \n",
       "LAYING                      0.045305          ...            \n",
       "SITTING                     0.050096          ...            \n",
       "STANDING                    0.041879          ...            \n",
       "WALKING                     0.173442          ...            \n",
       "WALKING_DOWNSTAIRS          0.145202          ...            \n",
       "WALKING_UPSTAIRS            0.212217          ...            \n",
       "\n",
       "                    fBodyBodyGyroJerkMag-meanFreq()  \\\n",
       "Activity                                              \n",
       "LAYING                                     0.286778   \n",
       "SITTING                                    0.298350   \n",
       "STANDING                                   0.328039   \n",
       "WALKING                                    0.152280   \n",
       "WALKING_DOWNSTAIRS                         0.172603   \n",
       "WALKING_UPSTAIRS                           0.134118   \n",
       "\n",
       "                    fBodyBodyGyroJerkMag-skewness()  \\\n",
       "Activity                                              \n",
       "LAYING                                     0.316491   \n",
       "SITTING                                    0.332425   \n",
       "STANDING                                   0.326689   \n",
       "WALKING                                    0.337083   \n",
       "WALKING_DOWNSTAIRS                         0.215216   \n",
       "WALKING_UPSTAIRS                           0.276551   \n",
       "\n",
       "                    fBodyBodyGyroJerkMag-kurtosis()  \\\n",
       "Activity                                              \n",
       "LAYING                                     0.278422   \n",
       "SITTING                                    0.307484   \n",
       "STANDING                                   0.287734   \n",
       "WALKING                                    0.384240   \n",
       "WALKING_DOWNSTAIRS                         0.198530   \n",
       "WALKING_UPSTAIRS                           0.265577   \n",
       "\n",
       "                    angle(tBodyAccMean,gravity)  \\\n",
       "Activity                                          \n",
       "LAYING                                 0.209168   \n",
       "SITTING                                0.153003   \n",
       "STANDING                               0.124405   \n",
       "WALKING                                0.474604   \n",
       "WALKING_DOWNSTAIRS                     0.513326   \n",
       "WALKING_UPSTAIRS                       0.442551   \n",
       "\n",
       "                    angle(tBodyAccJerkMean),gravityMean)  \\\n",
       "Activity                                                   \n",
       "LAYING                                          0.338899   \n",
       "SITTING                                         0.297642   \n",
       "STANDING                                        0.249679   \n",
       "WALKING                                         0.531394   \n",
       "WALKING_DOWNSTAIRS                              0.632629   \n",
       "WALKING_UPSTAIRS                                0.599516   \n",
       "\n",
       "                    angle(tBodyGyroMean,gravityMean)  \\\n",
       "Activity                                               \n",
       "LAYING                                      0.358145   \n",
       "SITTING                                     0.345156   \n",
       "STANDING                                    0.488236   \n",
       "WALKING                                     0.650882   \n",
       "WALKING_DOWNSTAIRS                          0.840845   \n",
       "WALKING_UPSTAIRS                            0.850155   \n",
       "\n",
       "                    angle(tBodyGyroJerkMean,gravityMean)  \\\n",
       "Activity                                                   \n",
       "LAYING                                          0.388636   \n",
       "SITTING                                         0.357782   \n",
       "STANDING                                        0.525795   \n",
       "WALKING                                         0.485872   \n",
       "WALKING_DOWNSTAIRS                              0.535488   \n",
       "WALKING_UPSTAIRS                                0.561678   \n",
       "\n",
       "                    angle(X,gravityMean)  angle(Y,gravityMean)  \\\n",
       "Activity                                                         \n",
       "LAYING                          0.120895              0.336884   \n",
       "SITTING                         0.166778              0.120843   \n",
       "STANDING                        0.098743              0.074586   \n",
       "WALKING                         0.104622              0.060594   \n",
       "WALKING_DOWNSTAIRS              0.105815              0.062720   \n",
       "WALKING_UPSTAIRS                0.109662              0.079582   \n",
       "\n",
       "                    angle(Z,gravityMean)  \n",
       "Activity                                  \n",
       "LAYING                          0.334569  \n",
       "SITTING                         0.139748  \n",
       "STANDING                        0.119548  \n",
       "WALKING                         0.118409  \n",
       "WALKING_DOWNSTAIRS              0.113695  \n",
       "WALKING_UPSTAIRS                0.156752  \n",
       "\n",
       "[6 rows x 561 columns]"
      ]
     },
     "execution_count": 46,
     "metadata": {},
     "output_type": "execute_result"
    }
   ],
   "source": [
    "train.groupby('Activity').std()"
   ]
  },
  {
   "cell_type": "markdown",
   "metadata": {},
   "source": [
    "The potential modeling approaches I would consider using are K nearest neighbor, some type of decision tree like random forest, or logistic regression. "
   ]
  },
  {
   "cell_type": "markdown",
   "metadata": {},
   "source": [
    "Start of Modeling - Homework 3"
   ]
  },
  {
   "cell_type": "markdown",
   "metadata": {},
   "source": [
    "I decided to split the provided training data into a training set and a validation set. The training set being 75% and the validation set being 25%."
   ]
  },
  {
   "cell_type": "code",
   "execution_count": 47,
   "metadata": {},
   "outputs": [],
   "source": [
    "df_train, df_valid = train_test_split(train,test_size=0.25,random_state=2000,stratify=train['Activity'])"
   ]
  },
  {
   "cell_type": "code",
   "execution_count": 48,
   "metadata": {},
   "outputs": [
    {
     "data": {
      "text/plain": [
       "WALKING_UPSTAIRS      418\n",
       "WALKING_DOWNSTAIRS    378\n",
       "STANDING              490\n",
       "LAYING                486\n",
       "SITTING               443\n",
       "WALKING               491\n",
       "Name: Activity, dtype: int64"
      ]
     },
     "execution_count": 48,
     "metadata": {},
     "output_type": "execute_result"
    }
   ],
   "source": [
    "df_train['Activity'].value_counts(sort=False)"
   ]
  },
  {
   "cell_type": "code",
   "execution_count": 49,
   "metadata": {},
   "outputs": [
    {
     "data": {
      "text/plain": [
       "<matplotlib.axes._subplots.AxesSubplot at 0x1217be7b8>"
      ]
     },
     "execution_count": 49,
     "metadata": {},
     "output_type": "execute_result"
    },
    {
     "data": {
      "image/png": "[encoded data removed]",
      "text/plain": [
       "<Figure size 432x288 with 1 Axes>"
      ]
     },
     "metadata": {
      "needs_background": "light"
     },
     "output_type": "display_data"
    }
   ],
   "source": [
    "df_train['Activity'].value_counts(sort=True).plot(kind='bar')"
   ]
  },
  {
   "cell_type": "code",
   "execution_count": 50,
   "metadata": {},
   "outputs": [
    {
     "data": {
      "text/plain": [
       "SITTING               148\n",
       "STANDING              164\n",
       "WALKING_UPSTAIRS      139\n",
       "LAYING                162\n",
       "WALKING_DOWNSTAIRS    126\n",
       "WALKING               164\n",
       "Name: Activity, dtype: int64"
      ]
     },
     "execution_count": 50,
     "metadata": {},
     "output_type": "execute_result"
    }
   ],
   "source": [
    "df_valid['Activity'].value_counts(sort=False)"
   ]
  },
  {
   "cell_type": "code",
   "execution_count": 51,
   "metadata": {},
   "outputs": [
    {
     "data": {
      "text/plain": [
       "<matplotlib.axes._subplots.AxesSubplot at 0x1216f7400>"
      ]
     },
     "execution_count": 51,
     "metadata": {},
     "output_type": "execute_result"
    },
    {
     "data": {
      "image/png": "[encoded data removed]",
      "text/plain": [
       "<Figure size 432x288 with 1 Axes>"
      ]
     },
     "metadata": {
      "needs_background": "light"
     },
     "output_type": "display_data"
    }
   ],
   "source": [
    "df_valid['Activity'].value_counts(sort=True).plot(kind='bar')"
   ]
  },
  {
   "cell_type": "markdown",
   "metadata": {},
   "source": [
    "From the graphs above it is clear to see that the training and the validation training set have similiar distriution for each of the activities. "
   ]
  },
  {
   "cell_type": "code",
   "execution_count": 52,
   "metadata": {},
   "outputs": [],
   "source": [
    "Activity_outcome = df_train['Activity']\n",
    "training_features = df_train.drop(columns = ['Activity'])"
   ]
  },
  {
   "cell_type": "code",
   "execution_count": 53,
   "metadata": {},
   "outputs": [
    {
     "data": {
      "text/plain": [
       "(2706, 561)"
      ]
     },
     "execution_count": 53,
     "metadata": {},
     "output_type": "execute_result"
    }
   ],
   "source": [
    "training_features.shape"
   ]
  },
  {
   "cell_type": "markdown",
   "metadata": {},
   "source": [
    "I first wanted to try a random forest classifier for a model. Below I chose to try different amounts of trees to see about how many are needed before the out of bag error started to level off. I chose to use a conservative minimum sample leaf size of 30 for my random forest. "
   ]
  },
  {
   "cell_type": "code",
   "execution_count": 54,
   "metadata": {},
   "outputs": [],
   "source": [
    "n_trees = [50,100,250,500,1000,1500,2500,5000,10000]"
   ]
  },
  {
   "cell_type": "code",
   "execution_count": 55,
   "metadata": {},
   "outputs": [],
   "source": [
    "rf_dict = dict.fromkeys(n_trees)"
   ]
  },
  {
   "cell_type": "code",
   "execution_count": 56,
   "metadata": {},
   "outputs": [
    {
     "name": "stdout",
     "output_type": "stream",
     "text": [
      "50\n"
     ]
    },
    {
     "name": "stderr",
     "output_type": "stream",
     "text": [
      "[Parallel(n_jobs=1)]: Using backend SequentialBackend with 1 concurrent workers.\n",
      "[Parallel(n_jobs=1)]: Done  50 out of  50 | elapsed:    1.3s finished\n"
     ]
    },
    {
     "name": "stdout",
     "output_type": "stream",
     "text": [
      "100\n"
     ]
    },
    {
     "name": "stderr",
     "output_type": "stream",
     "text": [
      "[Parallel(n_jobs=1)]: Using backend SequentialBackend with 1 concurrent workers.\n",
      "[Parallel(n_jobs=1)]: Done 100 out of 100 | elapsed:    2.3s finished\n"
     ]
    },
    {
     "name": "stdout",
     "output_type": "stream",
     "text": [
      "250\n"
     ]
    },
    {
     "name": "stderr",
     "output_type": "stream",
     "text": [
      "[Parallel(n_jobs=1)]: Using backend SequentialBackend with 1 concurrent workers.\n",
      "[Parallel(n_jobs=1)]: Done 250 out of 250 | elapsed:    5.6s finished\n"
     ]
    },
    {
     "name": "stdout",
     "output_type": "stream",
     "text": [
      "500\n"
     ]
    },
    {
     "name": "stderr",
     "output_type": "stream",
     "text": [
      "[Parallel(n_jobs=1)]: Using backend SequentialBackend with 1 concurrent workers.\n",
      "[Parallel(n_jobs=1)]: Done 500 out of 500 | elapsed:   11.3s finished\n"
     ]
    },
    {
     "name": "stdout",
     "output_type": "stream",
     "text": [
      "1000\n"
     ]
    },
    {
     "name": "stderr",
     "output_type": "stream",
     "text": [
      "[Parallel(n_jobs=1)]: Using backend SequentialBackend with 1 concurrent workers.\n",
      "[Parallel(n_jobs=1)]: Done 1000 out of 1000 | elapsed:   23.3s finished\n"
     ]
    },
    {
     "name": "stdout",
     "output_type": "stream",
     "text": [
      "1500\n"
     ]
    },
    {
     "name": "stderr",
     "output_type": "stream",
     "text": [
      "[Parallel(n_jobs=1)]: Using backend SequentialBackend with 1 concurrent workers.\n",
      "[Parallel(n_jobs=1)]: Done 1500 out of 1500 | elapsed:   34.1s finished\n"
     ]
    },
    {
     "name": "stdout",
     "output_type": "stream",
     "text": [
      "2500\n"
     ]
    },
    {
     "name": "stderr",
     "output_type": "stream",
     "text": [
      "[Parallel(n_jobs=1)]: Using backend SequentialBackend with 1 concurrent workers.\n",
      "[Parallel(n_jobs=1)]: Done 2500 out of 2500 | elapsed:   59.4s finished\n"
     ]
    },
    {
     "name": "stdout",
     "output_type": "stream",
     "text": [
      "5000\n"
     ]
    },
    {
     "name": "stderr",
     "output_type": "stream",
     "text": [
      "[Parallel(n_jobs=1)]: Using backend SequentialBackend with 1 concurrent workers.\n",
      "[Parallel(n_jobs=1)]: Done 5000 out of 5000 | elapsed:  1.9min finished\n"
     ]
    },
    {
     "name": "stdout",
     "output_type": "stream",
     "text": [
      "10000\n"
     ]
    },
    {
     "name": "stderr",
     "output_type": "stream",
     "text": [
      "[Parallel(n_jobs=1)]: Using backend SequentialBackend with 1 concurrent workers.\n",
      "[Parallel(n_jobs=1)]: Done 10000 out of 10000 | elapsed:  4.0min finished\n"
     ]
    }
   ],
   "source": [
    "for iteration in n_trees: \n",
    "    print(iteration)\n",
    "    rf = RandomForestClassifier(n_estimators = iteration,\n",
    "                               min_samples_leaf = 30,\n",
    "                               oob_score = True,\n",
    "                               random_state = 2000,\n",
    "                               class_weight='balanced',\n",
    "                               verbose = 1)\n",
    "    rf.fit(training_features, Activity_outcome)\n",
    "    rf_dict[iteration] =rf"
   ]
  },
  {
   "cell_type": "code",
   "execution_count": 57,
   "metadata": {},
   "outputs": [
    {
     "data": {
      "image/png": "[encoded data removed]",
      "text/plain": [
       "<Figure size 432x288 with 1 Axes>"
      ]
     },
     "metadata": {
      "needs_background": "light"
     },
     "output_type": "display_data"
    }
   ],
   "source": [
    "oob_error_list = [None]*len(n_trees)\n",
    "\n",
    "for i in range(len(n_trees)):\n",
    "    oob_error_list[i] = 1 - rf_dict[n_trees[i]].oob_score_\n",
    "else:\n",
    "    plt.plot(n_trees, oob_error_list, 'bo',\n",
    "             n_trees, oob_error_list, 'k')"
   ]
  },
  {
   "cell_type": "markdown",
   "metadata": {},
   "source": [
    "Even though the out of bag score was lowest at the 500 iteration point, I decided to go with the 1500 iteration random forest as the error seems to converge after about that many iterations. "
   ]
  },
  {
   "cell_type": "code",
   "execution_count": 58,
   "metadata": {},
   "outputs": [],
   "source": [
    "forest = rf_dict[1500]\n",
    "importances = forest.feature_importances_\n",
    "\n",
    "indices = np.argsort(importances)[::-1]"
   ]
  },
  {
   "cell_type": "code",
   "execution_count": 59,
   "metadata": {},
   "outputs": [
    {
     "data": {
      "image/png": "[encoded data removed]",
      "text/plain": [
       "<Figure size 432x288 with 1 Axes>"
      ]
     },
     "metadata": {
      "needs_background": "light"
     },
     "output_type": "display_data"
    }
   ],
   "source": [
    "ax = plt.gca()\n",
    "top = 30\n",
    "plt.title(f\"{top} Most important features\")\n",
    "plt.bar(range(top),importances[indices[0:top]])\n",
    "plt.xticks(range(top))\n",
    "ax.set_xticklabels(indices[0:top],rotation = 90)\n",
    "ax.set_xlabel(\"Feature Number\")\n",
    "ax.set_ylabel(\"Importance\")\n",
    "plt.show()"
   ]
  },
  {
   "cell_type": "code",
   "execution_count": 60,
   "metadata": {},
   "outputs": [],
   "source": [
    "position = indices[0:11]"
   ]
  },
  {
   "cell_type": "code",
   "execution_count": 61,
   "metadata": {},
   "outputs": [
    {
     "name": "stdout",
     "output_type": "stream",
     "text": [
      "Index(['tGravityAcc-min()-Y', 'tGravityAcc-mean()-Y', 'angle(Y,gravityMean)',\n",
      "       'tGravityAcc-min()-X', 'tGravityAcc-mean()-X', 'tGravityAcc-max()-X',\n",
      "       'tGravityAcc-energy()-X', 'angle(X,gravityMean)', 'tGravityAcc-max()-Y',\n",
      "       'tGravityAcc-energy()-Y', 'tBodyAcc-max()-X'],\n",
      "      dtype='object')\n"
     ]
    }
   ],
   "source": [
    "column_name = df_train.columns[position]\n",
    "print(column_name)"
   ]
  },
  {
   "cell_type": "markdown",
   "metadata": {},
   "source": [
    "From the importance graph, there is a big drop off in terms of importance after the 11th variable. The above cell lists the names of the most influential columns in order of importance."
   ]
  },
  {
   "cell_type": "code",
   "execution_count": 62,
   "metadata": {},
   "outputs": [
    {
     "name": "stderr",
     "output_type": "stream",
     "text": [
      "[Parallel(n_jobs=1)]: Using backend SequentialBackend with 1 concurrent workers.\n",
      "[Parallel(n_jobs=1)]: Done 1500 out of 1500 | elapsed:    0.9s finished\n"
     ]
    }
   ],
   "source": [
    "outcome_predict_training = forest.predict(training_features)"
   ]
  },
  {
   "cell_type": "code",
   "execution_count": 63,
   "metadata": {},
   "outputs": [
    {
     "data": {
      "text/plain": [
       "array(['LAYING', 'LAYING', 'WALKING_DOWNSTAIRS', 'STANDING', 'SITTING',\n",
       "       'WALKING_UPSTAIRS', 'WALKING_UPSTAIRS', 'WALKING', 'WALKING',\n",
       "       'STANDING'], dtype=object)"
      ]
     },
     "execution_count": 63,
     "metadata": {},
     "output_type": "execute_result"
    }
   ],
   "source": [
    "outcome_predict_training[0:10]"
   ]
  },
  {
   "cell_type": "code",
   "execution_count": 64,
   "metadata": {},
   "outputs": [
    {
     "data": {
      "text/plain": [
       "2706"
      ]
     },
     "execution_count": 64,
     "metadata": {},
     "output_type": "execute_result"
    }
   ],
   "source": [
    "len(outcome_predict_training)"
   ]
  },
  {
   "cell_type": "code",
   "execution_count": 65,
   "metadata": {},
   "outputs": [
    {
     "data": {
      "text/plain": [
       "{'LAYING': 485,\n",
       " 'SITTING': 465,\n",
       " 'STANDING': 468,\n",
       " 'WALKING': 490,\n",
       " 'WALKING_DOWNSTAIRS': 383,\n",
       " 'WALKING_UPSTAIRS': 415}"
      ]
     },
     "execution_count": 65,
     "metadata": {},
     "output_type": "execute_result"
    }
   ],
   "source": [
    "unique, counts = np.unique(outcome_predict_training, return_counts=True)\n",
    "label_dict = dict(zip(unique, counts))\n",
    "label_dict"
   ]
  },
  {
   "cell_type": "code",
   "execution_count": 66,
   "metadata": {},
   "outputs": [
    {
     "data": {
      "text/plain": [
       "{'LAYING': 486,\n",
       " 'SITTING': 443,\n",
       " 'STANDING': 490,\n",
       " 'WALKING': 491,\n",
       " 'WALKING_DOWNSTAIRS': 378,\n",
       " 'WALKING_UPSTAIRS': 418}"
      ]
     },
     "execution_count": 66,
     "metadata": {},
     "output_type": "execute_result"
    }
   ],
   "source": [
    "unique_truth, counts_truth = np.unique(Activity_outcome, return_counts=True)\n",
    "label_counts_dict = dict(zip(unique_truth, counts_truth))\n",
    "label_counts_dict"
   ]
  },
  {
   "cell_type": "code",
   "execution_count": 67,
   "metadata": {},
   "outputs": [
    {
     "data": {
      "text/plain": [
       "array([[485,   0,   0,   0,   0,   1],\n",
       "       [  0, 422,  21,   0,   0,   0],\n",
       "       [  0,  43, 447,   0,   0,   0],\n",
       "       [  0,   0,   0, 479,   6,   6],\n",
       "       [  0,   0,   0,   9, 367,   2],\n",
       "       [  0,   0,   0,   2,  10, 406]])"
      ]
     },
     "execution_count": 67,
     "metadata": {},
     "output_type": "execute_result"
    }
   ],
   "source": [
    "conf_mat = confusion_matrix(y_true = Activity_outcome,\n",
    "                            y_pred = outcome_predict_training)\n",
    "conf_mat"
   ]
  },
  {
   "cell_type": "code",
   "execution_count": 68,
   "metadata": {},
   "outputs": [],
   "source": [
    "label_keys ={\n",
    "    0: \"Laying\",\n",
    "    1: \"Sitting\",\n",
    "    2: \"Standing\",\n",
    "    3: \"Walking\",\n",
    "    4: \"Walking_Downstairs\",\n",
    "    5: \"Walking_Upstairs\"\n",
    "}"
   ]
  },
  {
   "cell_type": "code",
   "execution_count": 69,
   "metadata": {},
   "outputs": [],
   "source": [
    "labels = [label_keys[x] for x in range(6)]"
   ]
  },
  {
   "cell_type": "code",
   "execution_count": 70,
   "metadata": {},
   "outputs": [
    {
     "data": {
      "text/html": [
       "<div>\n",
       "<style scoped>\n",
       "    .dataframe tbody tr th:only-of-type {\n",
       "        vertical-align: middle;\n",
       "    }\n",
       "\n",
       "    .dataframe tbody tr th {\n",
       "        vertical-align: top;\n",
       "    }\n",
       "\n",
       "    .dataframe thead th {\n",
       "        text-align: right;\n",
       "    }\n",
       "</style>\n",
       "<table border=\"1\" class=\"dataframe\">\n",
       "  <thead>\n",
       "    <tr style=\"text-align: right;\">\n",
       "      <th></th>\n",
       "      <th>Laying</th>\n",
       "      <th>Sitting</th>\n",
       "      <th>Standing</th>\n",
       "      <th>Walking</th>\n",
       "      <th>Walking_Downstairs</th>\n",
       "      <th>Walking_Upstairs</th>\n",
       "    </tr>\n",
       "  </thead>\n",
       "  <tbody>\n",
       "    <tr>\n",
       "      <th>Laying</th>\n",
       "      <td>485</td>\n",
       "      <td>0</td>\n",
       "      <td>0</td>\n",
       "      <td>0</td>\n",
       "      <td>0</td>\n",
       "      <td>1</td>\n",
       "    </tr>\n",
       "    <tr>\n",
       "      <th>Sitting</th>\n",
       "      <td>0</td>\n",
       "      <td>422</td>\n",
       "      <td>21</td>\n",
       "      <td>0</td>\n",
       "      <td>0</td>\n",
       "      <td>0</td>\n",
       "    </tr>\n",
       "    <tr>\n",
       "      <th>Standing</th>\n",
       "      <td>0</td>\n",
       "      <td>43</td>\n",
       "      <td>447</td>\n",
       "      <td>0</td>\n",
       "      <td>0</td>\n",
       "      <td>0</td>\n",
       "    </tr>\n",
       "    <tr>\n",
       "      <th>Walking</th>\n",
       "      <td>0</td>\n",
       "      <td>0</td>\n",
       "      <td>0</td>\n",
       "      <td>479</td>\n",
       "      <td>6</td>\n",
       "      <td>6</td>\n",
       "    </tr>\n",
       "    <tr>\n",
       "      <th>Walking_Downstairs</th>\n",
       "      <td>0</td>\n",
       "      <td>0</td>\n",
       "      <td>0</td>\n",
       "      <td>9</td>\n",
       "      <td>367</td>\n",
       "      <td>2</td>\n",
       "    </tr>\n",
       "    <tr>\n",
       "      <th>Walking_Upstairs</th>\n",
       "      <td>0</td>\n",
       "      <td>0</td>\n",
       "      <td>0</td>\n",
       "      <td>2</td>\n",
       "      <td>10</td>\n",
       "      <td>406</td>\n",
       "    </tr>\n",
       "  </tbody>\n",
       "</table>\n",
       "</div>"
      ],
      "text/plain": [
       "                    Laying  Sitting  Standing  Walking  Walking_Downstairs  \\\n",
       "Laying                 485        0         0        0                   0   \n",
       "Sitting                  0      422        21        0                   0   \n",
       "Standing                 0       43       447        0                   0   \n",
       "Walking                  0        0         0      479                   6   \n",
       "Walking_Downstairs       0        0         0        9                 367   \n",
       "Walking_Upstairs         0        0         0        2                  10   \n",
       "\n",
       "                    Walking_Upstairs  \n",
       "Laying                             1  \n",
       "Sitting                            0  \n",
       "Standing                           0  \n",
       "Walking                            6  \n",
       "Walking_Downstairs                 2  \n",
       "Walking_Upstairs                 406  "
      ]
     },
     "execution_count": 70,
     "metadata": {},
     "output_type": "execute_result"
    }
   ],
   "source": [
    "conf_df = pd.DataFrame(conf_mat, labels, labels)\n",
    "conf_df"
   ]
  },
  {
   "cell_type": "code",
   "execution_count": 71,
   "metadata": {},
   "outputs": [
    {
     "data": {
      "text/html": [
       "<div>\n",
       "<style scoped>\n",
       "    .dataframe tbody tr th:only-of-type {\n",
       "        vertical-align: middle;\n",
       "    }\n",
       "\n",
       "    .dataframe tbody tr th {\n",
       "        vertical-align: top;\n",
       "    }\n",
       "\n",
       "    .dataframe thead th {\n",
       "        text-align: right;\n",
       "    }\n",
       "</style>\n",
       "<table border=\"1\" class=\"dataframe\">\n",
       "  <thead>\n",
       "    <tr style=\"text-align: right;\">\n",
       "      <th></th>\n",
       "      <th>Laying</th>\n",
       "      <th>Sitting</th>\n",
       "      <th>Standing</th>\n",
       "      <th>Walking</th>\n",
       "      <th>Walking_Downstairs</th>\n",
       "      <th>Walking_Upstairs</th>\n",
       "    </tr>\n",
       "  </thead>\n",
       "  <tbody>\n",
       "    <tr>\n",
       "      <th>Laying</th>\n",
       "      <td>1.0</td>\n",
       "      <td>0.00</td>\n",
       "      <td>0.00</td>\n",
       "      <td>0.00</td>\n",
       "      <td>0.00</td>\n",
       "      <td>0.00</td>\n",
       "    </tr>\n",
       "    <tr>\n",
       "      <th>Sitting</th>\n",
       "      <td>0.0</td>\n",
       "      <td>0.95</td>\n",
       "      <td>0.04</td>\n",
       "      <td>0.00</td>\n",
       "      <td>0.00</td>\n",
       "      <td>0.00</td>\n",
       "    </tr>\n",
       "    <tr>\n",
       "      <th>Standing</th>\n",
       "      <td>0.0</td>\n",
       "      <td>0.10</td>\n",
       "      <td>0.91</td>\n",
       "      <td>0.00</td>\n",
       "      <td>0.00</td>\n",
       "      <td>0.00</td>\n",
       "    </tr>\n",
       "    <tr>\n",
       "      <th>Walking</th>\n",
       "      <td>0.0</td>\n",
       "      <td>0.00</td>\n",
       "      <td>0.00</td>\n",
       "      <td>0.98</td>\n",
       "      <td>0.02</td>\n",
       "      <td>0.01</td>\n",
       "    </tr>\n",
       "    <tr>\n",
       "      <th>Walking_Downstairs</th>\n",
       "      <td>0.0</td>\n",
       "      <td>0.00</td>\n",
       "      <td>0.00</td>\n",
       "      <td>0.02</td>\n",
       "      <td>0.97</td>\n",
       "      <td>0.00</td>\n",
       "    </tr>\n",
       "    <tr>\n",
       "      <th>Walking_Upstairs</th>\n",
       "      <td>0.0</td>\n",
       "      <td>0.00</td>\n",
       "      <td>0.00</td>\n",
       "      <td>0.00</td>\n",
       "      <td>0.03</td>\n",
       "      <td>0.97</td>\n",
       "    </tr>\n",
       "  </tbody>\n",
       "</table>\n",
       "</div>"
      ],
      "text/plain": [
       "                    Laying  Sitting  Standing  Walking  Walking_Downstairs  \\\n",
       "Laying                 1.0     0.00      0.00     0.00                0.00   \n",
       "Sitting                0.0     0.95      0.04     0.00                0.00   \n",
       "Standing               0.0     0.10      0.91     0.00                0.00   \n",
       "Walking                0.0     0.00      0.00     0.98                0.02   \n",
       "Walking_Downstairs     0.0     0.00      0.00     0.02                0.97   \n",
       "Walking_Upstairs       0.0     0.00      0.00     0.00                0.03   \n",
       "\n",
       "                    Walking_Upstairs  \n",
       "Laying                          0.00  \n",
       "Sitting                         0.00  \n",
       "Standing                        0.00  \n",
       "Walking                         0.01  \n",
       "Walking_Downstairs              0.00  \n",
       "Walking_Upstairs                0.97  "
      ]
     },
     "execution_count": 71,
     "metadata": {},
     "output_type": "execute_result"
    }
   ],
   "source": [
    "conf_df_pct = conf_df/conf_df.sum(axis=1)\n",
    "round(conf_df_pct, 2)"
   ]
  },
  {
   "cell_type": "code",
   "execution_count": 72,
   "metadata": {},
   "outputs": [
    {
     "data": {
      "text/plain": [
       "0.962924087827365"
      ]
     },
     "execution_count": 72,
     "metadata": {},
     "output_type": "execute_result"
    }
   ],
   "source": [
    "f1_score(y_true = Activity_outcome,\n",
    "         y_pred = outcome_predict_training,\n",
    "         average= 'macro')"
   ]
  },
  {
   "cell_type": "code",
   "execution_count": 73,
   "metadata": {},
   "outputs": [
    {
     "data": {
      "text/plain": [
       "0.9630450849963045"
      ]
     },
     "execution_count": 73,
     "metadata": {},
     "output_type": "execute_result"
    }
   ],
   "source": [
    "f1_score(y_true = Activity_outcome,\n",
    "         y_pred = outcome_predict_training,\n",
    "         average= 'micro')"
   ]
  },
  {
   "cell_type": "markdown",
   "metadata": {},
   "source": [
    "Performing a confusion matrix on my model with the training set showed that the random forest model did very well in predicting all the different activities. Additionally, the micro and macro f scores were really good as well. "
   ]
  },
  {
   "cell_type": "code",
   "execution_count": 74,
   "metadata": {},
   "outputs": [],
   "source": [
    "Validation_outcome = df_valid['Activity']\n",
    "Validation_features = df_valid.drop(columns = ['Activity'])"
   ]
  },
  {
   "cell_type": "code",
   "execution_count": 75,
   "metadata": {},
   "outputs": [
    {
     "name": "stderr",
     "output_type": "stream",
     "text": [
      "[Parallel(n_jobs=1)]: Using backend SequentialBackend with 1 concurrent workers.\n",
      "[Parallel(n_jobs=1)]: Done 1500 out of 1500 | elapsed:    0.4s finished\n"
     ]
    }
   ],
   "source": [
    "outcome_predict_Validation = forest.predict(Validation_features)"
   ]
  },
  {
   "cell_type": "code",
   "execution_count": 76,
   "metadata": {},
   "outputs": [
    {
     "data": {
      "text/plain": [
       "array(['WALKING', 'SITTING', 'WALKING', 'SITTING', 'STANDING', 'STANDING',\n",
       "       'LAYING', 'SITTING', 'WALKING', 'WALKING_DOWNSTAIRS'], dtype=object)"
      ]
     },
     "execution_count": 76,
     "metadata": {},
     "output_type": "execute_result"
    }
   ],
   "source": [
    "outcome_predict_Validation[0:10]"
   ]
  },
  {
   "cell_type": "code",
   "execution_count": 77,
   "metadata": {},
   "outputs": [
    {
     "data": {
      "text/plain": [
       "903"
      ]
     },
     "execution_count": 77,
     "metadata": {},
     "output_type": "execute_result"
    }
   ],
   "source": [
    "len(outcome_predict_Validation)"
   ]
  },
  {
   "cell_type": "code",
   "execution_count": 78,
   "metadata": {},
   "outputs": [
    {
     "data": {
      "text/plain": [
       "(903, 562)"
      ]
     },
     "execution_count": 78,
     "metadata": {},
     "output_type": "execute_result"
    }
   ],
   "source": [
    "df_valid.shape"
   ]
  },
  {
   "cell_type": "code",
   "execution_count": 79,
   "metadata": {},
   "outputs": [
    {
     "data": {
      "text/plain": [
       "{'LAYING': 162,\n",
       " 'SITTING': 160,\n",
       " 'STANDING': 152,\n",
       " 'WALKING': 170,\n",
       " 'WALKING_DOWNSTAIRS': 121,\n",
       " 'WALKING_UPSTAIRS': 138}"
      ]
     },
     "execution_count": 79,
     "metadata": {},
     "output_type": "execute_result"
    }
   ],
   "source": [
    "unique_valid, counts_valid = np.unique(outcome_predict_Validation, return_counts=True)\n",
    "label_counts_dict_v = dict(zip(unique_valid, counts_valid))\n",
    "label_counts_dict_v"
   ]
  },
  {
   "cell_type": "code",
   "execution_count": 80,
   "metadata": {},
   "outputs": [
    {
     "data": {
      "text/plain": [
       "{'LAYING': 162,\n",
       " 'SITTING': 148,\n",
       " 'STANDING': 164,\n",
       " 'WALKING': 164,\n",
       " 'WALKING_DOWNSTAIRS': 126,\n",
       " 'WALKING_UPSTAIRS': 139}"
      ]
     },
     "execution_count": 80,
     "metadata": {},
     "output_type": "execute_result"
    }
   ],
   "source": [
    "unique_v, counts_v = np.unique(Validation_outcome, return_counts=True)\n",
    "label_dict_v = dict(zip(unique_v, counts_v))\n",
    "label_dict_v"
   ]
  },
  {
   "cell_type": "code",
   "execution_count": 81,
   "metadata": {},
   "outputs": [
    {
     "data": {
      "text/plain": [
       "array([[162,   0,   0,   0,   0,   0],\n",
       "       [  0, 134,  14,   0,   0,   0],\n",
       "       [  0,  26, 138,   0,   0,   0],\n",
       "       [  0,   0,   0, 162,   1,   1],\n",
       "       [  0,   0,   0,   8, 115,   3],\n",
       "       [  0,   0,   0,   0,   5, 134]])"
      ]
     },
     "execution_count": 81,
     "metadata": {},
     "output_type": "execute_result"
    }
   ],
   "source": [
    "conf_mat_v = confusion_matrix(y_true = Validation_outcome,\n",
    "                             y_pred = outcome_predict_Validation)\n",
    "conf_mat_v"
   ]
  },
  {
   "cell_type": "code",
   "execution_count": 82,
   "metadata": {},
   "outputs": [
    {
     "data": {
      "text/html": [
       "<div>\n",
       "<style scoped>\n",
       "    .dataframe tbody tr th:only-of-type {\n",
       "        vertical-align: middle;\n",
       "    }\n",
       "\n",
       "    .dataframe tbody tr th {\n",
       "        vertical-align: top;\n",
       "    }\n",
       "\n",
       "    .dataframe thead th {\n",
       "        text-align: right;\n",
       "    }\n",
       "</style>\n",
       "<table border=\"1\" class=\"dataframe\">\n",
       "  <thead>\n",
       "    <tr style=\"text-align: right;\">\n",
       "      <th></th>\n",
       "      <th>Laying</th>\n",
       "      <th>Sitting</th>\n",
       "      <th>Standing</th>\n",
       "      <th>Walking</th>\n",
       "      <th>Walking_Downstairs</th>\n",
       "      <th>Walking_Upstairs</th>\n",
       "    </tr>\n",
       "  </thead>\n",
       "  <tbody>\n",
       "    <tr>\n",
       "      <th>Laying</th>\n",
       "      <td>162</td>\n",
       "      <td>0</td>\n",
       "      <td>0</td>\n",
       "      <td>0</td>\n",
       "      <td>0</td>\n",
       "      <td>0</td>\n",
       "    </tr>\n",
       "    <tr>\n",
       "      <th>Sitting</th>\n",
       "      <td>0</td>\n",
       "      <td>134</td>\n",
       "      <td>14</td>\n",
       "      <td>0</td>\n",
       "      <td>0</td>\n",
       "      <td>0</td>\n",
       "    </tr>\n",
       "    <tr>\n",
       "      <th>Standing</th>\n",
       "      <td>0</td>\n",
       "      <td>26</td>\n",
       "      <td>138</td>\n",
       "      <td>0</td>\n",
       "      <td>0</td>\n",
       "      <td>0</td>\n",
       "    </tr>\n",
       "    <tr>\n",
       "      <th>Walking</th>\n",
       "      <td>0</td>\n",
       "      <td>0</td>\n",
       "      <td>0</td>\n",
       "      <td>162</td>\n",
       "      <td>1</td>\n",
       "      <td>1</td>\n",
       "    </tr>\n",
       "    <tr>\n",
       "      <th>Walking_Downstairs</th>\n",
       "      <td>0</td>\n",
       "      <td>0</td>\n",
       "      <td>0</td>\n",
       "      <td>8</td>\n",
       "      <td>115</td>\n",
       "      <td>3</td>\n",
       "    </tr>\n",
       "    <tr>\n",
       "      <th>Walking_Upstairs</th>\n",
       "      <td>0</td>\n",
       "      <td>0</td>\n",
       "      <td>0</td>\n",
       "      <td>0</td>\n",
       "      <td>5</td>\n",
       "      <td>134</td>\n",
       "    </tr>\n",
       "  </tbody>\n",
       "</table>\n",
       "</div>"
      ],
      "text/plain": [
       "                    Laying  Sitting  Standing  Walking  Walking_Downstairs  \\\n",
       "Laying                 162        0         0        0                   0   \n",
       "Sitting                  0      134        14        0                   0   \n",
       "Standing                 0       26       138        0                   0   \n",
       "Walking                  0        0         0      162                   1   \n",
       "Walking_Downstairs       0        0         0        8                 115   \n",
       "Walking_Upstairs         0        0         0        0                   5   \n",
       "\n",
       "                    Walking_Upstairs  \n",
       "Laying                             0  \n",
       "Sitting                            0  \n",
       "Standing                           0  \n",
       "Walking                            1  \n",
       "Walking_Downstairs                 3  \n",
       "Walking_Upstairs                 134  "
      ]
     },
     "execution_count": 82,
     "metadata": {},
     "output_type": "execute_result"
    }
   ],
   "source": [
    "conf_df_v = pd.DataFrame(conf_mat_v, labels, labels)\n",
    "conf_df_v"
   ]
  },
  {
   "cell_type": "code",
   "execution_count": 83,
   "metadata": {},
   "outputs": [
    {
     "data": {
      "text/html": [
       "<div>\n",
       "<style scoped>\n",
       "    .dataframe tbody tr th:only-of-type {\n",
       "        vertical-align: middle;\n",
       "    }\n",
       "\n",
       "    .dataframe tbody tr th {\n",
       "        vertical-align: top;\n",
       "    }\n",
       "\n",
       "    .dataframe thead th {\n",
       "        text-align: right;\n",
       "    }\n",
       "</style>\n",
       "<table border=\"1\" class=\"dataframe\">\n",
       "  <thead>\n",
       "    <tr style=\"text-align: right;\">\n",
       "      <th></th>\n",
       "      <th>Laying</th>\n",
       "      <th>Sitting</th>\n",
       "      <th>Standing</th>\n",
       "      <th>Walking</th>\n",
       "      <th>Walking_Downstairs</th>\n",
       "      <th>Walking_Upstairs</th>\n",
       "    </tr>\n",
       "  </thead>\n",
       "  <tbody>\n",
       "    <tr>\n",
       "      <th>Laying</th>\n",
       "      <td>1.0</td>\n",
       "      <td>0.00</td>\n",
       "      <td>0.00</td>\n",
       "      <td>0.00</td>\n",
       "      <td>0.00</td>\n",
       "      <td>0.00</td>\n",
       "    </tr>\n",
       "    <tr>\n",
       "      <th>Sitting</th>\n",
       "      <td>0.0</td>\n",
       "      <td>0.91</td>\n",
       "      <td>0.09</td>\n",
       "      <td>0.00</td>\n",
       "      <td>0.00</td>\n",
       "      <td>0.00</td>\n",
       "    </tr>\n",
       "    <tr>\n",
       "      <th>Standing</th>\n",
       "      <td>0.0</td>\n",
       "      <td>0.18</td>\n",
       "      <td>0.84</td>\n",
       "      <td>0.00</td>\n",
       "      <td>0.00</td>\n",
       "      <td>0.00</td>\n",
       "    </tr>\n",
       "    <tr>\n",
       "      <th>Walking</th>\n",
       "      <td>0.0</td>\n",
       "      <td>0.00</td>\n",
       "      <td>0.00</td>\n",
       "      <td>0.99</td>\n",
       "      <td>0.01</td>\n",
       "      <td>0.01</td>\n",
       "    </tr>\n",
       "    <tr>\n",
       "      <th>Walking_Downstairs</th>\n",
       "      <td>0.0</td>\n",
       "      <td>0.00</td>\n",
       "      <td>0.00</td>\n",
       "      <td>0.05</td>\n",
       "      <td>0.91</td>\n",
       "      <td>0.02</td>\n",
       "    </tr>\n",
       "    <tr>\n",
       "      <th>Walking_Upstairs</th>\n",
       "      <td>0.0</td>\n",
       "      <td>0.00</td>\n",
       "      <td>0.00</td>\n",
       "      <td>0.00</td>\n",
       "      <td>0.04</td>\n",
       "      <td>0.96</td>\n",
       "    </tr>\n",
       "  </tbody>\n",
       "</table>\n",
       "</div>"
      ],
      "text/plain": [
       "                    Laying  Sitting  Standing  Walking  Walking_Downstairs  \\\n",
       "Laying                 1.0     0.00      0.00     0.00                0.00   \n",
       "Sitting                0.0     0.91      0.09     0.00                0.00   \n",
       "Standing               0.0     0.18      0.84     0.00                0.00   \n",
       "Walking                0.0     0.00      0.00     0.99                0.01   \n",
       "Walking_Downstairs     0.0     0.00      0.00     0.05                0.91   \n",
       "Walking_Upstairs       0.0     0.00      0.00     0.00                0.04   \n",
       "\n",
       "                    Walking_Upstairs  \n",
       "Laying                          0.00  \n",
       "Sitting                         0.00  \n",
       "Standing                        0.00  \n",
       "Walking                         0.01  \n",
       "Walking_Downstairs              0.02  \n",
       "Walking_Upstairs                0.96  "
      ]
     },
     "execution_count": 83,
     "metadata": {},
     "output_type": "execute_result"
    }
   ],
   "source": [
    "conf_df_pct_v = conf_df_v/conf_df_v.sum(axis=1)\n",
    "round(conf_df_pct_v, 2)"
   ]
  },
  {
   "cell_type": "code",
   "execution_count": 84,
   "metadata": {},
   "outputs": [
    {
     "data": {
      "text/plain": [
       "0.935381764371327"
      ]
     },
     "execution_count": 84,
     "metadata": {},
     "output_type": "execute_result"
    }
   ],
   "source": [
    "f1_score(y_true = Validation_outcome,\n",
    "         y_pred = outcome_predict_Validation,\n",
    "         average= 'macro')"
   ]
  },
  {
   "cell_type": "code",
   "execution_count": 85,
   "metadata": {},
   "outputs": [
    {
     "data": {
      "text/plain": [
       "0.9357696566998892"
      ]
     },
     "execution_count": 85,
     "metadata": {},
     "output_type": "execute_result"
    }
   ],
   "source": [
    "f1_score(y_true = Validation_outcome,\n",
    "         y_pred = outcome_predict_Validation,\n",
    "         average= 'micro')"
   ]
  },
  {
   "cell_type": "markdown",
   "metadata": {},
   "source": [
    "Performing a confusion matrix using the validation set, using the random forest model, shows that our prediction rate was still really good. There was a slight difference in correctly predicting standing but still around 85% successful. The f scores are also still pretty high."
   ]
  },
  {
   "cell_type": "code",
   "execution_count": 86,
   "metadata": {},
   "outputs": [],
   "source": [
    "from sklearn.neighbors import KNeighborsClassifier as knn"
   ]
  },
  {
   "cell_type": "markdown",
   "metadata": {},
   "source": [
    "https://scikit-learn.org/stable/modules/generated/sklearn.neighbors.KNeighborsRegressor.html"
   ]
  },
  {
   "cell_type": "markdown",
   "metadata": {},
   "source": [
    "Next I wanted to try a k nearest neighbor approach. The K nearest neighbor function I used is explained in more detail in the link above."
   ]
  },
  {
   "cell_type": "code",
   "execution_count": 87,
   "metadata": {},
   "outputs": [],
   "source": [
    "from sklearn import preprocessing "
   ]
  },
  {
   "cell_type": "code",
   "execution_count": 88,
   "metadata": {},
   "outputs": [
    {
     "data": {
      "text/plain": [
       "LabelEncoder()"
      ]
     },
     "execution_count": 88,
     "metadata": {},
     "output_type": "execute_result"
    }
   ],
   "source": [
    "encoder = preprocessing.LabelEncoder()\n",
    "encoder.fit(Activity_outcome)"
   ]
  },
  {
   "cell_type": "code",
   "execution_count": 89,
   "metadata": {},
   "outputs": [],
   "source": [
    "training_Labels_encoded = encoder.transform(Activity_outcome)"
   ]
  },
  {
   "cell_type": "code",
   "execution_count": 90,
   "metadata": {},
   "outputs": [
    {
     "data": {
      "text/plain": [
       "array([0, 0, 4, 2, 2, 5, 5, 3, 3, 2])"
      ]
     },
     "execution_count": 90,
     "metadata": {},
     "output_type": "execute_result"
    }
   ],
   "source": [
    "training_Labels_encoded[0:10]"
   ]
  },
  {
   "cell_type": "code",
   "execution_count": 91,
   "metadata": {},
   "outputs": [
    {
     "data": {
      "text/plain": [
       "LabelEncoder()"
      ]
     },
     "execution_count": 91,
     "metadata": {},
     "output_type": "execute_result"
    }
   ],
   "source": [
    "encoder2 = preprocessing.LabelEncoder()\n",
    "encoder2.fit(Validation_outcome)"
   ]
  },
  {
   "cell_type": "code",
   "execution_count": 92,
   "metadata": {},
   "outputs": [
    {
     "data": {
      "text/plain": [
       "array([3, 1, 3, 1, 2, 2, 0, 1, 3, 4])"
      ]
     },
     "execution_count": 92,
     "metadata": {},
     "output_type": "execute_result"
    }
   ],
   "source": [
    "Validation_Labels_encoded = encoder.transform(Validation_outcome)\n",
    "Validation_Labels_encoded[0:10]"
   ]
  },
  {
   "cell_type": "markdown",
   "metadata": {},
   "source": [
    "Below I decided to use the closest 20 points and weight each point by the inverse of the distance to it's neighbors. This means that the closer neighbors get a higher weight than further neighbors."
   ]
  },
  {
   "cell_type": "code",
   "execution_count": 93,
   "metadata": {},
   "outputs": [],
   "source": [
    "knn_classifier = knn(n_neighbors = 20, weights='distance')\n",
    "knn_Model = knn_classifier.fit(training_features, Activity_outcome)"
   ]
  },
  {
   "cell_type": "code",
   "execution_count": 94,
   "metadata": {},
   "outputs": [],
   "source": [
    "knn_training_outcomes = knn_Model.predict(training_features)"
   ]
  },
  {
   "cell_type": "code",
   "execution_count": 95,
   "metadata": {},
   "outputs": [
    {
     "data": {
      "text/plain": [
       "{'LAYING': 486,\n",
       " 'SITTING': 443,\n",
       " 'STANDING': 490,\n",
       " 'WALKING': 491,\n",
       " 'WALKING_DOWNSTAIRS': 378,\n",
       " 'WALKING_UPSTAIRS': 418}"
      ]
     },
     "execution_count": 95,
     "metadata": {},
     "output_type": "execute_result"
    }
   ],
   "source": [
    "knn_unique, knn_counts = np.unique(knn_training_outcomes, return_counts=True)\n",
    "label_dict_knn = dict(zip(knn_unique, knn_counts))\n",
    "label_dict_knn"
   ]
  },
  {
   "cell_type": "code",
   "execution_count": 96,
   "metadata": {},
   "outputs": [
    {
     "data": {
      "text/plain": [
       "{'LAYING': 486,\n",
       " 'SITTING': 443,\n",
       " 'STANDING': 490,\n",
       " 'WALKING': 491,\n",
       " 'WALKING_DOWNSTAIRS': 378,\n",
       " 'WALKING_UPSTAIRS': 418}"
      ]
     },
     "execution_count": 96,
     "metadata": {},
     "output_type": "execute_result"
    }
   ],
   "source": [
    "label_counts_dict"
   ]
  },
  {
   "cell_type": "code",
   "execution_count": 97,
   "metadata": {},
   "outputs": [
    {
     "data": {
      "text/plain": [
       "array([[486,   0,   0,   0,   0,   0],\n",
       "       [  0, 443,   0,   0,   0,   0],\n",
       "       [  0,   0, 490,   0,   0,   0],\n",
       "       [  0,   0,   0, 491,   0,   0],\n",
       "       [  0,   0,   0,   0, 378,   0],\n",
       "       [  0,   0,   0,   0,   0, 418]])"
      ]
     },
     "execution_count": 97,
     "metadata": {},
     "output_type": "execute_result"
    }
   ],
   "source": [
    "conf_mat_knn = confusion_matrix(y_true = Activity_outcome,\n",
    "                            y_pred = knn_training_outcomes)\n",
    "conf_mat_knn"
   ]
  },
  {
   "cell_type": "code",
   "execution_count": 98,
   "metadata": {},
   "outputs": [
    {
     "data": {
      "text/html": [
       "<div>\n",
       "<style scoped>\n",
       "    .dataframe tbody tr th:only-of-type {\n",
       "        vertical-align: middle;\n",
       "    }\n",
       "\n",
       "    .dataframe tbody tr th {\n",
       "        vertical-align: top;\n",
       "    }\n",
       "\n",
       "    .dataframe thead th {\n",
       "        text-align: right;\n",
       "    }\n",
       "</style>\n",
       "<table border=\"1\" class=\"dataframe\">\n",
       "  <thead>\n",
       "    <tr style=\"text-align: right;\">\n",
       "      <th></th>\n",
       "      <th>Laying</th>\n",
       "      <th>Sitting</th>\n",
       "      <th>Standing</th>\n",
       "      <th>Walking</th>\n",
       "      <th>Walking_Downstairs</th>\n",
       "      <th>Walking_Upstairs</th>\n",
       "    </tr>\n",
       "  </thead>\n",
       "  <tbody>\n",
       "    <tr>\n",
       "      <th>Laying</th>\n",
       "      <td>486</td>\n",
       "      <td>0</td>\n",
       "      <td>0</td>\n",
       "      <td>0</td>\n",
       "      <td>0</td>\n",
       "      <td>0</td>\n",
       "    </tr>\n",
       "    <tr>\n",
       "      <th>Sitting</th>\n",
       "      <td>0</td>\n",
       "      <td>443</td>\n",
       "      <td>0</td>\n",
       "      <td>0</td>\n",
       "      <td>0</td>\n",
       "      <td>0</td>\n",
       "    </tr>\n",
       "    <tr>\n",
       "      <th>Standing</th>\n",
       "      <td>0</td>\n",
       "      <td>0</td>\n",
       "      <td>490</td>\n",
       "      <td>0</td>\n",
       "      <td>0</td>\n",
       "      <td>0</td>\n",
       "    </tr>\n",
       "    <tr>\n",
       "      <th>Walking</th>\n",
       "      <td>0</td>\n",
       "      <td>0</td>\n",
       "      <td>0</td>\n",
       "      <td>491</td>\n",
       "      <td>0</td>\n",
       "      <td>0</td>\n",
       "    </tr>\n",
       "    <tr>\n",
       "      <th>Walking_Downstairs</th>\n",
       "      <td>0</td>\n",
       "      <td>0</td>\n",
       "      <td>0</td>\n",
       "      <td>0</td>\n",
       "      <td>378</td>\n",
       "      <td>0</td>\n",
       "    </tr>\n",
       "    <tr>\n",
       "      <th>Walking_Upstairs</th>\n",
       "      <td>0</td>\n",
       "      <td>0</td>\n",
       "      <td>0</td>\n",
       "      <td>0</td>\n",
       "      <td>0</td>\n",
       "      <td>418</td>\n",
       "    </tr>\n",
       "  </tbody>\n",
       "</table>\n",
       "</div>"
      ],
      "text/plain": [
       "                    Laying  Sitting  Standing  Walking  Walking_Downstairs  \\\n",
       "Laying                 486        0         0        0                   0   \n",
       "Sitting                  0      443         0        0                   0   \n",
       "Standing                 0        0       490        0                   0   \n",
       "Walking                  0        0         0      491                   0   \n",
       "Walking_Downstairs       0        0         0        0                 378   \n",
       "Walking_Upstairs         0        0         0        0                   0   \n",
       "\n",
       "                    Walking_Upstairs  \n",
       "Laying                             0  \n",
       "Sitting                            0  \n",
       "Standing                           0  \n",
       "Walking                            0  \n",
       "Walking_Downstairs                 0  \n",
       "Walking_Upstairs                 418  "
      ]
     },
     "execution_count": 98,
     "metadata": {},
     "output_type": "execute_result"
    }
   ],
   "source": [
    "conf_df_knn = pd.DataFrame(conf_mat_knn, labels, labels)\n",
    "conf_df_knn"
   ]
  },
  {
   "cell_type": "code",
   "execution_count": 99,
   "metadata": {},
   "outputs": [],
   "source": [
    "knn_validation_outcomes = knn_Model.predict(Validation_features)"
   ]
  },
  {
   "cell_type": "code",
   "execution_count": 100,
   "metadata": {},
   "outputs": [
    {
     "data": {
      "text/plain": [
       "{'LAYING': 162,\n",
       " 'SITTING': 123,\n",
       " 'STANDING': 189,\n",
       " 'WALKING': 166,\n",
       " 'WALKING_DOWNSTAIRS': 123,\n",
       " 'WALKING_UPSTAIRS': 140}"
      ]
     },
     "execution_count": 100,
     "metadata": {},
     "output_type": "execute_result"
    }
   ],
   "source": [
    "knn_unique_v, knn_counts_v = np.unique(knn_validation_outcomes, return_counts=True)\n",
    "label_dict_knn_v = dict(zip(knn_unique_v, knn_counts_v))\n",
    "label_dict_knn_v"
   ]
  },
  {
   "cell_type": "code",
   "execution_count": 101,
   "metadata": {},
   "outputs": [
    {
     "data": {
      "text/plain": [
       "{'LAYING': 162,\n",
       " 'SITTING': 148,\n",
       " 'STANDING': 164,\n",
       " 'WALKING': 164,\n",
       " 'WALKING_DOWNSTAIRS': 126,\n",
       " 'WALKING_UPSTAIRS': 139}"
      ]
     },
     "execution_count": 101,
     "metadata": {},
     "output_type": "execute_result"
    }
   ],
   "source": [
    "label_dict_v"
   ]
  },
  {
   "cell_type": "code",
   "execution_count": 102,
   "metadata": {},
   "outputs": [
    {
     "data": {
      "text/plain": [
       "array([[162,   0,   0,   0,   0,   0],\n",
       "       [  0, 107,  41,   0,   0,   0],\n",
       "       [  0,  16, 148,   0,   0,   0],\n",
       "       [  0,   0,   0, 164,   0,   0],\n",
       "       [  0,   0,   0,   2, 123,   1],\n",
       "       [  0,   0,   0,   0,   0, 139]])"
      ]
     },
     "execution_count": 102,
     "metadata": {},
     "output_type": "execute_result"
    }
   ],
   "source": [
    "conf_mat_knn_v = confusion_matrix(y_true = Validation_outcome,\n",
    "                            y_pred = knn_validation_outcomes)\n",
    "conf_mat_knn_v"
   ]
  },
  {
   "cell_type": "code",
   "execution_count": 103,
   "metadata": {},
   "outputs": [
    {
     "data": {
      "text/html": [
       "<div>\n",
       "<style scoped>\n",
       "    .dataframe tbody tr th:only-of-type {\n",
       "        vertical-align: middle;\n",
       "    }\n",
       "\n",
       "    .dataframe tbody tr th {\n",
       "        vertical-align: top;\n",
       "    }\n",
       "\n",
       "    .dataframe thead th {\n",
       "        text-align: right;\n",
       "    }\n",
       "</style>\n",
       "<table border=\"1\" class=\"dataframe\">\n",
       "  <thead>\n",
       "    <tr style=\"text-align: right;\">\n",
       "      <th></th>\n",
       "      <th>Laying</th>\n",
       "      <th>Sitting</th>\n",
       "      <th>Standing</th>\n",
       "      <th>Walking</th>\n",
       "      <th>Walking_Downstairs</th>\n",
       "      <th>Walking_Upstairs</th>\n",
       "    </tr>\n",
       "  </thead>\n",
       "  <tbody>\n",
       "    <tr>\n",
       "      <th>Laying</th>\n",
       "      <td>162</td>\n",
       "      <td>0</td>\n",
       "      <td>0</td>\n",
       "      <td>0</td>\n",
       "      <td>0</td>\n",
       "      <td>0</td>\n",
       "    </tr>\n",
       "    <tr>\n",
       "      <th>Sitting</th>\n",
       "      <td>0</td>\n",
       "      <td>107</td>\n",
       "      <td>41</td>\n",
       "      <td>0</td>\n",
       "      <td>0</td>\n",
       "      <td>0</td>\n",
       "    </tr>\n",
       "    <tr>\n",
       "      <th>Standing</th>\n",
       "      <td>0</td>\n",
       "      <td>16</td>\n",
       "      <td>148</td>\n",
       "      <td>0</td>\n",
       "      <td>0</td>\n",
       "      <td>0</td>\n",
       "    </tr>\n",
       "    <tr>\n",
       "      <th>Walking</th>\n",
       "      <td>0</td>\n",
       "      <td>0</td>\n",
       "      <td>0</td>\n",
       "      <td>164</td>\n",
       "      <td>0</td>\n",
       "      <td>0</td>\n",
       "    </tr>\n",
       "    <tr>\n",
       "      <th>Walking_Downstairs</th>\n",
       "      <td>0</td>\n",
       "      <td>0</td>\n",
       "      <td>0</td>\n",
       "      <td>2</td>\n",
       "      <td>123</td>\n",
       "      <td>1</td>\n",
       "    </tr>\n",
       "    <tr>\n",
       "      <th>Walking_Upstairs</th>\n",
       "      <td>0</td>\n",
       "      <td>0</td>\n",
       "      <td>0</td>\n",
       "      <td>0</td>\n",
       "      <td>0</td>\n",
       "      <td>139</td>\n",
       "    </tr>\n",
       "  </tbody>\n",
       "</table>\n",
       "</div>"
      ],
      "text/plain": [
       "                    Laying  Sitting  Standing  Walking  Walking_Downstairs  \\\n",
       "Laying                 162        0         0        0                   0   \n",
       "Sitting                  0      107        41        0                   0   \n",
       "Standing                 0       16       148        0                   0   \n",
       "Walking                  0        0         0      164                   0   \n",
       "Walking_Downstairs       0        0         0        2                 123   \n",
       "Walking_Upstairs         0        0         0        0                   0   \n",
       "\n",
       "                    Walking_Upstairs  \n",
       "Laying                             0  \n",
       "Sitting                            0  \n",
       "Standing                           0  \n",
       "Walking                            0  \n",
       "Walking_Downstairs                 1  \n",
       "Walking_Upstairs                 139  "
      ]
     },
     "execution_count": 103,
     "metadata": {},
     "output_type": "execute_result"
    }
   ],
   "source": [
    "conf_df_knn_v = pd.DataFrame(conf_mat_knn_v, labels, labels)\n",
    "conf_df_knn_v"
   ]
  },
  {
   "cell_type": "code",
   "execution_count": 104,
   "metadata": {},
   "outputs": [
    {
     "data": {
      "text/html": [
       "<div>\n",
       "<style scoped>\n",
       "    .dataframe tbody tr th:only-of-type {\n",
       "        vertical-align: middle;\n",
       "    }\n",
       "\n",
       "    .dataframe tbody tr th {\n",
       "        vertical-align: top;\n",
       "    }\n",
       "\n",
       "    .dataframe thead th {\n",
       "        text-align: right;\n",
       "    }\n",
       "</style>\n",
       "<table border=\"1\" class=\"dataframe\">\n",
       "  <thead>\n",
       "    <tr style=\"text-align: right;\">\n",
       "      <th></th>\n",
       "      <th>Laying</th>\n",
       "      <th>Sitting</th>\n",
       "      <th>Standing</th>\n",
       "      <th>Walking</th>\n",
       "      <th>Walking_Downstairs</th>\n",
       "      <th>Walking_Upstairs</th>\n",
       "    </tr>\n",
       "  </thead>\n",
       "  <tbody>\n",
       "    <tr>\n",
       "      <th>Laying</th>\n",
       "      <td>1.0</td>\n",
       "      <td>0.000</td>\n",
       "      <td>0.000</td>\n",
       "      <td>0.000</td>\n",
       "      <td>0.000</td>\n",
       "      <td>0.000</td>\n",
       "    </tr>\n",
       "    <tr>\n",
       "      <th>Sitting</th>\n",
       "      <td>0.0</td>\n",
       "      <td>0.723</td>\n",
       "      <td>0.250</td>\n",
       "      <td>0.000</td>\n",
       "      <td>0.000</td>\n",
       "      <td>0.000</td>\n",
       "    </tr>\n",
       "    <tr>\n",
       "      <th>Standing</th>\n",
       "      <td>0.0</td>\n",
       "      <td>0.108</td>\n",
       "      <td>0.902</td>\n",
       "      <td>0.000</td>\n",
       "      <td>0.000</td>\n",
       "      <td>0.000</td>\n",
       "    </tr>\n",
       "    <tr>\n",
       "      <th>Walking</th>\n",
       "      <td>0.0</td>\n",
       "      <td>0.000</td>\n",
       "      <td>0.000</td>\n",
       "      <td>1.000</td>\n",
       "      <td>0.000</td>\n",
       "      <td>0.000</td>\n",
       "    </tr>\n",
       "    <tr>\n",
       "      <th>Walking_Downstairs</th>\n",
       "      <td>0.0</td>\n",
       "      <td>0.000</td>\n",
       "      <td>0.000</td>\n",
       "      <td>0.012</td>\n",
       "      <td>0.976</td>\n",
       "      <td>0.007</td>\n",
       "    </tr>\n",
       "    <tr>\n",
       "      <th>Walking_Upstairs</th>\n",
       "      <td>0.0</td>\n",
       "      <td>0.000</td>\n",
       "      <td>0.000</td>\n",
       "      <td>0.000</td>\n",
       "      <td>0.000</td>\n",
       "      <td>1.000</td>\n",
       "    </tr>\n",
       "  </tbody>\n",
       "</table>\n",
       "</div>"
      ],
      "text/plain": [
       "                    Laying  Sitting  Standing  Walking  Walking_Downstairs  \\\n",
       "Laying                 1.0    0.000     0.000    0.000               0.000   \n",
       "Sitting                0.0    0.723     0.250    0.000               0.000   \n",
       "Standing               0.0    0.108     0.902    0.000               0.000   \n",
       "Walking                0.0    0.000     0.000    1.000               0.000   \n",
       "Walking_Downstairs     0.0    0.000     0.000    0.012               0.976   \n",
       "Walking_Upstairs       0.0    0.000     0.000    0.000               0.000   \n",
       "\n",
       "                    Walking_Upstairs  \n",
       "Laying                         0.000  \n",
       "Sitting                        0.000  \n",
       "Standing                       0.000  \n",
       "Walking                        0.000  \n",
       "Walking_Downstairs             0.007  \n",
       "Walking_Upstairs               1.000  "
      ]
     },
     "execution_count": 104,
     "metadata": {},
     "output_type": "execute_result"
    }
   ],
   "source": [
    "conf_df_pct_knn_v = conf_df_knn_v/conf_df_knn_v.sum(axis=1)\n",
    "round(conf_df_pct_knn_v, 3)"
   ]
  },
  {
   "cell_type": "markdown",
   "metadata": {},
   "source": [
    "Performing a K nearest neighbor on the training data produced 100% accuracy in predicting the activities. This made me believe that this model was overfitting the training data. However, when testing the k nearest neighbor on the validation data set, I was able to still get above 90% correct classifications for everyting but sitting. "
   ]
  },
  {
   "cell_type": "markdown",
   "metadata": {},
   "source": [
    "Comparing the two models it seems that the random forest model performs better than the k nearest neighbor model. However, on the validation model the k nearest neigbor did better on the standing category but worse on the sitting category. I want to ensemble the two models to try to slightly improve the standing category and hopefully not degrade the sitting category by too much. "
   ]
  },
  {
   "cell_type": "code",
   "execution_count": 105,
   "metadata": {},
   "outputs": [],
   "source": [
    "from sklearn.ensemble import VotingClassifier"
   ]
  },
  {
   "cell_type": "markdown",
   "metadata": {},
   "source": [
    "https://scikit-learn.org/stable/modules/generated/sklearn.ensemble.VotingClassifier.html "
   ]
  },
  {
   "cell_type": "code",
   "execution_count": 106,
   "metadata": {},
   "outputs": [],
   "source": [
    "ensembled_models = VotingClassifier([('rf',forest),('knn',knn_Model)],voting='hard')"
   ]
  },
  {
   "cell_type": "code",
   "execution_count": 107,
   "metadata": {},
   "outputs": [
    {
     "name": "stderr",
     "output_type": "stream",
     "text": [
      "[Parallel(n_jobs=1)]: Using backend SequentialBackend with 1 concurrent workers.\n",
      "[Parallel(n_jobs=1)]: Done 1500 out of 1500 | elapsed:   36.4s finished\n"
     ]
    },
    {
     "data": {
      "text/plain": [
       "VotingClassifier(estimators=[('rf', RandomForestClassifier(bootstrap=True, class_weight='balanced',\n",
       "            criterion='gini', max_depth=None, max_features='auto',\n",
       "            max_leaf_nodes=None, min_impurity_decrease=0.0,\n",
       "            min_impurity_split=None, min_samples_leaf=30,\n",
       "            min_samples_split=2,...',\n",
       "           metric_params=None, n_jobs=None, n_neighbors=20, p=2,\n",
       "           weights='distance'))],\n",
       "         flatten_transform=None, n_jobs=None, voting='hard', weights=None)"
      ]
     },
     "execution_count": 107,
     "metadata": {},
     "output_type": "execute_result"
    }
   ],
   "source": [
    "ensembled_models.fit(training_features,Activity_outcome)"
   ]
  },
  {
   "cell_type": "code",
   "execution_count": 109,
   "metadata": {},
   "outputs": [
    {
     "name": "stderr",
     "output_type": "stream",
     "text": [
      "[Parallel(n_jobs=1)]: Using backend SequentialBackend with 1 concurrent workers.\n",
      "[Parallel(n_jobs=1)]: Done 1500 out of 1500 | elapsed:    0.5s finished\n"
     ]
    }
   ],
   "source": [
    "ensembled_outcomes = ensembled_models.predict(Validation_features)"
   ]
  },
  {
   "cell_type": "code",
   "execution_count": 110,
   "metadata": {},
   "outputs": [
    {
     "data": {
      "text/plain": [
       "{'LAYING': 162,\n",
       " 'SITTING': 168,\n",
       " 'STANDING': 144,\n",
       " 'WALKING': 172,\n",
       " 'WALKING_DOWNSTAIRS': 123,\n",
       " 'WALKING_UPSTAIRS': 134}"
      ]
     },
     "execution_count": 110,
     "metadata": {},
     "output_type": "execute_result"
    }
   ],
   "source": [
    "ensembled_unique_v, ensembled_counts_v = np.unique(ensembled_outcomes, return_counts=True)\n",
    "label_dict_ensembled_v = dict(zip(ensembled_unique_v, ensembled_counts_v))\n",
    "label_dict_ensembled_v"
   ]
  },
  {
   "cell_type": "code",
   "execution_count": 111,
   "metadata": {},
   "outputs": [
    {
     "data": {
      "text/plain": [
       "array([[162,   0,   0,   0,   0,   0],\n",
       "       [  0, 136,  12,   0,   0,   0],\n",
       "       [  0,  32, 132,   0,   0,   0],\n",
       "       [  0,   0,   0, 164,   0,   0],\n",
       "       [  0,   0,   0,   8, 118,   0],\n",
       "       [  0,   0,   0,   0,   5, 134]])"
      ]
     },
     "execution_count": 111,
     "metadata": {},
     "output_type": "execute_result"
    }
   ],
   "source": [
    "conf_mat_ens_v = confusion_matrix(y_true = Validation_outcome,\n",
    "                            y_pred = ensembled_outcomes)\n",
    "conf_mat_ens_v"
   ]
  },
  {
   "cell_type": "code",
   "execution_count": 112,
   "metadata": {},
   "outputs": [
    {
     "data": {
      "text/html": [
       "<div>\n",
       "<style scoped>\n",
       "    .dataframe tbody tr th:only-of-type {\n",
       "        vertical-align: middle;\n",
       "    }\n",
       "\n",
       "    .dataframe tbody tr th {\n",
       "        vertical-align: top;\n",
       "    }\n",
       "\n",
       "    .dataframe thead th {\n",
       "        text-align: right;\n",
       "    }\n",
       "</style>\n",
       "<table border=\"1\" class=\"dataframe\">\n",
       "  <thead>\n",
       "    <tr style=\"text-align: right;\">\n",
       "      <th></th>\n",
       "      <th>Laying</th>\n",
       "      <th>Sitting</th>\n",
       "      <th>Standing</th>\n",
       "      <th>Walking</th>\n",
       "      <th>Walking_Downstairs</th>\n",
       "      <th>Walking_Upstairs</th>\n",
       "    </tr>\n",
       "  </thead>\n",
       "  <tbody>\n",
       "    <tr>\n",
       "      <th>Laying</th>\n",
       "      <td>162</td>\n",
       "      <td>0</td>\n",
       "      <td>0</td>\n",
       "      <td>0</td>\n",
       "      <td>0</td>\n",
       "      <td>0</td>\n",
       "    </tr>\n",
       "    <tr>\n",
       "      <th>Sitting</th>\n",
       "      <td>0</td>\n",
       "      <td>136</td>\n",
       "      <td>12</td>\n",
       "      <td>0</td>\n",
       "      <td>0</td>\n",
       "      <td>0</td>\n",
       "    </tr>\n",
       "    <tr>\n",
       "      <th>Standing</th>\n",
       "      <td>0</td>\n",
       "      <td>32</td>\n",
       "      <td>132</td>\n",
       "      <td>0</td>\n",
       "      <td>0</td>\n",
       "      <td>0</td>\n",
       "    </tr>\n",
       "    <tr>\n",
       "      <th>Walking</th>\n",
       "      <td>0</td>\n",
       "      <td>0</td>\n",
       "      <td>0</td>\n",
       "      <td>164</td>\n",
       "      <td>0</td>\n",
       "      <td>0</td>\n",
       "    </tr>\n",
       "    <tr>\n",
       "      <th>Walking_Downstairs</th>\n",
       "      <td>0</td>\n",
       "      <td>0</td>\n",
       "      <td>0</td>\n",
       "      <td>8</td>\n",
       "      <td>118</td>\n",
       "      <td>0</td>\n",
       "    </tr>\n",
       "    <tr>\n",
       "      <th>Walking_Upstairs</th>\n",
       "      <td>0</td>\n",
       "      <td>0</td>\n",
       "      <td>0</td>\n",
       "      <td>0</td>\n",
       "      <td>5</td>\n",
       "      <td>134</td>\n",
       "    </tr>\n",
       "  </tbody>\n",
       "</table>\n",
       "</div>"
      ],
      "text/plain": [
       "                    Laying  Sitting  Standing  Walking  Walking_Downstairs  \\\n",
       "Laying                 162        0         0        0                   0   \n",
       "Sitting                  0      136        12        0                   0   \n",
       "Standing                 0       32       132        0                   0   \n",
       "Walking                  0        0         0      164                   0   \n",
       "Walking_Downstairs       0        0         0        8                 118   \n",
       "Walking_Upstairs         0        0         0        0                   5   \n",
       "\n",
       "                    Walking_Upstairs  \n",
       "Laying                             0  \n",
       "Sitting                            0  \n",
       "Standing                           0  \n",
       "Walking                            0  \n",
       "Walking_Downstairs                 0  \n",
       "Walking_Upstairs                 134  "
      ]
     },
     "execution_count": 112,
     "metadata": {},
     "output_type": "execute_result"
    }
   ],
   "source": [
    "conf_df_ens_v = pd.DataFrame(conf_mat_ens_v, labels, labels)\n",
    "conf_df_ens_v"
   ]
  },
  {
   "cell_type": "markdown",
   "metadata": {},
   "source": [
    "This is the confusion matrix for the ensembled model:"
   ]
  },
  {
   "cell_type": "code",
   "execution_count": 113,
   "metadata": {},
   "outputs": [
    {
     "data": {
      "text/html": [
       "<div>\n",
       "<style scoped>\n",
       "    .dataframe tbody tr th:only-of-type {\n",
       "        vertical-align: middle;\n",
       "    }\n",
       "\n",
       "    .dataframe tbody tr th {\n",
       "        vertical-align: top;\n",
       "    }\n",
       "\n",
       "    .dataframe thead th {\n",
       "        text-align: right;\n",
       "    }\n",
       "</style>\n",
       "<table border=\"1\" class=\"dataframe\">\n",
       "  <thead>\n",
       "    <tr style=\"text-align: right;\">\n",
       "      <th></th>\n",
       "      <th>Laying</th>\n",
       "      <th>Sitting</th>\n",
       "      <th>Standing</th>\n",
       "      <th>Walking</th>\n",
       "      <th>Walking_Downstairs</th>\n",
       "      <th>Walking_Upstairs</th>\n",
       "    </tr>\n",
       "  </thead>\n",
       "  <tbody>\n",
       "    <tr>\n",
       "      <th>Laying</th>\n",
       "      <td>1.0</td>\n",
       "      <td>0.000</td>\n",
       "      <td>0.000</td>\n",
       "      <td>0.000</td>\n",
       "      <td>0.000</td>\n",
       "      <td>0.000</td>\n",
       "    </tr>\n",
       "    <tr>\n",
       "      <th>Sitting</th>\n",
       "      <td>0.0</td>\n",
       "      <td>0.919</td>\n",
       "      <td>0.073</td>\n",
       "      <td>0.000</td>\n",
       "      <td>0.000</td>\n",
       "      <td>0.000</td>\n",
       "    </tr>\n",
       "    <tr>\n",
       "      <th>Standing</th>\n",
       "      <td>0.0</td>\n",
       "      <td>0.216</td>\n",
       "      <td>0.805</td>\n",
       "      <td>0.000</td>\n",
       "      <td>0.000</td>\n",
       "      <td>0.000</td>\n",
       "    </tr>\n",
       "    <tr>\n",
       "      <th>Walking</th>\n",
       "      <td>0.0</td>\n",
       "      <td>0.000</td>\n",
       "      <td>0.000</td>\n",
       "      <td>1.000</td>\n",
       "      <td>0.000</td>\n",
       "      <td>0.000</td>\n",
       "    </tr>\n",
       "    <tr>\n",
       "      <th>Walking_Downstairs</th>\n",
       "      <td>0.0</td>\n",
       "      <td>0.000</td>\n",
       "      <td>0.000</td>\n",
       "      <td>0.049</td>\n",
       "      <td>0.937</td>\n",
       "      <td>0.000</td>\n",
       "    </tr>\n",
       "    <tr>\n",
       "      <th>Walking_Upstairs</th>\n",
       "      <td>0.0</td>\n",
       "      <td>0.000</td>\n",
       "      <td>0.000</td>\n",
       "      <td>0.000</td>\n",
       "      <td>0.040</td>\n",
       "      <td>0.964</td>\n",
       "    </tr>\n",
       "  </tbody>\n",
       "</table>\n",
       "</div>"
      ],
      "text/plain": [
       "                    Laying  Sitting  Standing  Walking  Walking_Downstairs  \\\n",
       "Laying                 1.0    0.000     0.000    0.000               0.000   \n",
       "Sitting                0.0    0.919     0.073    0.000               0.000   \n",
       "Standing               0.0    0.216     0.805    0.000               0.000   \n",
       "Walking                0.0    0.000     0.000    1.000               0.000   \n",
       "Walking_Downstairs     0.0    0.000     0.000    0.049               0.937   \n",
       "Walking_Upstairs       0.0    0.000     0.000    0.000               0.040   \n",
       "\n",
       "                    Walking_Upstairs  \n",
       "Laying                         0.000  \n",
       "Sitting                        0.000  \n",
       "Standing                       0.000  \n",
       "Walking                        0.000  \n",
       "Walking_Downstairs             0.000  \n",
       "Walking_Upstairs               0.964  "
      ]
     },
     "execution_count": 113,
     "metadata": {},
     "output_type": "execute_result"
    }
   ],
   "source": [
    "conf_df_pct_ens_v = conf_df_ens_v/conf_df_ens_v.sum(axis=1)\n",
    "round(conf_df_pct_ens_v, 3)"
   ]
  },
  {
   "cell_type": "markdown",
   "metadata": {},
   "source": [
    "This is the confusion matrix for the k nearest neighbor model again: "
   ]
  },
  {
   "cell_type": "code",
   "execution_count": 114,
   "metadata": {},
   "outputs": [
    {
     "data": {
      "text/html": [
       "<div>\n",
       "<style scoped>\n",
       "    .dataframe tbody tr th:only-of-type {\n",
       "        vertical-align: middle;\n",
       "    }\n",
       "\n",
       "    .dataframe tbody tr th {\n",
       "        vertical-align: top;\n",
       "    }\n",
       "\n",
       "    .dataframe thead th {\n",
       "        text-align: right;\n",
       "    }\n",
       "</style>\n",
       "<table border=\"1\" class=\"dataframe\">\n",
       "  <thead>\n",
       "    <tr style=\"text-align: right;\">\n",
       "      <th></th>\n",
       "      <th>Laying</th>\n",
       "      <th>Sitting</th>\n",
       "      <th>Standing</th>\n",
       "      <th>Walking</th>\n",
       "      <th>Walking_Downstairs</th>\n",
       "      <th>Walking_Upstairs</th>\n",
       "    </tr>\n",
       "  </thead>\n",
       "  <tbody>\n",
       "    <tr>\n",
       "      <th>Laying</th>\n",
       "      <td>1.0</td>\n",
       "      <td>0.000</td>\n",
       "      <td>0.000</td>\n",
       "      <td>0.000</td>\n",
       "      <td>0.000</td>\n",
       "      <td>0.000</td>\n",
       "    </tr>\n",
       "    <tr>\n",
       "      <th>Sitting</th>\n",
       "      <td>0.0</td>\n",
       "      <td>0.723</td>\n",
       "      <td>0.250</td>\n",
       "      <td>0.000</td>\n",
       "      <td>0.000</td>\n",
       "      <td>0.000</td>\n",
       "    </tr>\n",
       "    <tr>\n",
       "      <th>Standing</th>\n",
       "      <td>0.0</td>\n",
       "      <td>0.108</td>\n",
       "      <td>0.902</td>\n",
       "      <td>0.000</td>\n",
       "      <td>0.000</td>\n",
       "      <td>0.000</td>\n",
       "    </tr>\n",
       "    <tr>\n",
       "      <th>Walking</th>\n",
       "      <td>0.0</td>\n",
       "      <td>0.000</td>\n",
       "      <td>0.000</td>\n",
       "      <td>1.000</td>\n",
       "      <td>0.000</td>\n",
       "      <td>0.000</td>\n",
       "    </tr>\n",
       "    <tr>\n",
       "      <th>Walking_Downstairs</th>\n",
       "      <td>0.0</td>\n",
       "      <td>0.000</td>\n",
       "      <td>0.000</td>\n",
       "      <td>0.012</td>\n",
       "      <td>0.976</td>\n",
       "      <td>0.007</td>\n",
       "    </tr>\n",
       "    <tr>\n",
       "      <th>Walking_Upstairs</th>\n",
       "      <td>0.0</td>\n",
       "      <td>0.000</td>\n",
       "      <td>0.000</td>\n",
       "      <td>0.000</td>\n",
       "      <td>0.000</td>\n",
       "      <td>1.000</td>\n",
       "    </tr>\n",
       "  </tbody>\n",
       "</table>\n",
       "</div>"
      ],
      "text/plain": [
       "                    Laying  Sitting  Standing  Walking  Walking_Downstairs  \\\n",
       "Laying                 1.0    0.000     0.000    0.000               0.000   \n",
       "Sitting                0.0    0.723     0.250    0.000               0.000   \n",
       "Standing               0.0    0.108     0.902    0.000               0.000   \n",
       "Walking                0.0    0.000     0.000    1.000               0.000   \n",
       "Walking_Downstairs     0.0    0.000     0.000    0.012               0.976   \n",
       "Walking_Upstairs       0.0    0.000     0.000    0.000               0.000   \n",
       "\n",
       "                    Walking_Upstairs  \n",
       "Laying                         0.000  \n",
       "Sitting                        0.000  \n",
       "Standing                       0.000  \n",
       "Walking                        0.000  \n",
       "Walking_Downstairs             0.007  \n",
       "Walking_Upstairs               1.000  "
      ]
     },
     "execution_count": 114,
     "metadata": {},
     "output_type": "execute_result"
    }
   ],
   "source": [
    "round(conf_df_pct_knn_v, 3)"
   ]
  },
  {
   "cell_type": "markdown",
   "metadata": {},
   "source": [
    "Finally this is the confusion matrix for the random forest model:"
   ]
  },
  {
   "cell_type": "code",
   "execution_count": 115,
   "metadata": {},
   "outputs": [
    {
     "data": {
      "text/html": [
       "<div>\n",
       "<style scoped>\n",
       "    .dataframe tbody tr th:only-of-type {\n",
       "        vertical-align: middle;\n",
       "    }\n",
       "\n",
       "    .dataframe tbody tr th {\n",
       "        vertical-align: top;\n",
       "    }\n",
       "\n",
       "    .dataframe thead th {\n",
       "        text-align: right;\n",
       "    }\n",
       "</style>\n",
       "<table border=\"1\" class=\"dataframe\">\n",
       "  <thead>\n",
       "    <tr style=\"text-align: right;\">\n",
       "      <th></th>\n",
       "      <th>Laying</th>\n",
       "      <th>Sitting</th>\n",
       "      <th>Standing</th>\n",
       "      <th>Walking</th>\n",
       "      <th>Walking_Downstairs</th>\n",
       "      <th>Walking_Upstairs</th>\n",
       "    </tr>\n",
       "  </thead>\n",
       "  <tbody>\n",
       "    <tr>\n",
       "      <th>Laying</th>\n",
       "      <td>1.0</td>\n",
       "      <td>0.000</td>\n",
       "      <td>0.000</td>\n",
       "      <td>0.000</td>\n",
       "      <td>0.000</td>\n",
       "      <td>0.000</td>\n",
       "    </tr>\n",
       "    <tr>\n",
       "      <th>Sitting</th>\n",
       "      <td>0.0</td>\n",
       "      <td>0.905</td>\n",
       "      <td>0.085</td>\n",
       "      <td>0.000</td>\n",
       "      <td>0.000</td>\n",
       "      <td>0.000</td>\n",
       "    </tr>\n",
       "    <tr>\n",
       "      <th>Standing</th>\n",
       "      <td>0.0</td>\n",
       "      <td>0.176</td>\n",
       "      <td>0.841</td>\n",
       "      <td>0.000</td>\n",
       "      <td>0.000</td>\n",
       "      <td>0.000</td>\n",
       "    </tr>\n",
       "    <tr>\n",
       "      <th>Walking</th>\n",
       "      <td>0.0</td>\n",
       "      <td>0.000</td>\n",
       "      <td>0.000</td>\n",
       "      <td>0.988</td>\n",
       "      <td>0.008</td>\n",
       "      <td>0.007</td>\n",
       "    </tr>\n",
       "    <tr>\n",
       "      <th>Walking_Downstairs</th>\n",
       "      <td>0.0</td>\n",
       "      <td>0.000</td>\n",
       "      <td>0.000</td>\n",
       "      <td>0.049</td>\n",
       "      <td>0.913</td>\n",
       "      <td>0.022</td>\n",
       "    </tr>\n",
       "    <tr>\n",
       "      <th>Walking_Upstairs</th>\n",
       "      <td>0.0</td>\n",
       "      <td>0.000</td>\n",
       "      <td>0.000</td>\n",
       "      <td>0.000</td>\n",
       "      <td>0.040</td>\n",
       "      <td>0.964</td>\n",
       "    </tr>\n",
       "  </tbody>\n",
       "</table>\n",
       "</div>"
      ],
      "text/plain": [
       "                    Laying  Sitting  Standing  Walking  Walking_Downstairs  \\\n",
       "Laying                 1.0    0.000     0.000    0.000               0.000   \n",
       "Sitting                0.0    0.905     0.085    0.000               0.000   \n",
       "Standing               0.0    0.176     0.841    0.000               0.000   \n",
       "Walking                0.0    0.000     0.000    0.988               0.008   \n",
       "Walking_Downstairs     0.0    0.000     0.000    0.049               0.913   \n",
       "Walking_Upstairs       0.0    0.000     0.000    0.000               0.040   \n",
       "\n",
       "                    Walking_Upstairs  \n",
       "Laying                         0.000  \n",
       "Sitting                        0.000  \n",
       "Standing                       0.000  \n",
       "Walking                        0.007  \n",
       "Walking_Downstairs             0.022  \n",
       "Walking_Upstairs               0.964  "
      ]
     },
     "execution_count": 115,
     "metadata": {},
     "output_type": "execute_result"
    }
   ],
   "source": [
    "round(conf_df_pct_v, 3)"
   ]
  },
  {
   "cell_type": "markdown",
   "metadata": {},
   "source": [
    "Unfortunately, the random forest model still performed the best. Therefore, I would like to go with just stick with the random forest model. "
   ]
  }
 ],
 "metadata": {
  "kernelspec": {
   "display_name": "env-stats404-class0",
   "language": "python",
   "name": "env-stats404-class0"
  },
  "language_info": {
   "codemirror_mode": {
    "name": "ipython",
    "version": 3
   },
   "file_extension": ".py",
   "mimetype": "text/x-python",
   "name": "python",
   "nbconvert_exporter": "python",
   "pygments_lexer": "ipython3",
   "version": "3.7.2"
  }
 },
 "nbformat": 4,
 "nbformat_minor": 2
}
